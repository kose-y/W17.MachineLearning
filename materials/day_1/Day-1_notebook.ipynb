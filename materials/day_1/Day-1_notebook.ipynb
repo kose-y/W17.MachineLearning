{
 "cells": [
  {
   "cell_type": "markdown",
   "metadata": {},
   "source": [
    "# Machine Learning with Python\n",
    "\n",
    "Seyoon Ko\n",
    "\n",
    "#### Collaboratory workshop, 10/12/2021\n",
    "\n",
    "\n",
    "This is a notebook for the first day of the Collaboratory Workshop, _Machine Learning with Python_. For more information, go to the workshop home page:\n",
    "\n",
    "https://github.com/kose-y/W17.MachineLearning/wiki/Day-1\n",
    "\n",
    "\n",
    "#### Credits\n",
    "\n",
    "Materials based on slides created by Thiago S Mosqueiro and Renaud Dessalles.\n",
    "\n"
   ]
  },
  {
   "cell_type": "markdown",
   "metadata": {},
   "source": [
    "\n",
    "### What is Machine learning?\n",
    "\n",
    "<div>\n",
    "<img src=\"https://live.staticflickr.com/1816/30212411048_2a1d7200e2_b.jpg\" width=\"400\"/>\n",
    "</div>\n",
    "\n",
    "\n",
    "> field of study that gives computers the ability to learn without being explicitly programmed\n",
    "- Arthur Samuel, 1959\n",
    "\n",
    "The computer learns a *model* from the data.  \n",
    "- a framework trained from data to determine the output when input data are given.\n",
    "\n",
    "\n",
    "Human just defines...\n",
    "\n",
    "- _data_ that computer learns from\n",
    "- _algorithm_ - procedure that is run on data to create a model \n",
    "    - (penalized) linear regression, decision tree, support vector machine, deep neural networks, etc. \n",
    "- _hyperparameters (optional)_ - external configuration for each algorithm. e.g., how much should the computer try to simplify the model? \n"
   ]
  },
  {
   "cell_type": "markdown",
   "metadata": {},
   "source": [
    "### Goal of this Workshop\n",
    "\n",
    "- Provide basic information to become independent\n",
    "- Increase knowledge with online resources\n",
    "\n",
    "<div>\n",
    "<img src=\"../GoalFigure.png\" width=\"600\"/>\n",
    "</div>\n"
   ]
  },
  {
   "cell_type": "markdown",
   "metadata": {},
   "source": [
    "### Workshop Overview\n",
    "- __Day 1__ - Fundamentals and Motivation\n",
    "    - Overview of machine learning\n",
    "    - Nano-review of Python\n",
    "    - Introduction to Jupyter Notebook/JupyterLab\n",
    "    - Introduction to Numpy and Matplotlib\n",
    "    - Introducing Scikit-Learn’s structure\n",
    "- __Day 2__ - Classification and Cross-Validation\n",
    "- __Day 3__ - Regression and Unsupervised Learning\n",
    "\n",
    "- __Homework__ - simple data analysis tasks given throughout Days 2 and 3 -- how it works will be described later\n",
    "- __Quiz__ - Multiple choice questions given at the end of the workshop\n",
    "\n",
    "__Homework and Quiz are required for students taking this workshop to earn UCLA credits (BIOINFO 275A/B)__"
   ]
  },
  {
   "cell_type": "markdown",
   "metadata": {},
   "source": [
    "## Jupyter Notebook/JupyterLab\n",
    "\n",
    "The application you are looking at right now. \n",
    "\n",
    "\n",
    "<div>\n",
    "<img src=\"https://jupyter.org/assets/main-logo.svg\" width=\"300\"/>\n",
    "</div>\n",
    "\n",
    "- Open-source\n",
    "- Create and share documents\n",
    "- Contains live code and hypertext \"literate programming\"\n",
    "- Similar applications\n",
    "    - R: R Markdown Notebook\n",
    "    - Matlab: Matlab Live Script\n",
    "- JupyterLab is an extension to Jupyter Notebook for better user friendliness.\n",
    "    \n",
    "| | Python Console (REPL) | Jupyter Notebook/JupyterLab |\n",
    "|:---|:---|:---|\n",
    "| Pros | By default<br>Accessible by SSH<br>Rapidly available | Sharable<br>Can plot and keep figures<br>User friendly |\n",
    "| Cons | Not sharable<br>Cannot contain figures<br>Not ergonomic | Need to be installed<br>Not suitable for large projects|\n",
    "\n",
    "\n",
    "- Jupyter Notebook is great for short projects (teaching, data analysis, etc.)\n",
    "- The name Jupyter stands for Julia, Python, and R: one may install kernels for languages other than Python, including Julia and R.\n",
    "- Jupyter Notebook is included in the Anaconda distribution of Python\n"
   ]
  },
  {
   "cell_type": "markdown",
   "metadata": {},
   "source": [
    "### Let's get started: \n",
    "#### Option 1: Local installation\n",
    "- Open Anaconda Navigator.\n",
    "    - Mac: Open Spotlight Search (Command + Space bar) and search \"Anaconda Navigator\"\n",
    "    - Windows: Look for Anaconda in your Start menu. \n",
    "- Launch JupyterLab. \n",
    "\n",
    "#### Option 2: Using Binder \n",
    "If local installation fails, we can run the notebook via a cloud service. The link is provided in the course website. \n"
   ]
  },
  {
   "cell_type": "markdown",
   "metadata": {},
   "source": [
    "Once launched, the Jupyter Dashbord opens in a web browser. \n",
    "<!--Why web page? It's easier to maintain, compared to creating a separate app for each OS.-->\n",
    "- Files relative to your home directory is displayed. \n",
    "- You can create folders and a new notebook.\n",
    "\n",
    "In a notebook, you can write/edit \"cells\" of code or write a cell with a text, markdown-formatted. \n",
    "- https://www.ibm.com/docs/en/watson-studio-local/1.2.3?topic=notebooks-markdown-jupyter-cheatsheet for some syntax."
   ]
  },
  {
   "cell_type": "markdown",
   "metadata": {},
   "source": [
    "When you open a notebook, you will see the notebook interface.\n",
    "\n",
    "You can run code in a cell using the \"Run\" button in the toolbar or by pressing `Shift + Enter` on the keyboard.\n"
   ]
  },
  {
   "cell_type": "code",
   "execution_count": null,
   "metadata": {},
   "outputs": [],
   "source": [
    "x = 5*3 + 2"
   ]
  },
  {
   "cell_type": "markdown",
   "metadata": {},
   "source": [
    "If the last line of the cell assigns something (`x = ...`), nothing is displayed. Otherwise, the result of the last line is displayed."
   ]
  },
  {
   "cell_type": "code",
   "execution_count": null,
   "metadata": {},
   "outputs": [],
   "source": [
    "y = 7*x**2 + 0.6*x\n",
    "z = 1/x # even if `x` is an integer, the result is floating-point\n",
    "y*z"
   ]
  },
  {
   "cell_type": "markdown",
   "metadata": {},
   "source": [
    "Another way to display information: using `print()` function"
   ]
  },
  {
   "cell_type": "code",
   "execution_count": null,
   "metadata": {},
   "outputs": [],
   "source": [
    "print(y * z)"
   ]
  },
  {
   "cell_type": "code",
   "execution_count": null,
   "metadata": {},
   "outputs": [],
   "source": [
    "x = range(10) # assign x a range up to 10.\n",
    "for element in x:\n",
    "    print(\"Element\", element)"
   ]
  },
  {
   "cell_type": "markdown",
   "metadata": {},
   "source": [
    "\n",
    "What happens if we execute the second code cell again after running the fourth code cell?\n",
    "\n",
    "    ---------------------------------------------------------------------------\n",
    "    TypeError                                 Traceback (most recent call last)\n",
    "    <ipython-input-5-54fa71c9de4e> in <module>\n",
    "    ----> 1 y = 7*x**2 + 0.6*x\n",
    "          2 z = 1/x\n",
    "          3 y*z\n",
    "\n",
    "    TypeError: unsupported operand type(s) for ** or pow(): 'range' and 'int'\n",
    "    \n",
    "    \n",
    "__CAUTION: Execution order is important.__"
   ]
  },
  {
   "cell_type": "markdown",
   "metadata": {},
   "source": [
    "__Kernel__: There is a \"hidden console\" behind each running notebook. \n",
    "\n",
    "When you run a code cell, that code is executed within the kernel. Any output is returned back to the cell to be displayed. The kernel’s state persists over time and between cells — it pertains to the document as a whole and not individual cells."
   ]
  },
  {
   "cell_type": "markdown",
   "metadata": {},
   "source": [
    "After running the third code cell, `x` is no longer a number, it's a range. So if we go back to the second code cell, we get an error.\n",
    "\n",
    "__Whenever you go back, make sure to run all the relevant cells again.__"
   ]
  },
  {
   "cell_type": "markdown",
   "metadata": {},
   "source": [
    "### Restarting a notebook\n",
    "\n",
    "`Kernel > Restart`. You can restart a notebook: it's similar to exit and reopen the Python console. All the variables will be cleared.\n",
    "\n",
    "- `Restart & Clear Output`: restart and remove printed outputs from the notebook\n",
    "- `Restart & Run All`: restart kernel and rerun all the cells, sequentially from top to bottom. \n",
    "- `Interrupt`: stop executing the cell currently running. Similar to pressing `Ctrl + C` in the console. Useful when the kernel hangs or trapped in infinite loop, etc. "
   ]
  },
  {
   "cell_type": "markdown",
   "metadata": {},
   "source": [
    "### Adding a text comment\n",
    "\n",
    "You can insert a cell using `Insert > Insert Cell Above` or `Insert > Insert Cell Below`, or the \"+\" button on the toolbar. \n",
    "\n",
    "You can change the type of the cell by clicking the drop-down menu on the toolbar between `Code`, `Markdown`, etc. \n",
    "\n",
    "This is some text in a markdown cell. We can even use formulas (TeX-formatted):\n",
    "$$\\theta = \\frac{[L]^n}{K_d+[l]^n}$$"
   ]
  },
  {
   "cell_type": "markdown",
   "metadata": {},
   "source": [
    "### Some Shortcuts \n",
    "* Useful to know some keyboard shortcuts. I frequently use\n",
    "    * `Shift + Enter`: execute current cell. \n",
    "    * `b`: create a cell below current cell.\n",
    "    * `a`: create a cell above current cell.  \n",
    "    * `y`: change cell to code.  \n",
    "    * `m`: change cell to Markdown.  \n",
    "    Check more shortcuts in menu `Help` -> `Keyboard Shortcuts`.\n",
    "\n",
    "\n",
    "* Notebook can be **converted to other formats** such as html, LaTeX, Markdown, Python code, and many others, via menu `File` -> `Download as`. For your homework, please submit both notebook (ipynb) and html.\n"
   ]
  },
  {
   "cell_type": "markdown",
   "metadata": {},
   "source": [
    "### Saving your notebook\n",
    "\n",
    "Regularly, Jupyter Notebook saves itself automatically. You may force-save yourself by pressing `Ctrl+S` (Windows) or `Cmd+S` (Mac)."
   ]
  },
  {
   "cell_type": "markdown",
   "metadata": {},
   "source": [
    "### Properly close your notebook\n",
    "Just closing the window does not close the running kernel. It may take up memory if not closed properly. On the Dashbord, you will see the green icon indicating the kernel is still running. \n",
    "\n",
    "`File > Close and Halt` to close the notebook properly. The icon in the dashbord will turn gray. "
   ]
  },
  {
   "cell_type": "markdown",
   "metadata": {},
   "source": [
    "### Re-opening a notebook\n",
    "\n",
    "You may click on a closed notebook to open it again. The output will be still there. _However, kernel has been restarted from scratch, with no cells executed so far._\n",
    "\n",
    "`Cell > Run All` to run all the cells again. "
   ]
  },
  {
   "cell_type": "markdown",
   "metadata": {},
   "source": [
    "### Examples of cool notebooks\n",
    "\n",
    "Provided through course webpage. "
   ]
  },
  {
   "cell_type": "markdown",
   "metadata": {},
   "source": [
    "See also: \n",
    "\n",
    "https://www.dataquest.io/blog/jupyter-notebook-tutorial/"
   ]
  },
  {
   "cell_type": "markdown",
   "metadata": {},
   "source": [
    "# Important Libraries in Machine Learning\n",
    "\n",
    "## Libraries in Python\n",
    "\n",
    "Libraries are important characteristic of how Python works: each application has its libraries.\n",
    "\n",
    "| Package | Description | Logo |\n",
    "|:---:|:---|:---:|\n",
    "| __Numpy__ | Numerical arrays | <img src=\"https://numpy.org/doc/stable/_static/numpylogo.svg\" width=\"300\"/> |\n",
    "| Scipy | Scientific Python<br>User-friendly and efficient numerical routines:<br> numerical integration, interpolation, optimization, linear algebra, and statistics | <img src=\"http://scipy.github.io/devdocs/_static/scipyshiny_small.png\" width=\"200\"/> |\n",
    "| __Matplotlib__ | Plotting | <img src=\"https://matplotlib.org/_static/logo2_compressed.svg\" width=\"300\"/>|\n",
    "| Pandas | Data analytics <br> R-like data frames | <img src=\"https://upload.wikimedia.org/wikipedia/commons/thumb/e/ed/Pandas_logo.svg/1024px-Pandas_logo.svg.png\" width=\"300\"/> |\n",
    "| __Scikit-learn__ | Machine learning | <img src=\"https://upload.wikimedia.org/wikipedia/commons/thumb/0/05/Scikit_learn_logo_small.svg/2880px-Scikit_learn_logo_small.svg.png\" width=\"300\"/> | \n",
    "\n",
    "All the packages above are included in Anaconda distribution. Packages used in this workshop are in bold.\n",
    "\n",
    "\n",
    "\n",
    "Next, we will explore two key libraries used not only to Machine Learning, but also to any quantitative project written in Python. While Numpy is a library for optimized matrix operations, Matplotlib allows you to create virtually any visualization (2-D plots, scatter plots, bar plots, etc).\n",
    "\n",
    "Let's start with Numpy."
   ]
  },
  {
   "cell_type": "markdown",
   "metadata": {},
   "source": [
    "## NumPy\n",
    "\n",
    "In standard python, the data collecitons are the `list`s. \n",
    "\n",
    "| Advantages | Disadvantages (for scientists) |\n",
    "|:---|:---|\n",
    "|- Can contain different types of objects<br>- Easy insertion<br>- Easy concatenation |- Sum of two lists is concatenation, not vector addition<br>- Slow for large lists<br>- No useful function (mean, sum, variance, maximum, etc.)|\n",
    "\n",
    "Scientists would like an object closer to the notion of vector or matrix. NumPy implements that.\n",
    "Thus, nearly all other scientific libraries in Python are based on NumPy. (dubbed \"NumPy ecosystem\")\n",
    "\n",
    "\n",
    "NumPy is a library for large multidimensional arrays and matrices, and math operations with them. "
   ]
  },
  {
   "cell_type": "markdown",
   "metadata": {},
   "source": [
    "To use numpy in your code, simply use the import statement in the next cell:"
   ]
  },
  {
   "cell_type": "code",
   "execution_count": null,
   "metadata": {},
   "outputs": [],
   "source": [
    "import numpy"
   ]
  },
  {
   "cell_type": "markdown",
   "metadata": {},
   "source": [
    "To create a NumPy array, use `variable = numpy.array(Array_Like)`. "
   ]
  },
  {
   "cell_type": "code",
   "execution_count": null,
   "metadata": {},
   "outputs": [],
   "source": [
    "a = [1,2,3,4,5]\n",
    "print( type(a) )   # displays the type of the variable a\n",
    "\n",
    "b = numpy.array( [1,2,3,4,5] )\n",
    "print( type(b) )   # displays the type of the variable b"
   ]
  },
  {
   "cell_type": "markdown",
   "metadata": {},
   "source": [
    "We are going to use `numpy` a lot, and five letter seems to be too much to type each time... It is extremely common to rename it as `np` (just a nickname)."
   ]
  },
  {
   "cell_type": "code",
   "execution_count": null,
   "metadata": {},
   "outputs": [],
   "source": [
    "import numpy as np  # allows user to use np instead of numpy\n",
    "\n",
    "c = np.array( [5,4,3,2,1] )\n",
    "print( type(c) )    # displays the type of the variable c"
   ]
  },
  {
   "cell_type": "markdown",
   "metadata": {},
   "source": [
    "Using mathematical operations on lists vs. numpy arrays:"
   ]
  },
  {
   "cell_type": "code",
   "execution_count": null,
   "metadata": {},
   "outputs": [],
   "source": [
    "print(\"Sum of lists: \", a + a)\n",
    "\n",
    "print(\"Sum of NumPy arrays: \", b + c )"
   ]
  },
  {
   "cell_type": "code",
   "execution_count": null,
   "metadata": {},
   "outputs": [],
   "source": [
    "print(\"Original array: \", b)\n",
    "print(\"Adding a constant: \", b + 7.1 )\n",
    "print(\"Multiplying a constant: \", b*2.5 )\n",
    "print(\"Exponentiation: \", b ** 3 )\n",
    "print(\"Element-wise product: \", b*c )\n",
    "print(\"Element-wise division: \", b/c )\n",
    "print(\"Element-wise modulo: \", b % c )"
   ]
  },
  {
   "cell_type": "code",
   "execution_count": null,
   "metadata": {},
   "outputs": [],
   "source": [
    "print(\"Elementwise exponential: \", np.exp(b) )\n",
    "print(\"Elementwise sine: \", np.sin(b) )\n",
    "print(\"Elementwise cosine: \", np.cos(b) )"
   ]
  },
  {
   "cell_type": "markdown",
   "metadata": {},
   "source": [
    "Selecting elements and sets of elements from your numpy array (same as in list):"
   ]
  },
  {
   "cell_type": "code",
   "execution_count": null,
   "metadata": {},
   "outputs": [],
   "source": [
    "print(\"First element in b: \", b[0] )\n",
    "print(\"Second element in b: \", b[1] )\n",
    "print(\"Last element in b: \", b[-1] )\n",
    "print(\"All elements in b: \", b[:] ) \n",
    "print(\"Elements 1, 2, and 3: \", b[1:4] ) # last one doesn't count!\n",
    "print(\"From 0 to end in steps of 2, except for the last one: \", b[0:-1:2] )\n",
    "print(\"From 0 to end in steps of 2: \", b[0::2] )\n",
    "print(\"Reverse b: \", b[::-1] )"
   ]
  },
  {
   "cell_type": "markdown",
   "metadata": {},
   "source": [
    "### Attributes and Methods\n",
    "\n",
    "NumPy arrays are objects: they have __attributes__ and __methods__.\n",
    "- __Attributes__: Some properties like shape, length, number of dimensions, etc. __syntax: `array.attribute`__\n",
    "- __Methods__: \"Actions\" (or functions) applied to or performed on the object. __syntax: `array.method(arg1, arg2, etc.)`__"
   ]
  },
  {
   "cell_type": "code",
   "execution_count": null,
   "metadata": {},
   "outputs": [],
   "source": [
    "b.size # attribute: length, number of elements"
   ]
  },
  {
   "cell_type": "code",
   "execution_count": null,
   "metadata": {},
   "outputs": [],
   "source": [
    "b.ndim # attribute: number of dimensions "
   ]
  },
  {
   "cell_type": "code",
   "execution_count": null,
   "metadata": {},
   "outputs": [],
   "source": [
    "b.shape # attribute: tuple for size of each dimension"
   ]
  },
  {
   "cell_type": "code",
   "execution_count": null,
   "metadata": {},
   "outputs": [],
   "source": [
    "b.sum() # method: sum of elements"
   ]
  },
  {
   "cell_type": "markdown",
   "metadata": {},
   "source": [
    "A list of NumPy Array (`numpy.ndarray`)'s attributes and methods? You can look them up online. \n",
    "https://numpy.org/doc/stable/reference/generated/numpy.ndarray.html"
   ]
  },
  {
   "cell_type": "markdown",
   "metadata": {},
   "source": [
    "### Other ways to create an array\n",
    "\n",
    "- Function `np.arange(start, stop, step)` (\"array range\". argument can be floats.)"
   ]
  },
  {
   "cell_type": "code",
   "execution_count": null,
   "metadata": {},
   "outputs": [],
   "source": [
    "np.arange(1,5,0.5)"
   ]
  },
  {
   "cell_type": "markdown",
   "metadata": {},
   "source": [
    "- Function `np.linspace(start, stop, subdivisions)`: linearly spacing between start and stop."
   ]
  },
  {
   "cell_type": "code",
   "execution_count": null,
   "metadata": {},
   "outputs": [],
   "source": [
    "np.linspace(0,10,4) "
   ]
  },
  {
   "cell_type": "markdown",
   "metadata": {},
   "source": [
    "_Hint: you can press tab key for autocompletion_"
   ]
  },
  {
   "cell_type": "markdown",
   "metadata": {},
   "source": [
    "- Function `np.ones(size)` and `np.zeros(size)`: an array filled with ones or zeroes."
   ]
  },
  {
   "cell_type": "code",
   "execution_count": null,
   "metadata": {},
   "outputs": [],
   "source": [
    "np.ones(5)"
   ]
  },
  {
   "cell_type": "code",
   "execution_count": null,
   "metadata": {},
   "outputs": [],
   "source": [
    "np.zeros(5)"
   ]
  },
  {
   "cell_type": "markdown",
   "metadata": {},
   "source": [
    "### Two (or higher)-dimensional arrays\n",
    "\n",
    "Two dimensional arrays can be created using nested lists (or list of lists). "
   ]
  },
  {
   "cell_type": "code",
   "execution_count": null,
   "metadata": {},
   "outputs": [],
   "source": [
    "A = np.array([[1,2,3,4],[10,20,30,40],[100,200,300,400]])\n",
    "print(\"The array A:\\n\",A)\n",
    "print(\"Shape of A:\",A.shape)\n",
    "print(\"Number of dimensions of A:\",A.ndim)"
   ]
  },
  {
   "cell_type": "markdown",
   "metadata": {},
   "source": [
    "One may also create a higher-dimensional array"
   ]
  },
  {
   "cell_type": "code",
   "execution_count": null,
   "metadata": {},
   "outputs": [],
   "source": [
    "B = A.reshape(3, 2, 2)\n",
    "print(\"The array B:\\n\",B)\n",
    "print(\"Shape:\",B.shape)\n",
    "print(\"Ndim:\",B.ndim)"
   ]
  },
  {
   "cell_type": "code",
   "execution_count": null,
   "metadata": {},
   "outputs": [],
   "source": [
    "B = np.arange(10)\n",
    "print(\"The array B:\\n\",B)\n",
    "print(\"Shape:\",B.shape)\n",
    "print(\"Ndim:\",B.ndim)"
   ]
  },
  {
   "cell_type": "code",
   "execution_count": null,
   "metadata": {},
   "outputs": [],
   "source": [
    "B = B.reshape((10,1))\n",
    "print(\"The array B:\\n\",B)\n",
    "print(\"Shape:\",B.shape)\n",
    "print(\"Ndim:\",B.ndim)"
   ]
  },
  {
   "cell_type": "markdown",
   "metadata": {},
   "source": [
    "### Indexing multidimensional arrays\n",
    "\n",
    "- To access an element at position (i, j): `array[i, j]`\n",
    "- May select an entire column or row using a colon: `array[i, :]` for a row, `array[:, j]` for a column. \n",
    "- May also use a slice: e.g., `array[0:2, :]`. "
   ]
  },
  {
   "cell_type": "code",
   "execution_count": null,
   "metadata": {},
   "outputs": [],
   "source": [
    "print(\"Array A:\\n\",A)\n",
    "print(\"Element at pos (1,2):\",A[1,2],'\\n')\n",
    "print(\"Row #2 of A:\\n\",A[2,:],'\\n')\n",
    "print(\"Column #1 of A:\\n\",A[:,1],'\\n')\n"
   ]
  },
  {
   "cell_type": "markdown",
   "metadata": {},
   "source": [
    "__Exercise__: How would you reverse the order of columns in matrix `A`?"
   ]
  },
  {
   "cell_type": "code",
   "execution_count": null,
   "metadata": {},
   "outputs": [],
   "source": [
    "# Fill in here"
   ]
  },
  {
   "cell_type": "markdown",
   "metadata": {},
   "source": [
    "### Accessing elements by logical tests"
   ]
  },
  {
   "cell_type": "markdown",
   "metadata": {},
   "source": [
    "Let's recall how to perform _logical tests_ in Python."
   ]
  },
  {
   "cell_type": "code",
   "execution_count": null,
   "metadata": {},
   "outputs": [],
   "source": [
    "print( A > 25 )"
   ]
  },
  {
   "cell_type": "markdown",
   "metadata": {},
   "source": [
    "We can select elements based on the result of a logical test:"
   ]
  },
  {
   "cell_type": "code",
   "execution_count": null,
   "metadata": {},
   "outputs": [],
   "source": [
    "print( A[A > 25] )"
   ]
  },
  {
   "cell_type": "markdown",
   "metadata": {},
   "source": [
    "__Exercise__:  Replace all odd numbers in `arr` with -1.\n",
    "\n",
    "_Hint: you can assign values to a subsetted array._ "
   ]
  },
  {
   "cell_type": "code",
   "execution_count": null,
   "metadata": {},
   "outputs": [],
   "source": [
    "arr = np.array([0, 1, 2, 3, 4, 5, 6, 7, 8, 9])"
   ]
  },
  {
   "cell_type": "code",
   "execution_count": null,
   "metadata": {},
   "outputs": [],
   "source": [
    "# Fill in here"
   ]
  },
  {
   "cell_type": "markdown",
   "metadata": {},
   "source": [
    "## Matplotlib"
   ]
  },
  {
   "cell_type": "markdown",
   "metadata": {},
   "source": [
    "Scientists draw graphs all the time... and with the power of Matplotlib, one can even do this.\n",
    "\n",
    "Video from:\n",
    "https://dx.doi.org/10.1038%2Fs41467-017-01741-8 "
   ]
  },
  {
   "cell_type": "code",
   "execution_count": null,
   "metadata": {},
   "outputs": [],
   "source": [
    "# This video is not included in the repo\n",
    "from IPython.display import Video\n",
    "\n",
    "Video(\"/Users/kose/Downloads/41467_2017_1741_MOESM3_ESM.mp4\", embed=True, width=600)"
   ]
  },
  {
   "cell_type": "markdown",
   "metadata": {},
   "source": [
    "We will explore the basics of Matplotlib to create simple plots through `pyplot` subpackage of `matplotlib`. \n",
    "\n",
    "Basic usage: `plt.plot(y)` to plot an array, and `plt.show()` to display the figure.  "
   ]
  },
  {
   "cell_type": "code",
   "execution_count": null,
   "metadata": {},
   "outputs": [],
   "source": [
    "import matplotlib.pyplot as plt"
   ]
  },
  {
   "cell_type": "code",
   "execution_count": null,
   "metadata": {},
   "outputs": [],
   "source": [
    "y = np.array([0,10,3,4,2])\n",
    "\n",
    "plt.plot(y)\n",
    "plt.show()"
   ]
  },
  {
   "cell_type": "markdown",
   "metadata": {},
   "source": [
    "### Let's plot something complicated"
   ]
  },
  {
   "cell_type": "markdown",
   "metadata": {},
   "source": [
    "Matplotlib is a powerful tool\n",
    "- In a few lines, you can have a really nice results. \n",
    "\n",
    "To plot simple sinusoidal curves:"
   ]
  },
  {
   "cell_type": "code",
   "execution_count": null,
   "metadata": {},
   "outputs": [],
   "source": [
    "x = np.arange(15)\n",
    "y1 = np.sin(0.5*x)\n",
    "y2 = np.cos(0.5*x)\n",
    "plt.plot(x, y1)\n",
    "plt.plot(x, y2)\n",
    "plt.show()"
   ]
  },
  {
   "cell_type": "markdown",
   "metadata": {},
   "source": [
    "Let's decorate it further. `plot()` functions has a plenty of keyword arguments to change configurations. "
   ]
  },
  {
   "cell_type": "code",
   "execution_count": null,
   "metadata": {},
   "outputs": [],
   "source": [
    "plt.plot(x, y1, 'o--', markersize=10, linewidth=1.2, # circular markers, dashed line \n",
    "            color='r', label='Sine')                 # 'r' for red.\n",
    "plt.plot(x, y2, 's--', markersize=10, linewidth=1.2, # square markers, dashed line\n",
    "            color='k', label='Cosine')               # 'k' for black.\n",
    "\n",
    "plt.xlabel('Time (s)')\n",
    "plt.ylabel('Fluorescence (a.u.)')\n",
    "\n",
    "plt.yticks([-1.0,-0.5,0.0,0.5,1.0])\n",
    "\n",
    "plt.legend(frameon=False) # legend appears without rectangular frame\n",
    "plt.show()"
   ]
  },
  {
   "cell_type": "markdown",
   "metadata": {},
   "source": [
    "To export a plot, here is the usual structure:\n",
    "\n",
    "```python\n",
    "f = plt.figure( figsize=(5,3) )\n",
    "\n",
    "...\n",
    "plotting...\n",
    "...\n",
    "\n",
    "plt.tight_layout()\n",
    "plt.savefig('Fig1.png', dpi=300)\n",
    "```\n",
    "\n",
    "Next we plot the same functions from last cell, but save it as a PNG file."
   ]
  },
  {
   "cell_type": "code",
   "execution_count": null,
   "metadata": {},
   "outputs": [],
   "source": [
    "f = plt.figure( figsize=(5,3) )\n",
    "\n",
    "x = np.arange(15)\n",
    "y1 = np.sin(0.5*x)\n",
    "y2 = np.cos(0.5*x)\n",
    "\n",
    "plt.plot(x, y1, 'o--', markersize=10, linewidth=1.2, \n",
    "            color='r', label='Sine')\n",
    "plt.plot(x, y2, 's--', markersize=10, linewidth=1.2, \n",
    "            color='k', label='Cosine')\n",
    "\n",
    "plt.xlabel('Time (s)')\n",
    "plt.ylabel('Fluorescence (a.u.)')\n",
    "\n",
    "plt.yticks([-1.0,-0.5,0.0,0.5,1.0])\n",
    "\n",
    "plt.legend(frameon=False) # legend appears without rectangular frame\n",
    "plt.tight_layout() # fit to the frame. ensure all the figure will be captured\n",
    "\n",
    "# instead of plt.show(). \n",
    "plt.savefig('Fig1.png', dpi=300) # dpi: dots per inch \n",
    "plt.close()\n",
    "\n",
    "print(\"Figure saved.\")"
   ]
  },
  {
   "cell_type": "markdown",
   "metadata": {},
   "source": [
    "### Matplotlib gallery\n",
    "\n",
    "One can do wonderful complicated graphs with Matplotlib. \n",
    "\n",
    "- Check their gallery on the website. https://matplotlib.org/stable/gallery/index.html\n",
    "- Click on any example to have the code. "
   ]
  },
  {
   "cell_type": "markdown",
   "metadata": {},
   "source": [
    "## Overview of Machine Learning"
   ]
  },
  {
   "cell_type": "markdown",
   "metadata": {},
   "source": [
    "### Types of learning\n",
    "\n",
    "- Supervised learning -  with pairs of example inputs their desired outputs (*labels*)\n",
    "    - Classification: e.g., decision tree, $k$-nearest neighbor classifier, naive Bayes\n",
    "    - Regression: e.g., linear regression \n",
    "- Unsupervised learning - with unlabeled data\n",
    "    - Clustering: e.g., $k$-means, density-based clustering\n",
    "- Semi-supervised learning, reinforcement learning, etc.\n",
    "\n",
    "In this workshop, we focus heavily on supervised learning. "
   ]
  },
  {
   "cell_type": "markdown",
   "metadata": {},
   "source": [
    "### Supervised learning\n",
    "\n",
    "Requires examples (__training dataset__) from which the model will learn to reproduce the patterns \n",
    "\n",
    "<img src=\"supervised_learning.png\" width=\"600\"/>\n",
    "\n",
    "\n",
    "- Classification: e.g., Create a model that identifies cells by their shape  \n",
    "<img src=\"https://upload.wikimedia.org/wikipedia/commons/2/20/Svm_separating_hyperplanes.png\" width=\"300\"/>\n",
    "\n",
    "- Regression: e.g., Create a function that estimates the cell volume \n",
    "<img src=\"https://upload.wikimedia.org/wikipedia/commons/thumb/3/3a/Linear_regression.svg/2560px-Linear_regression.svg.png\" width=\"300\"/>"
   ]
  },
  {
   "cell_type": "markdown",
   "metadata": {},
   "source": [
    "### Supervised learning: Classification\n",
    "\n",
    "A task of identifying the category each input belongs to (categories predefined)\n",
    "\n",
    "Example: \n",
    "\n",
    "- identify the type of fruit based on its width and height, e.g. lemon vs. orange\n",
    "- identify the type of cancer cell based on its shape e.g. benign cell vs. malignant cell\n",
    "\n",
    "\n",
    "- *target*: category we want to identify\n",
    "- to do so, we look at *features*: individual measurable properties of objects studied\n",
    "    - width, height, etc. of a fruit or cell.\n",
    "    \n",
    "    \n",
    "Procedure\n",
    "\n",
    "- First, model learns from the example how to discriminate between classes\n",
    "- When the model is trained, we use it to make predictions\n",
    "\n",
    "### Supervised learning: Regression\n",
    "\n",
    "Estimates the value of a continous variable."
   ]
  },
  {
   "cell_type": "markdown",
   "metadata": {},
   "source": [
    "### Model validation\n",
    "\n",
    "You are trying to perform a regression using these data... Which model would you use?\n",
    "\n",
    "<div>\n",
    "<img src=\"regression_data.png\" width=\"500\"/>\n",
    "</div>\n",
    "\n",
    "\n",
    "\n",
    "#### Ideal solution\n",
    "\n",
    "<div>\n",
    "<img src=\"regression_ideal.png\" width=\"500\"/>\n",
    "</div>\n",
    "\n",
    "#### Underfitting\n",
    "\n",
    "<div>\n",
    "<img src=\"regression_underfit.png\" width=\"500\"/>\n",
    "</div>\n",
    "$$y = \\beta_0 + \\beta_1 X$$\n",
    "- The model does not take full advantage of data\n",
    "- Something is missing\n",
    "\n",
    "#### Overfitting\n",
    "<div>\n",
    "<img src=\"regression_overfit.png\" width=\"500\"/>\n",
    "</div>\n",
    "$$y = \\beta_0 + \\beta_1 X + \\beta_2 X^2 + \\cdots \\beta_{20} X^{20}$$\n",
    "- The model is too complicated or complex than the data requires \n",
    "\n",
    "#### Generalization\n",
    "\n",
    "To avoid overfitting and underfitting, try to __generalize__ the results.\n",
    "\n",
    "Say, some new data are collected. \n",
    "Overfitted data perfectly describes the training data, but it fails with the new data. \n",
    "\n",
    "<div>\n",
    "<img src=\"regression_overfit_test.png\" width=\"500\"/>\n",
    "</div>\n",
    "\n",
    "An ideal solution remains a reasonable performance. \n",
    "\n",
    "<div>\n",
    "<img src=\"regression_ideal_test.png\" width=\"500\"/>\n",
    "</div>\n",
    "\n",
    "#### Overfitting and Underfitting\n",
    "\n",
    "- __Underfitting__: when a model cannot adequately capture the underlying structure of the data\n",
    "    - Solution: Choose another model, something with higher complexity\n",
    "- __Overfitting__: when a model reproduces nearly perfectly a particular set of data, and likely fails to explain new data points or predict future observations\n",
    "    - Solution: Model selection and cross validation\n",
    "    \n",
    "### Machine learning pipeline\n",
    "\n",
    "<div>\n",
    "<img src=\"../MLpipeline.png\" width=\"500\"/>\n",
    "</div>"
   ]
  },
  {
   "cell_type": "markdown",
   "metadata": {},
   "source": [
    "## Example of classifier"
   ]
  },
  {
   "cell_type": "markdown",
   "metadata": {},
   "source": [
    "### Decision Tree\n",
    "Classification represented by a simple flowchart-style structure. \n",
    "\n",
    "\"learning rule\" is very simple: \n",
    "\n",
    "1. Select a feature\n",
    "2. Select a threshold that separates data points from different classes *the best* \n",
    "\n",
    "1 and 2 are repeated until we have a satisfactory model (stopping criteria)\n",
    "\n",
    "<div>\n",
    "<img src=\"decision_tree.png\" width=\"500\"/>\n",
    "</div>\n",
    "image source: https://github.com/Harvard-IACS/2020-CS109A/blob/master/content/lectures/lecture22/slides/Lecture22_decision_trees.pdf\n",
    "\n",
    "- _root_: the node on the top of the tree i.e. first overall splitting\n",
    "- _leaf node_: the nodes at the bottom of the tree, no more splitting\n",
    "- _depth_ of tree: maximum distance between the root and leaf nodes"
   ]
  },
  {
   "cell_type": "markdown",
   "metadata": {},
   "source": [
    "<!--### Random Forests\n",
    "__Random Forests__ are composed of many decision trees. \n",
    "- Each tree only considers a subset of the features\n",
    "\n",
    "The prediction of a random forest is determined by a majority vote among the decision trees. -->"
   ]
  },
  {
   "cell_type": "markdown",
   "metadata": {},
   "source": [
    "## Getting started with Scikit-Learn\n",
    "\n",
    "Construct decision tree on the Breast Cancer Wisconsin Dataset (included in scikit-learn)"
   ]
  },
  {
   "cell_type": "code",
   "execution_count": null,
   "metadata": {},
   "outputs": [],
   "source": [
    "import sklearn\n",
    "import matplotlib.pyplot as plt\n",
    "\n",
    "import sklearn.datasets\n",
    "bcancer = sklearn.datasets.load_breast_cancer()"
   ]
  },
  {
   "cell_type": "markdown",
   "metadata": {},
   "source": [
    "What is in this dataset?"
   ]
  },
  {
   "cell_type": "code",
   "execution_count": null,
   "metadata": {},
   "outputs": [],
   "source": [
    "print(\"Features: \", bcancer.data.shape)\n",
    "print(\"Target: \", bcancer.target.shape) "
   ]
  },
  {
   "cell_type": "markdown",
   "metadata": {},
   "source": [
    "Quick reminder:\n",
    "\n",
    "* \"Features\" in Machine Learning is a set of quantitative characteristics (or measures) about each of your samples. Models will use features to make predictions about a target variable. In the Breast Cancer Wisconsin Dataset, there are 30 different features and 569 samples.\n",
    "\n",
    "* \"Target\" is our objective: our model should use the features to predict the target. During the training, the target is known and also called _ground truth_.\n",
    "\n",
    "Let's take a look at the targets"
   ]
  },
  {
   "cell_type": "code",
   "execution_count": null,
   "metadata": {},
   "outputs": [],
   "source": [
    "print( bcancer.target )"
   ]
  },
  {
   "cell_type": "markdown",
   "metadata": {},
   "source": [
    "As you can see, they are always 0 or 1, indicating malignant or benign (respectively).\n",
    "\n",
    "Let's inspect one of the samples. The very first sample, which has target 0 (i.e. malignant), has the following features:"
   ]
  },
  {
   "cell_type": "code",
   "execution_count": null,
   "metadata": {},
   "outputs": [],
   "source": [
    "bcancer.data[0] # a single row of a matrix"
   ]
  },
  {
   "cell_type": "markdown",
   "metadata": {},
   "source": [
    "The features were measured based on microscopic image the nuclei of cells extracted from patients:\n",
    "- radius\n",
    "- texture \n",
    "- perimeter\n",
    "- area\n",
    "- smoothness \n",
    "- compactness \n",
    "- concavity \n",
    "- concave points \n",
    "- symmetry\n",
    "- fractal dimension "
   ]
  },
  {
   "cell_type": "code",
   "execution_count": null,
   "metadata": {},
   "outputs": [],
   "source": [
    "bcancer.feature_names"
   ]
  },
  {
   "cell_type": "markdown",
   "metadata": {},
   "source": [
    "So our goal is to create a model that receives numbers like these, and predict whether they are from a malignant or benign cancer cells."
   ]
  },
  {
   "cell_type": "markdown",
   "metadata": {},
   "source": [
    "We import `DecisionTreeClassifier` class from `tree` subpackage of `sklearn`: \n",
    "\n",
    "https://scikit-learn.org/stable/modules/generated/sklearn.tree.DecisionTreeClassifier.html"
   ]
  },
  {
   "cell_type": "code",
   "execution_count": null,
   "metadata": {},
   "outputs": [],
   "source": [
    "from sklearn.tree import DecisionTreeClassifier"
   ]
  },
  {
   "cell_type": "markdown",
   "metadata": {},
   "source": [
    "Next we create a model and store it in a variable:"
   ]
  },
  {
   "cell_type": "code",
   "execution_count": null,
   "metadata": {},
   "outputs": [],
   "source": [
    "bcancer_model = DecisionTreeClassifier( max_depth=4 )"
   ]
  },
  {
   "cell_type": "markdown",
   "metadata": {},
   "source": [
    "and then we fit it to the data at hand."
   ]
  },
  {
   "cell_type": "code",
   "execution_count": null,
   "metadata": {},
   "outputs": [],
   "source": [
    "bcancer_model.fit( bcancer.data, bcancer.target )"
   ]
  },
  {
   "cell_type": "markdown",
   "metadata": {},
   "source": [
    "Let's evaluate the prediction of this model on two samples: one from class 0 (malignant) and one from class 1 (benign)."
   ]
  },
  {
   "cell_type": "markdown",
   "metadata": {},
   "source": [
    "Sample 0 is a malignant tumor:"
   ]
  },
  {
   "cell_type": "code",
   "execution_count": null,
   "metadata": {},
   "outputs": [],
   "source": [
    "print( bcancer.target[0] ) # correct answer"
   ]
  },
  {
   "cell_type": "markdown",
   "metadata": {},
   "source": [
    "We can predict the label of a sample using the `predict()` method:"
   ]
  },
  {
   "cell_type": "code",
   "execution_count": null,
   "metadata": {},
   "outputs": [],
   "source": [
    "print( bcancer_model.predict( [bcancer.data[0]] ) )"
   ]
  },
  {
   "cell_type": "markdown",
   "metadata": {},
   "source": [
    "Sample 19 is a benign tumor:"
   ]
  },
  {
   "cell_type": "code",
   "execution_count": null,
   "metadata": {},
   "outputs": [],
   "source": [
    "print( bcancer.target[19] )"
   ]
  },
  {
   "cell_type": "markdown",
   "metadata": {},
   "source": [
    "__Exercise__: Predict the label of Sample 19. (I hope you try not to copy and paste the content two cells above)"
   ]
  },
  {
   "cell_type": "code",
   "execution_count": null,
   "metadata": {},
   "outputs": [],
   "source": []
  },
  {
   "cell_type": "markdown",
   "metadata": {},
   "source": [
    "<!-- print( bcancer_model.predict( [bcancer.data[19]] ) ) -->"
   ]
  },
  {
   "cell_type": "markdown",
   "metadata": {},
   "source": [
    "Why is the square bracket needed?"
   ]
  },
  {
   "cell_type": "markdown",
   "metadata": {},
   "source": [
    "We can also evaluate the prediction of your model on an entire dataset:"
   ]
  },
  {
   "cell_type": "code",
   "execution_count": null,
   "metadata": {},
   "outputs": [],
   "source": [
    "bcancer_predictions = bcancer_model.predict( bcancer.data )\n",
    "print( bcancer_predictions )"
   ]
  },
  {
   "cell_type": "markdown",
   "metadata": {},
   "source": [
    "__Exercise__: Let's compare the ground truth with the predictions evaluted above. The result is a one-dimensional boolean array filled with `True`s and `False`s."
   ]
  },
  {
   "cell_type": "code",
   "execution_count": null,
   "metadata": {},
   "outputs": [],
   "source": [
    "prediction_correctness = # Fill in here."
   ]
  },
  {
   "cell_type": "markdown",
   "metadata": {},
   "source": [
    "<!--bcancer.target == bcancer_predictions-->"
   ]
  },
  {
   "cell_type": "markdown",
   "metadata": {},
   "source": [
    "Every ```True``` above means a prediction that matched its corresponding ground truth. ```False``` elements reflect wrong predictions (also known as misclassifications). Let's visualize how many correct classifications and how many misclassifications we had with this first classifier."
   ]
  },
  {
   "cell_type": "code",
   "execution_count": null,
   "metadata": {},
   "outputs": [],
   "source": [
    "compar = prediction_correctness.astype(int) # transforms a boolean (True/False) array\n",
    "                                                             # into an integer array filled with zeros and ones\n",
    "\n",
    "plt.hist( compar, bins=3 )\n",
    "\n",
    "plt.ylabel('Count')\n",
    "plt.xticks( [0.15,0.85], ['Misclassified', 'Correctly classified'] )\n",
    "\n",
    "plt.show()"
   ]
  },
  {
   "cell_type": "markdown",
   "metadata": {},
   "source": [
    "__Exercise__: Compute misclassification rate, number of missclassifications divided by the number of samples."
   ]
  },
  {
   "cell_type": "code",
   "execution_count": null,
   "metadata": {},
   "outputs": [],
   "source": [
    "# Fill in here"
   ]
  },
  {
   "cell_type": "markdown",
   "metadata": {},
   "source": [
    "<!--(compar==0).sum()/len(compar)-->"
   ]
  },
  {
   "cell_type": "markdown",
   "metadata": {},
   "source": [
    "More than 95% of the data were classified correctly. "
   ]
  },
  {
   "cell_type": "markdown",
   "metadata": {},
   "source": [
    "### An Important Question\n",
    "Are we confident in this result?\n",
    "\n",
    "A big criticism would be... how can you tell we are not overfitting?"
   ]
  },
  {
   "cell_type": "markdown",
   "metadata": {},
   "source": [
    "On Day 2 we will explore more models and learn how to validate the model, making sure that we indeed have prediction power.\n",
    "\n"
   ]
  }
 ],
 "metadata": {
  "kernelspec": {
   "display_name": "Python 3",
   "language": "python",
   "name": "python3"
  },
  "language_info": {
   "codemirror_mode": {
    "name": "ipython",
    "version": 3
   },
   "file_extension": ".py",
   "mimetype": "text/x-python",
   "name": "python",
   "nbconvert_exporter": "python",
   "pygments_lexer": "ipython3",
   "version": "3.8.8"
  }
 },
 "nbformat": 4,
 "nbformat_minor": 4
}
