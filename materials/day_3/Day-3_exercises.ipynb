{
 "cells": [
  {
   "cell_type": "markdown",
   "id": "3056988f",
   "metadata": {},
   "source": [
    "<br />\n",
    "<br />\n",
    "\n",
    "# Exercises: Day 3\n",
    "\n",
    "<br />\n",
    "\n",
    "This notebook contains exercises for Day 3. If you are taking this workshop for UCLA credits, you will need to submit this notebook and the one for tomorrow as your homework. Please submit BOTH `.ipynb` file and the HTML (`.html`) file converted from this notebook. (`File > Export Notebook As... > HTML`)"
   ]
  },
  {
   "cell_type": "code",
   "execution_count": 2,
   "id": "31df9aa9",
   "metadata": {},
   "outputs": [],
   "source": [
    "import numpy as np\n",
    "import matplotlib.pyplot as plt"
   ]
  },
  {
   "cell_type": "markdown",
   "id": "80275a36",
   "metadata": {},
   "source": [
    "## Exercise 3: Hyperparameter tuning for ridge regression"
   ]
  },
  {
   "cell_type": "markdown",
   "id": "9ac32c93",
   "metadata": {},
   "source": [
    "Consider the data and ridge regression algorithm with 20-degree polynomials as in the class. Tune the hyperparameter $\\alpha$ using $K$-fold cross validation based on the $R^2$ measure. The steps would be similar to what we did with classifiers:"
   ]
  },
  {
   "cell_type": "markdown",
   "id": "412d894c",
   "metadata": {},
   "source": [
    "### 1) Load the datafile `Regression_Exercise_dataset.dat`"
   ]
  },
  {
   "cell_type": "markdown",
   "id": "8c1da70a",
   "metadata": {},
   "source": [
    "### 2) Split out test data"
   ]
  },
  {
   "cell_type": "markdown",
   "id": "d75b685f",
   "metadata": {},
   "source": [
    "### 3) Choose hyperparameter $\\alpha$ using 4-fold cross validation"
   ]
  },
  {
   "cell_type": "markdown",
   "id": "67049738",
   "metadata": {},
   "source": [
    "### 4) Check the final performance with the test set."
   ]
  },
  {
   "cell_type": "markdown",
   "id": "253a6b4f",
   "metadata": {},
   "source": [
    "## Exercise 4: Principal Component Analysis"
   ]
  },
  {
   "cell_type": "markdown",
   "id": "4df9deb1",
   "metadata": {},
   "source": [
    "Let's try PCA on the iris dataset."
   ]
  },
  {
   "cell_type": "code",
   "execution_count": 8,
   "id": "e2c9cd1a",
   "metadata": {},
   "outputs": [],
   "source": [
    "from sklearn.datasets import load_iris\n",
    "iris_data = load_iris()"
   ]
  },
  {
   "cell_type": "markdown",
   "id": "8858ffa0",
   "metadata": {},
   "source": [
    "We have 150 samples with four features, "
   ]
  },
  {
   "cell_type": "code",
   "execution_count": 9,
   "id": "f6846a20",
   "metadata": {},
   "outputs": [
    {
     "name": "stdout",
     "output_type": "stream",
     "text": [
      "(150, 4)\n"
     ]
    }
   ],
   "source": [
    "print( iris_data.data.shape )"
   ]
  },
  {
   "cell_type": "markdown",
   "id": "ca4f3e48",
   "metadata": {},
   "source": [
    "And we have three types of iris: setosa, versicolor, and virginica."
   ]
  },
  {
   "cell_type": "code",
   "execution_count": 6,
   "id": "313c3268",
   "metadata": {},
   "outputs": [
    {
     "data": {
      "text/plain": [
       "array([0, 0, 0, 0, 0, 0, 0, 0, 0, 0, 0, 0, 0, 0, 0, 0, 0, 0, 0, 0, 0, 0,\n",
       "       0, 0, 0, 0, 0, 0, 0, 0, 0, 0, 0, 0, 0, 0, 0, 0, 0, 0, 0, 0, 0, 0,\n",
       "       0, 0, 0, 0, 0, 0, 1, 1, 1, 1, 1, 1, 1, 1, 1, 1, 1, 1, 1, 1, 1, 1,\n",
       "       1, 1, 1, 1, 1, 1, 1, 1, 1, 1, 1, 1, 1, 1, 1, 1, 1, 1, 1, 1, 1, 1,\n",
       "       1, 1, 1, 1, 1, 1, 1, 1, 1, 1, 1, 1, 2, 2, 2, 2, 2, 2, 2, 2, 2, 2,\n",
       "       2, 2, 2, 2, 2, 2, 2, 2, 2, 2, 2, 2, 2, 2, 2, 2, 2, 2, 2, 2, 2, 2,\n",
       "       2, 2, 2, 2, 2, 2, 2, 2, 2, 2, 2, 2, 2, 2, 2, 2, 2, 2])"
      ]
     },
     "execution_count": 6,
     "metadata": {},
     "output_type": "execute_result"
    }
   ],
   "source": [
    "iris_data.target"
   ]
  },
  {
   "cell_type": "code",
   "execution_count": 7,
   "id": "230481f1",
   "metadata": {},
   "outputs": [
    {
     "data": {
      "text/plain": [
       "array(['setosa', 'versicolor', 'virginica'], dtype='<U10')"
      ]
     },
     "execution_count": 7,
     "metadata": {},
     "output_type": "execute_result"
    }
   ],
   "source": [
    "iris_data.target_names"
   ]
  },
  {
   "cell_type": "markdown",
   "id": "c1c6f327",
   "metadata": {},
   "source": [
    "### 1) Compute the covariance matrix."
   ]
  },
  {
   "cell_type": "markdown",
   "id": "ef4fcfa8",
   "metadata": {},
   "source": [
    "### 2) Fit PCA."
   ]
  },
  {
   "cell_type": "markdown",
   "id": "b30238b4",
   "metadata": {},
   "source": [
    "### 3) How much of the variance is explained by each PC?  Visualize it. What are the principal components? "
   ]
  },
  {
   "cell_type": "markdown",
   "id": "e5ce4c61",
   "metadata": {},
   "source": [
    "### 4) Perform the PCA transformation. What is the covariance matrix on the transformed space?"
   ]
  },
  {
   "cell_type": "markdown",
   "id": "84189b0d",
   "metadata": {},
   "source": [
    "### 5) Plot the samples on the first two principal components. Use different colors/markers for different kind of iris."
   ]
  }
 ],
 "metadata": {
  "kernelspec": {
   "display_name": "Python 3",
   "language": "python",
   "name": "python3"
  },
  "language_info": {
   "codemirror_mode": {
    "name": "ipython",
    "version": 3
   },
   "file_extension": ".py",
   "mimetype": "text/x-python",
   "name": "python",
   "nbconvert_exporter": "python",
   "pygments_lexer": "ipython3",
   "version": "3.8.10"
  }
 },
 "nbformat": 4,
 "nbformat_minor": 5
}
