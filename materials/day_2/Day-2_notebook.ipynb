{
 "cells": [
  {
   "cell_type": "markdown",
   "metadata": {},
   "source": [
    "# Machine Learning with Python\n",
    "\n",
    "Collaboratory workshop, 10/13/2021\n",
    "\n",
    "This is a notebook developed for the second day of the Collaboratory Workshop, Machine Learning with Python. For more information, go to the workshop home page:\n",
    "\n",
    "https://github.com/kose-y/W17.MachineLearning/wiki/Day-2"
   ]
  },
  {
   "cell_type": "markdown",
   "metadata": {},
   "source": [
    "- __Day 1__ - Fundamentals and Motivation\n",
    "- __Day 2__ - Classification and Cross-Validation\n",
    "    - Assessing the performance of your models\n",
    "    - Learning to choose and use models from Scikit-learn\n",
    "    - Properly cross-validating\n",
    "- __Day 3__ - Regression and Unsupervised Learning"
   ]
  },
  {
   "cell_type": "markdown",
   "metadata": {},
   "source": [
    "Open Jupyter Notebook and load `numpy` and `matplotlib.pyplot`. "
   ]
  },
  {
   "cell_type": "markdown",
   "metadata": {},
   "source": [
    "## A little note on numpy indexing"
   ]
  },
  {
   "cell_type": "code",
   "execution_count": 1,
   "metadata": {},
   "outputs": [],
   "source": [
    "import numpy as np\n",
    "l = [[1,2,3,4],[10,20,30,40],[100,200,300,400]]\n",
    "A = np.array(l)"
   ]
  },
  {
   "cell_type": "markdown",
   "metadata": {},
   "source": [
    "This type of indexing appeared on yesterday's workshop:"
   ]
  },
  {
   "cell_type": "code",
   "execution_count": 2,
   "metadata": {},
   "outputs": [
    {
     "data": {
      "text/plain": [
       "array([10, 20, 30, 40])"
      ]
     },
     "execution_count": 2,
     "metadata": {},
     "output_type": "execute_result"
    }
   ],
   "source": [
    "A[1]"
   ]
  },
  {
   "cell_type": "markdown",
   "metadata": {},
   "source": [
    "This is similar to how indexing works on the original nested list `l`:"
   ]
  },
  {
   "cell_type": "code",
   "execution_count": 3,
   "metadata": {},
   "outputs": [
    {
     "data": {
      "text/plain": [
       "[10, 20, 30, 40]"
      ]
     },
     "execution_count": 3,
     "metadata": {},
     "output_type": "execute_result"
    }
   ],
   "source": [
    "l[1]"
   ]
  },
  {
   "cell_type": "markdown",
   "metadata": {},
   "source": [
    "Incidentally, this is equivalent to using `A[1, :]`. "
   ]
  },
  {
   "cell_type": "markdown",
   "metadata": {},
   "source": [
    "## Installing an additional package (Optional, for local installations)\n",
    "\n",
    "Let's install another package for today's workshop: `graphviz`. This package is for visualizing graphs (or networks), a data structure consisting of nodes and edges connecting the nodes. In this workshop, it will be used for visualizing decision trees. \n",
    "\n",
    "If you are on Windows, open `Anaconda Prompt`. Ohterwise, open a terminal (also accesible on JupyterLab). Then type:\n",
    "\n",
    "```\n",
    "conda install python-graphviz\n",
    "```\n",
    "\n",
    "This is a simple way to install an anaconda-supported package. \n",
    "\n",
    "_Note_: This is already done for Binder environment."
   ]
  },
  {
   "cell_type": "markdown",
   "metadata": {},
   "source": [
    "Now, let's load packages for today's workshop:"
   ]
  },
  {
   "cell_type": "code",
   "execution_count": 4,
   "metadata": {},
   "outputs": [],
   "source": [
    "import numpy as np\n",
    "import matplotlib.pyplot as plt\n",
    "plt.rcParams[\"font.size\"] = 15 # increase font size in the figure"
   ]
  },
  {
   "cell_type": "markdown",
   "metadata": {},
   "source": [
    "## Loading the synthetic data"
   ]
  },
  {
   "cell_type": "markdown",
   "metadata": {},
   "source": [
    "Let's consider a simple but useful example:\n",
    "<div>\n",
    "<img src=\"SyntheticDataset.png\" width=\"500\"/>\n",
    "</div>\n",
    "Even if the solution is intuitive, we will use it to introduce may of the methods used in Machine Learning."
   ]
  },
  {
   "cell_type": "markdown",
   "metadata": {},
   "source": [
    "You can download this data in our [wiki](https://github.com/kose-y/W17.MachineLearning/wiki/Day-2), or using this [direct link](https://github.com/kose-y/W17.MachineLearning/raw/master/materials/day_2/Day2_testdataset.zip). This is also uploaded to Google Drive. After downloading, move the file to the direcory where your notebook is and unzip it. You should now have two files: \n",
    "\n",
    "* ```CollML_testdataset_features.dat```: contains feature values for each sample\n",
    "* ```CollML_testdataset_labels.dat```: contains the class of each sample"
   ]
  },
  {
   "cell_type": "code",
   "execution_count": 5,
   "metadata": {},
   "outputs": [],
   "source": [
    "features_origin = np.loadtxt('CollML_testdataset_features.dat')\n",
    "labels_origin = np.loadtxt('CollML_testdataset_labels.dat')"
   ]
  },
  {
   "cell_type": "markdown",
   "metadata": {},
   "source": [
    "Number of samples and features: "
   ]
  },
  {
   "cell_type": "code",
   "execution_count": 6,
   "metadata": {},
   "outputs": [
    {
     "name": "stdout",
     "output_type": "stream",
     "text": [
      "Shape of features (500, 2)\n",
      "Shape of labels (500,)\n"
     ]
    }
   ],
   "source": [
    "print(\"Shape of features\", features_origin.shape)\n",
    "print(\"Shape of labels\", labels_origin.shape)"
   ]
  },
  {
   "cell_type": "code",
   "execution_count": 7,
   "metadata": {},
   "outputs": [
    {
     "data": {
      "text/plain": [
       "array([0., 1.])"
      ]
     },
     "execution_count": 7,
     "metadata": {},
     "output_type": "execute_result"
    }
   ],
   "source": [
    "np.unique(labels_origin)   ## shows unique values in an array"
   ]
  },
  {
   "cell_type": "markdown",
   "metadata": {},
   "source": [
    "We want to create a classifier that reproduces the labels in the NumPy array _labels_ based on _features_. Based on the shapes shown above, we have 2 features, and 500 samples."
   ]
  },
  {
   "cell_type": "markdown",
   "metadata": {},
   "source": [
    "## Training-Test pipeline\n"
   ]
  },
  {
   "cell_type": "markdown",
   "metadata": {},
   "source": [
    "Before doing anyting, it is a good practice to split the dataset into training set and test set. \n",
    "\n",
    "To evaluate the performance of an algorithm after training a model objectively, we split the data into a \"training set\" and a \"test set\".\n",
    "\n",
    "- training set (learning set): used to fit the machine learning model.\n",
    "- test set: used to evaluate the fit machine learning model. \n",
    "    - Shall not be used in training, to see how well the model _generalizes_ to the data yet to be seen by the classifier. \n",
    "    - It will be our _final proof_. We will use other methods _not_ involving this test set to estimate accuracy during the creation of the model: validation set, cross validation, out-of-bag accuracy, etc.\n",
    "    \n",
    "<div>\n",
    "<img src=\"learn_test.png\" width=\"500\"/>\n",
    "</div>"
   ]
  },
  {
   "cell_type": "markdown",
   "metadata": {},
   "source": [
    "Scikit-learn has a function `train_test_split()` to do this. \n",
    "\n",
    "_Note: One can press `Shift+Tab` to see function documentation._"
   ]
  },
  {
   "cell_type": "code",
   "execution_count": 8,
   "metadata": {},
   "outputs": [],
   "source": [
    "from sklearn.model_selection import train_test_split"
   ]
  },
  {
   "cell_type": "code",
   "execution_count": 9,
   "metadata": {},
   "outputs": [],
   "source": [
    "features, features_test, labels, labels_test = train_test_split( \n",
    "                features_origin, labels_origin, test_size=0.2,\n",
    "                shuffle=False) "
   ]
  },
  {
   "cell_type": "markdown",
   "metadata": {},
   "source": [
    "It is common to shuffle the data before the split. We are putting `shuffle=False` in this notebook just to make sure that everyone has the same data split."
   ]
  },
  {
   "cell_type": "code",
   "execution_count": 10,
   "metadata": {},
   "outputs": [
    {
     "name": "stdout",
     "output_type": "stream",
     "text": [
      "Shape of the whole dataset (500, 2)\n",
      "Shape of the train dataset (400, 2)\n",
      "Shape of the test dataset (100, 2)\n"
     ]
    }
   ],
   "source": [
    "print(\"Shape of the whole dataset\",features_origin.shape)\n",
    "print(\"Shape of the train dataset\",features.shape)\n",
    "print(\"Shape of the test dataset\",features_test.shape)"
   ]
  },
  {
   "cell_type": "markdown",
   "metadata": {},
   "source": [
    "We will train only on `features` and `labels`, and test on `features_test` and `labels_test`. It is a good practice to not even look at the test set at this point. "
   ]
  },
  {
   "cell_type": "markdown",
   "metadata": {},
   "source": [
    "## Visualization\n",
    "\n",
    "Let's start by visualizing this dataset."
   ]
  },
  {
   "cell_type": "code",
   "execution_count": 11,
   "metadata": {},
   "outputs": [
    {
     "data": {
      "image/png": "[encoded data removed]",
      "text/plain": [
       "<Figure size 432x288 with 1 Axes>"
      ]
     },
     "metadata": {
      "needs_background": "light"
     },
     "output_type": "display_data"
    }
   ],
   "source": [
    "plt.plot( features[ labels == 0, 0 ], features[ labels == 0, 1 ], 'bo'  )\n",
    "plt.plot( features[ labels == 1, 0 ], features[ labels == 1, 1 ], 'rs'  )\n",
    "plt.show()"
   ]
  },
  {
   "cell_type": "code",
   "execution_count": 12,
   "metadata": {},
   "outputs": [
    {
     "data": {
      "image/png": "[encoded data removed]",
      "text/plain": [
       "<Figure size 288x216 with 1 Axes>"
      ]
     },
     "metadata": {
      "needs_background": "light"
     },
     "output_type": "display_data"
    }
   ],
   "source": [
    "## Re-doing the previous plot, but with more details\n",
    "plt.figure( figsize=(4,3) )\n",
    "plt.plot( features[ labels == 0, 0 ], features[ labels == 0, 1 ], 'o',\n",
    "           markersize=5, color='b')\n",
    "plt.plot( features[ labels == 1, 0 ], features[ labels == 1, 1 ], 's',\n",
    "           markersize=4, color='r')\n",
    "\n",
    "plt.xlabel('X1')\n",
    "plt.ylabel('X2')\n",
    "plt.tight_layout()\n",
    "plt.savefig('SyntheticDataset.png', dpi=500)\n",
    "plt.show()"
   ]
  },
  {
   "cell_type": "markdown",
   "metadata": {},
   "source": [
    "## Decision Trees  - Synthetic data"
   ]
  },
  {
   "cell_type": "markdown",
   "metadata": {},
   "source": [
    "Let's start creating our Decision Tree classifier https://scikit-learn.org/stable/modules/generated/sklearn.tree.DecisionTreeClassifier.html"
   ]
  },
  {
   "cell_type": "code",
   "execution_count": 13,
   "metadata": {},
   "outputs": [],
   "source": [
    "from sklearn.tree import DecisionTreeClassifier\n",
    "clf = DecisionTreeClassifier()"
   ]
  },
  {
   "cell_type": "markdown",
   "metadata": {},
   "source": [
    "Variable `clf` will contain all information learned by the classifier. To perform the learning step, we use the method `fit`:"
   ]
  },
  {
   "cell_type": "code",
   "execution_count": 14,
   "metadata": {},
   "outputs": [
    {
     "data": {
      "text/plain": [
       "DecisionTreeClassifier()"
      ]
     },
     "execution_count": 14,
     "metadata": {},
     "output_type": "execute_result"
    }
   ],
   "source": [
    "clf.fit( features, labels )"
   ]
  },
  {
   "cell_type": "markdown",
   "metadata": {},
   "source": [
    "To find the accuracy of this classifier, we can use the method `score`."
   ]
  },
  {
   "cell_type": "code",
   "execution_count": 15,
   "metadata": {},
   "outputs": [
    {
     "data": {
      "text/plain": [
       "1.0"
      ]
     },
     "execution_count": 15,
     "metadata": {},
     "output_type": "execute_result"
    }
   ],
   "source": [
    "clf.score( features, labels ) "
   ]
  },
  {
   "cell_type": "markdown",
   "metadata": {},
   "source": [
    "That means that our classifier was able to perfectly reproduce all points."
   ]
  },
  {
   "cell_type": "markdown",
   "metadata": {},
   "source": [
    "We are not doing this to `features_test` or `labels_test` yet: we're still working on the model."
   ]
  },
  {
   "cell_type": "markdown",
   "metadata": {},
   "source": [
    "### Visualizing the tree -- Are we overfitting?\n",
    "\n",
    "The learned tree can be visualized through the package `graphviz`."
   ]
  },
  {
   "cell_type": "code",
   "execution_count": 16,
   "metadata": {},
   "outputs": [],
   "source": [
    "from sklearn.tree import export_graphviz\n",
    "import graphviz # Python interface for graphviz library\n",
    "def show_tree(clf):\n",
    "    filename = 'tmp.dat'\n",
    "    export_graphviz(clf, filename) \n",
    "    return graphviz.Source.from_file(filename)  "
   ]
  },
  {
   "cell_type": "code",
   "execution_count": 17,
   "metadata": {},
   "outputs": [
    {
     "data": {
      "image/svg+xml": [
       "<?xml version=\"1.0\" encoding=\"UTF-8\" standalone=\"no\"?>\n",
       "<!DOCTYPE svg PUBLIC \"-//W3C//DTD SVG 1.1//EN\"\n",
       " \"http://www.w3.org/Graphics/SVG/1.1/DTD/svg11.dtd\">\n",
       "<!-- Generated by graphviz version 2.47.2 (0)\n",
       " -->\n",
       "<!-- Title: Tree Pages: 1 -->\n",
       "<svg width=\"1511pt\" height=\"1101pt\"\n",
       " viewBox=\"0.00 0.00 1511.00 1101.00\" xmlns=\"http://www.w3.org/2000/svg\" xmlns:xlink=\"http://www.w3.org/1999/xlink\">\n",
       "<g id=\"graph0\" class=\"graph\" transform=\"scale(1 1) rotate(0) translate(4 1097)\">\n",
       "<title>Tree</title>\n",
       "<polygon fill=\"white\" stroke=\"transparent\" points=\"-4,4 -4,-1097 1507,-1097 1507,4 -4,4\"/>\n",
       "<!-- 0 -->\n",
       "<g id=\"node1\" class=\"node\">\n",
       "<title>0</title>\n",
       "<polygon fill=\"none\" stroke=\"black\" points=\"621.5,-1093 502.5,-1093 502.5,-1025 621.5,-1025 621.5,-1093\"/>\n",
       "<text text-anchor=\"middle\" x=\"562\" y=\"-1077.8\" font-family=\"Times,serif\" font-size=\"14.00\">X[1] &lt;= 4.237</text>\n",
       "<text text-anchor=\"middle\" x=\"562\" y=\"-1062.8\" font-family=\"Times,serif\" font-size=\"14.00\">gini = 0.5</text>\n",
       "<text text-anchor=\"middle\" x=\"562\" y=\"-1047.8\" font-family=\"Times,serif\" font-size=\"14.00\">samples = 400</text>\n",
       "<text text-anchor=\"middle\" x=\"562\" y=\"-1032.8\" font-family=\"Times,serif\" font-size=\"14.00\">value = [196, 204]</text>\n",
       "</g>\n",
       "<!-- 1 -->\n",
       "<g id=\"node2\" class=\"node\">\n",
       "<title>1</title>\n",
       "<polygon fill=\"none\" stroke=\"black\" points=\"559.5,-989 440.5,-989 440.5,-921 559.5,-921 559.5,-989\"/>\n",
       "<text text-anchor=\"middle\" x=\"500\" y=\"-973.8\" font-family=\"Times,serif\" font-size=\"14.00\">X[0] &lt;= &#45;1.3</text>\n",
       "<text text-anchor=\"middle\" x=\"500\" y=\"-958.8\" font-family=\"Times,serif\" font-size=\"14.00\">gini = 0.5</text>\n",
       "<text text-anchor=\"middle\" x=\"500\" y=\"-943.8\" font-family=\"Times,serif\" font-size=\"14.00\">samples = 396</text>\n",
       "<text text-anchor=\"middle\" x=\"500\" y=\"-928.8\" font-family=\"Times,serif\" font-size=\"14.00\">value = [192, 204]</text>\n",
       "</g>\n",
       "<!-- 0&#45;&gt;1 -->\n",
       "<g id=\"edge1\" class=\"edge\">\n",
       "<title>0&#45;&gt;1</title>\n",
       "<path fill=\"none\" stroke=\"black\" d=\"M541.87,-1024.88C536.67,-1016.33 531.01,-1007.01 525.57,-998.07\"/>\n",
       "<polygon fill=\"black\" stroke=\"black\" points=\"528.43,-996.03 520.24,-989.3 522.44,-999.66 528.43,-996.03\"/>\n",
       "<text text-anchor=\"middle\" x=\"514.32\" y=\"-1009.89\" font-family=\"Times,serif\" font-size=\"14.00\">True</text>\n",
       "</g>\n",
       "<!-- 56 -->\n",
       "<g id=\"node57\" class=\"node\">\n",
       "<title>56</title>\n",
       "<polygon fill=\"none\" stroke=\"black\" points=\"670,-981.5 578,-981.5 578,-928.5 670,-928.5 670,-981.5\"/>\n",
       "<text text-anchor=\"middle\" x=\"624\" y=\"-966.3\" font-family=\"Times,serif\" font-size=\"14.00\">gini = 0.0</text>\n",
       "<text text-anchor=\"middle\" x=\"624\" y=\"-951.3\" font-family=\"Times,serif\" font-size=\"14.00\">samples = 4</text>\n",
       "<text text-anchor=\"middle\" x=\"624\" y=\"-936.3\" font-family=\"Times,serif\" font-size=\"14.00\">value = [4, 0]</text>\n",
       "</g>\n",
       "<!-- 0&#45;&gt;56 -->\n",
       "<g id=\"edge56\" class=\"edge\">\n",
       "<title>0&#45;&gt;56</title>\n",
       "<path fill=\"none\" stroke=\"black\" d=\"M582.13,-1024.88C588.88,-1013.78 596.42,-1001.37 603.22,-990.18\"/>\n",
       "<polygon fill=\"black\" stroke=\"black\" points=\"606.28,-991.88 608.49,-981.52 600.3,-988.25 606.28,-991.88\"/>\n",
       "<text text-anchor=\"middle\" x=\"614.41\" y=\"-1002.11\" font-family=\"Times,serif\" font-size=\"14.00\">False</text>\n",
       "</g>\n",
       "<!-- 2 -->\n",
       "<g id=\"node3\" class=\"node\">\n",
       "<title>2</title>\n",
       "<polygon fill=\"none\" stroke=\"black\" points=\"485.5,-885 388.5,-885 388.5,-817 485.5,-817 485.5,-885\"/>\n",
       "<text text-anchor=\"middle\" x=\"437\" y=\"-869.8\" font-family=\"Times,serif\" font-size=\"14.00\">X[1] &lt;= 1.259</text>\n",
       "<text text-anchor=\"middle\" x=\"437\" y=\"-854.8\" font-family=\"Times,serif\" font-size=\"14.00\">gini = 0.245</text>\n",
       "<text text-anchor=\"middle\" x=\"437\" y=\"-839.8\" font-family=\"Times,serif\" font-size=\"14.00\">samples = 7</text>\n",
       "<text text-anchor=\"middle\" x=\"437\" y=\"-824.8\" font-family=\"Times,serif\" font-size=\"14.00\">value = [1, 6]</text>\n",
       "</g>\n",
       "<!-- 1&#45;&gt;2 -->\n",
       "<g id=\"edge2\" class=\"edge\">\n",
       "<title>1&#45;&gt;2</title>\n",
       "<path fill=\"none\" stroke=\"black\" d=\"M479.55,-920.88C474.26,-912.33 468.51,-903.01 462.99,-894.07\"/>\n",
       "<polygon fill=\"black\" stroke=\"black\" points=\"465.8,-891.97 457.57,-885.3 459.84,-895.65 465.8,-891.97\"/>\n",
       "</g>\n",
       "<!-- 5 -->\n",
       "<g id=\"node6\" class=\"node\">\n",
       "<title>5</title>\n",
       "<polygon fill=\"none\" stroke=\"black\" points=\"622.5,-885 503.5,-885 503.5,-817 622.5,-817 622.5,-885\"/>\n",
       "<text text-anchor=\"middle\" x=\"563\" y=\"-869.8\" font-family=\"Times,serif\" font-size=\"14.00\">X[0] &lt;= 3.22</text>\n",
       "<text text-anchor=\"middle\" x=\"563\" y=\"-854.8\" font-family=\"Times,serif\" font-size=\"14.00\">gini = 0.5</text>\n",
       "<text text-anchor=\"middle\" x=\"563\" y=\"-839.8\" font-family=\"Times,serif\" font-size=\"14.00\">samples = 389</text>\n",
       "<text text-anchor=\"middle\" x=\"563\" y=\"-824.8\" font-family=\"Times,serif\" font-size=\"14.00\">value = [191, 198]</text>\n",
       "</g>\n",
       "<!-- 1&#45;&gt;5 -->\n",
       "<g id=\"edge5\" class=\"edge\">\n",
       "<title>1&#45;&gt;5</title>\n",
       "<path fill=\"none\" stroke=\"black\" d=\"M520.45,-920.88C525.74,-912.33 531.49,-903.01 537.01,-894.07\"/>\n",
       "<polygon fill=\"black\" stroke=\"black\" points=\"540.16,-895.65 542.43,-885.3 534.2,-891.97 540.16,-895.65\"/>\n",
       "</g>\n",
       "<!-- 3 -->\n",
       "<g id=\"node4\" class=\"node\">\n",
       "<title>3</title>\n",
       "<polygon fill=\"none\" stroke=\"black\" points=\"374,-773.5 282,-773.5 282,-720.5 374,-720.5 374,-773.5\"/>\n",
       "<text text-anchor=\"middle\" x=\"328\" y=\"-758.3\" font-family=\"Times,serif\" font-size=\"14.00\">gini = 0.0</text>\n",
       "<text text-anchor=\"middle\" x=\"328\" y=\"-743.3\" font-family=\"Times,serif\" font-size=\"14.00\">samples = 1</text>\n",
       "<text text-anchor=\"middle\" x=\"328\" y=\"-728.3\" font-family=\"Times,serif\" font-size=\"14.00\">value = [1, 0]</text>\n",
       "</g>\n",
       "<!-- 2&#45;&gt;3 -->\n",
       "<g id=\"edge3\" class=\"edge\">\n",
       "<title>2&#45;&gt;3</title>\n",
       "<path fill=\"none\" stroke=\"black\" d=\"M401.61,-816.88C389.15,-805.23 375.17,-792.14 362.76,-780.53\"/>\n",
       "<polygon fill=\"black\" stroke=\"black\" points=\"364.96,-777.8 355.27,-773.52 360.18,-782.91 364.96,-777.8\"/>\n",
       "</g>\n",
       "<!-- 4 -->\n",
       "<g id=\"node5\" class=\"node\">\n",
       "<title>4</title>\n",
       "<polygon fill=\"none\" stroke=\"black\" points=\"484,-773.5 392,-773.5 392,-720.5 484,-720.5 484,-773.5\"/>\n",
       "<text text-anchor=\"middle\" x=\"438\" y=\"-758.3\" font-family=\"Times,serif\" font-size=\"14.00\">gini = 0.0</text>\n",
       "<text text-anchor=\"middle\" x=\"438\" y=\"-743.3\" font-family=\"Times,serif\" font-size=\"14.00\">samples = 6</text>\n",
       "<text text-anchor=\"middle\" x=\"438\" y=\"-728.3\" font-family=\"Times,serif\" font-size=\"14.00\">value = [0, 6]</text>\n",
       "</g>\n",
       "<!-- 2&#45;&gt;4 -->\n",
       "<g id=\"edge4\" class=\"edge\">\n",
       "<title>2&#45;&gt;4</title>\n",
       "<path fill=\"none\" stroke=\"black\" d=\"M437.32,-816.88C437.43,-806.33 437.54,-794.6 437.65,-783.85\"/>\n",
       "<polygon fill=\"black\" stroke=\"black\" points=\"441.15,-783.55 437.75,-773.52 434.15,-783.49 441.15,-783.55\"/>\n",
       "</g>\n",
       "<!-- 6 -->\n",
       "<g id=\"node7\" class=\"node\">\n",
       "<title>6</title>\n",
       "<polygon fill=\"none\" stroke=\"black\" points=\"622.5,-781 503.5,-781 503.5,-713 622.5,-713 622.5,-781\"/>\n",
       "<text text-anchor=\"middle\" x=\"563\" y=\"-765.8\" font-family=\"Times,serif\" font-size=\"14.00\">X[1] &lt;= 0.11</text>\n",
       "<text text-anchor=\"middle\" x=\"563\" y=\"-750.8\" font-family=\"Times,serif\" font-size=\"14.00\">gini = 0.5</text>\n",
       "<text text-anchor=\"middle\" x=\"563\" y=\"-735.8\" font-family=\"Times,serif\" font-size=\"14.00\">samples = 323</text>\n",
       "<text text-anchor=\"middle\" x=\"563\" y=\"-720.8\" font-family=\"Times,serif\" font-size=\"14.00\">value = [165, 158]</text>\n",
       "</g>\n",
       "<!-- 5&#45;&gt;6 -->\n",
       "<g id=\"edge6\" class=\"edge\">\n",
       "<title>5&#45;&gt;6</title>\n",
       "<path fill=\"none\" stroke=\"black\" d=\"M563,-816.88C563,-808.78 563,-799.98 563,-791.47\"/>\n",
       "<polygon fill=\"black\" stroke=\"black\" points=\"566.5,-791.3 563,-781.3 559.5,-791.3 566.5,-791.3\"/>\n",
       "</g>\n",
       "<!-- 53 -->\n",
       "<g id=\"node54\" class=\"node\">\n",
       "<title>53</title>\n",
       "<polygon fill=\"none\" stroke=\"black\" points=\"745.5,-781 640.5,-781 640.5,-713 745.5,-713 745.5,-781\"/>\n",
       "<text text-anchor=\"middle\" x=\"693\" y=\"-765.8\" font-family=\"Times,serif\" font-size=\"14.00\">X[1] &lt;= 1.48</text>\n",
       "<text text-anchor=\"middle\" x=\"693\" y=\"-750.8\" font-family=\"Times,serif\" font-size=\"14.00\">gini = 0.478</text>\n",
       "<text text-anchor=\"middle\" x=\"693\" y=\"-735.8\" font-family=\"Times,serif\" font-size=\"14.00\">samples = 66</text>\n",
       "<text text-anchor=\"middle\" x=\"693\" y=\"-720.8\" font-family=\"Times,serif\" font-size=\"14.00\">value = [26, 40]</text>\n",
       "</g>\n",
       "<!-- 5&#45;&gt;53 -->\n",
       "<g id=\"edge53\" class=\"edge\">\n",
       "<title>5&#45;&gt;53</title>\n",
       "<path fill=\"none\" stroke=\"black\" d=\"M605.21,-816.88C617.13,-807.53 630.22,-797.26 642.57,-787.57\"/>\n",
       "<polygon fill=\"black\" stroke=\"black\" points=\"644.85,-790.23 650.56,-781.3 640.53,-784.72 644.85,-790.23\"/>\n",
       "</g>\n",
       "<!-- 7 -->\n",
       "<g id=\"node8\" class=\"node\">\n",
       "<title>7</title>\n",
       "<polygon fill=\"none\" stroke=\"black\" points=\"463.5,-677 358.5,-677 358.5,-609 463.5,-609 463.5,-677\"/>\n",
       "<text text-anchor=\"middle\" x=\"411\" y=\"-661.8\" font-family=\"Times,serif\" font-size=\"14.00\">X[0] &lt;= 1.96</text>\n",
       "<text text-anchor=\"middle\" x=\"411\" y=\"-646.8\" font-family=\"Times,serif\" font-size=\"14.00\">gini = 0.437</text>\n",
       "<text text-anchor=\"middle\" x=\"411\" y=\"-631.8\" font-family=\"Times,serif\" font-size=\"14.00\">samples = 90</text>\n",
       "<text text-anchor=\"middle\" x=\"411\" y=\"-616.8\" font-family=\"Times,serif\" font-size=\"14.00\">value = [61, 29]</text>\n",
       "</g>\n",
       "<!-- 6&#45;&gt;7 -->\n",
       "<g id=\"edge7\" class=\"edge\">\n",
       "<title>6&#45;&gt;7</title>\n",
       "<path fill=\"none\" stroke=\"black\" d=\"M513.65,-712.88C499.37,-703.3 483.66,-692.76 468.92,-682.86\"/>\n",
       "<polygon fill=\"black\" stroke=\"black\" points=\"470.62,-679.79 460.36,-677.12 466.72,-685.6 470.62,-679.79\"/>\n",
       "</g>\n",
       "<!-- 14 -->\n",
       "<g id=\"node15\" class=\"node\">\n",
       "<title>14</title>\n",
       "<polygon fill=\"none\" stroke=\"black\" points=\"623.5,-677 504.5,-677 504.5,-609 623.5,-609 623.5,-677\"/>\n",
       "<text text-anchor=\"middle\" x=\"564\" y=\"-661.8\" font-family=\"Times,serif\" font-size=\"14.00\">X[0] &lt;= 1.427</text>\n",
       "<text text-anchor=\"middle\" x=\"564\" y=\"-646.8\" font-family=\"Times,serif\" font-size=\"14.00\">gini = 0.494</text>\n",
       "<text text-anchor=\"middle\" x=\"564\" y=\"-631.8\" font-family=\"Times,serif\" font-size=\"14.00\">samples = 233</text>\n",
       "<text text-anchor=\"middle\" x=\"564\" y=\"-616.8\" font-family=\"Times,serif\" font-size=\"14.00\">value = [104, 129]</text>\n",
       "</g>\n",
       "<!-- 6&#45;&gt;14 -->\n",
       "<g id=\"edge14\" class=\"edge\">\n",
       "<title>6&#45;&gt;14</title>\n",
       "<path fill=\"none\" stroke=\"black\" d=\"M563.32,-712.88C563.4,-704.78 563.49,-695.98 563.57,-687.47\"/>\n",
       "<polygon fill=\"black\" stroke=\"black\" points=\"567.08,-687.33 563.67,-677.3 560.08,-687.26 567.08,-687.33\"/>\n",
       "</g>\n",
       "<!-- 8 -->\n",
       "<g id=\"node9\" class=\"node\">\n",
       "<title>8</title>\n",
       "<polygon fill=\"none\" stroke=\"black\" points=\"320,-573 222,-573 222,-505 320,-505 320,-573\"/>\n",
       "<text text-anchor=\"middle\" x=\"271\" y=\"-557.8\" font-family=\"Times,serif\" font-size=\"14.00\">X[0] &lt;= 0.705</text>\n",
       "<text text-anchor=\"middle\" x=\"271\" y=\"-542.8\" font-family=\"Times,serif\" font-size=\"14.00\">gini = 0.032</text>\n",
       "<text text-anchor=\"middle\" x=\"271\" y=\"-527.8\" font-family=\"Times,serif\" font-size=\"14.00\">samples = 62</text>\n",
       "<text text-anchor=\"middle\" x=\"271\" y=\"-512.8\" font-family=\"Times,serif\" font-size=\"14.00\">value = [61, 1]</text>\n",
       "</g>\n",
       "<!-- 7&#45;&gt;8 -->\n",
       "<g id=\"edge8\" class=\"edge\">\n",
       "<title>7&#45;&gt;8</title>\n",
       "<path fill=\"none\" stroke=\"black\" d=\"M365.55,-608.88C352.59,-599.44 338.34,-589.06 324.93,-579.29\"/>\n",
       "<polygon fill=\"black\" stroke=\"black\" points=\"326.85,-576.36 316.71,-573.3 322.73,-582.02 326.85,-576.36\"/>\n",
       "</g>\n",
       "<!-- 13 -->\n",
       "<g id=\"node14\" class=\"node\">\n",
       "<title>13</title>\n",
       "<polygon fill=\"none\" stroke=\"black\" points=\"460,-565.5 362,-565.5 362,-512.5 460,-512.5 460,-565.5\"/>\n",
       "<text text-anchor=\"middle\" x=\"411\" y=\"-550.3\" font-family=\"Times,serif\" font-size=\"14.00\">gini = 0.0</text>\n",
       "<text text-anchor=\"middle\" x=\"411\" y=\"-535.3\" font-family=\"Times,serif\" font-size=\"14.00\">samples = 28</text>\n",
       "<text text-anchor=\"middle\" x=\"411\" y=\"-520.3\" font-family=\"Times,serif\" font-size=\"14.00\">value = [0, 28]</text>\n",
       "</g>\n",
       "<!-- 7&#45;&gt;13 -->\n",
       "<g id=\"edge13\" class=\"edge\">\n",
       "<title>7&#45;&gt;13</title>\n",
       "<path fill=\"none\" stroke=\"black\" d=\"M411,-608.88C411,-598.33 411,-586.6 411,-575.85\"/>\n",
       "<polygon fill=\"black\" stroke=\"black\" points=\"414.5,-575.52 411,-565.52 407.5,-575.52 414.5,-575.52\"/>\n",
       "</g>\n",
       "<!-- 9 -->\n",
       "<g id=\"node10\" class=\"node\">\n",
       "<title>9</title>\n",
       "<polygon fill=\"none\" stroke=\"black\" points=\"204,-461.5 106,-461.5 106,-408.5 204,-408.5 204,-461.5\"/>\n",
       "<text text-anchor=\"middle\" x=\"155\" y=\"-446.3\" font-family=\"Times,serif\" font-size=\"14.00\">gini = 0.0</text>\n",
       "<text text-anchor=\"middle\" x=\"155\" y=\"-431.3\" font-family=\"Times,serif\" font-size=\"14.00\">samples = 53</text>\n",
       "<text text-anchor=\"middle\" x=\"155\" y=\"-416.3\" font-family=\"Times,serif\" font-size=\"14.00\">value = [53, 0]</text>\n",
       "</g>\n",
       "<!-- 8&#45;&gt;9 -->\n",
       "<g id=\"edge9\" class=\"edge\">\n",
       "<title>8&#45;&gt;9</title>\n",
       "<path fill=\"none\" stroke=\"black\" d=\"M233.34,-504.88C219.96,-493.12 204.92,-479.89 191.62,-468.2\"/>\n",
       "<polygon fill=\"black\" stroke=\"black\" points=\"193.84,-465.49 184.02,-461.52 189.22,-470.75 193.84,-465.49\"/>\n",
       "</g>\n",
       "<!-- 10 -->\n",
       "<g id=\"node11\" class=\"node\">\n",
       "<title>10</title>\n",
       "<polygon fill=\"none\" stroke=\"black\" points=\"319.5,-469 222.5,-469 222.5,-401 319.5,-401 319.5,-469\"/>\n",
       "<text text-anchor=\"middle\" x=\"271\" y=\"-453.8\" font-family=\"Times,serif\" font-size=\"14.00\">X[0] &lt;= 0.789</text>\n",
       "<text text-anchor=\"middle\" x=\"271\" y=\"-438.8\" font-family=\"Times,serif\" font-size=\"14.00\">gini = 0.198</text>\n",
       "<text text-anchor=\"middle\" x=\"271\" y=\"-423.8\" font-family=\"Times,serif\" font-size=\"14.00\">samples = 9</text>\n",
       "<text text-anchor=\"middle\" x=\"271\" y=\"-408.8\" font-family=\"Times,serif\" font-size=\"14.00\">value = [8, 1]</text>\n",
       "</g>\n",
       "<!-- 8&#45;&gt;10 -->\n",
       "<g id=\"edge10\" class=\"edge\">\n",
       "<title>8&#45;&gt;10</title>\n",
       "<path fill=\"none\" stroke=\"black\" d=\"M271,-504.88C271,-496.78 271,-487.98 271,-479.47\"/>\n",
       "<polygon fill=\"black\" stroke=\"black\" points=\"274.5,-479.3 271,-469.3 267.5,-479.3 274.5,-479.3\"/>\n",
       "</g>\n",
       "<!-- 11 -->\n",
       "<g id=\"node12\" class=\"node\">\n",
       "<title>11</title>\n",
       "<polygon fill=\"none\" stroke=\"black\" points=\"207,-357.5 115,-357.5 115,-304.5 207,-304.5 207,-357.5\"/>\n",
       "<text text-anchor=\"middle\" x=\"161\" y=\"-342.3\" font-family=\"Times,serif\" font-size=\"14.00\">gini = 0.0</text>\n",
       "<text text-anchor=\"middle\" x=\"161\" y=\"-327.3\" font-family=\"Times,serif\" font-size=\"14.00\">samples = 1</text>\n",
       "<text text-anchor=\"middle\" x=\"161\" y=\"-312.3\" font-family=\"Times,serif\" font-size=\"14.00\">value = [0, 1]</text>\n",
       "</g>\n",
       "<!-- 10&#45;&gt;11 -->\n",
       "<g id=\"edge11\" class=\"edge\">\n",
       "<title>10&#45;&gt;11</title>\n",
       "<path fill=\"none\" stroke=\"black\" d=\"M235.29,-400.88C222.71,-389.23 208.6,-376.14 196.08,-364.53\"/>\n",
       "<polygon fill=\"black\" stroke=\"black\" points=\"198.23,-361.75 188.52,-357.52 193.47,-366.89 198.23,-361.75\"/>\n",
       "</g>\n",
       "<!-- 12 -->\n",
       "<g id=\"node13\" class=\"node\">\n",
       "<title>12</title>\n",
       "<polygon fill=\"none\" stroke=\"black\" points=\"317,-357.5 225,-357.5 225,-304.5 317,-304.5 317,-357.5\"/>\n",
       "<text text-anchor=\"middle\" x=\"271\" y=\"-342.3\" font-family=\"Times,serif\" font-size=\"14.00\">gini = 0.0</text>\n",
       "<text text-anchor=\"middle\" x=\"271\" y=\"-327.3\" font-family=\"Times,serif\" font-size=\"14.00\">samples = 8</text>\n",
       "<text text-anchor=\"middle\" x=\"271\" y=\"-312.3\" font-family=\"Times,serif\" font-size=\"14.00\">value = [8, 0]</text>\n",
       "</g>\n",
       "<!-- 10&#45;&gt;12 -->\n",
       "<g id=\"edge12\" class=\"edge\">\n",
       "<title>10&#45;&gt;12</title>\n",
       "<path fill=\"none\" stroke=\"black\" d=\"M271,-400.88C271,-390.33 271,-378.6 271,-367.85\"/>\n",
       "<polygon fill=\"black\" stroke=\"black\" points=\"274.5,-367.52 271,-357.52 267.5,-367.52 274.5,-367.52\"/>\n",
       "</g>\n",
       "<!-- 15 -->\n",
       "<g id=\"node16\" class=\"node\">\n",
       "<title>15</title>\n",
       "<polygon fill=\"none\" stroke=\"black\" points=\"616.5,-573 511.5,-573 511.5,-505 616.5,-505 616.5,-573\"/>\n",
       "<text text-anchor=\"middle\" x=\"564\" y=\"-557.8\" font-family=\"Times,serif\" font-size=\"14.00\">X[1] &lt;= 1.412</text>\n",
       "<text text-anchor=\"middle\" x=\"564\" y=\"-542.8\" font-family=\"Times,serif\" font-size=\"14.00\">gini = 0.402</text>\n",
       "<text text-anchor=\"middle\" x=\"564\" y=\"-527.8\" font-family=\"Times,serif\" font-size=\"14.00\">samples = 133</text>\n",
       "<text text-anchor=\"middle\" x=\"564\" y=\"-512.8\" font-family=\"Times,serif\" font-size=\"14.00\">value = [37, 96]</text>\n",
       "</g>\n",
       "<!-- 14&#45;&gt;15 -->\n",
       "<g id=\"edge15\" class=\"edge\">\n",
       "<title>14&#45;&gt;15</title>\n",
       "<path fill=\"none\" stroke=\"black\" d=\"M564,-608.88C564,-600.78 564,-591.98 564,-583.47\"/>\n",
       "<polygon fill=\"black\" stroke=\"black\" points=\"567.5,-583.3 564,-573.3 560.5,-583.3 567.5,-583.3\"/>\n",
       "</g>\n",
       "<!-- 38 -->\n",
       "<g id=\"node39\" class=\"node\">\n",
       "<title>38</title>\n",
       "<polygon fill=\"none\" stroke=\"black\" points=\"981.5,-573 876.5,-573 876.5,-505 981.5,-505 981.5,-573\"/>\n",
       "<text text-anchor=\"middle\" x=\"929\" y=\"-557.8\" font-family=\"Times,serif\" font-size=\"14.00\">X[1] &lt;= 1.311</text>\n",
       "<text text-anchor=\"middle\" x=\"929\" y=\"-542.8\" font-family=\"Times,serif\" font-size=\"14.00\">gini = 0.442</text>\n",
       "<text text-anchor=\"middle\" x=\"929\" y=\"-527.8\" font-family=\"Times,serif\" font-size=\"14.00\">samples = 100</text>\n",
       "<text text-anchor=\"middle\" x=\"929\" y=\"-512.8\" font-family=\"Times,serif\" font-size=\"14.00\">value = [67, 33]</text>\n",
       "</g>\n",
       "<!-- 14&#45;&gt;38 -->\n",
       "<g id=\"edge38\" class=\"edge\">\n",
       "<title>14&#45;&gt;38</title>\n",
       "<path fill=\"none\" stroke=\"black\" d=\"M623.6,-612.89C627.09,-611.5 630.57,-610.19 634,-609 712.18,-581.77 805.74,-561.94 866.21,-550.71\"/>\n",
       "<polygon fill=\"black\" stroke=\"black\" points=\"867.16,-554.09 876.37,-548.84 865.9,-547.2 867.16,-554.09\"/>\n",
       "</g>\n",
       "<!-- 16 -->\n",
       "<g id=\"node17\" class=\"node\">\n",
       "<title>16</title>\n",
       "<polygon fill=\"none\" stroke=\"black\" points=\"545,-469 447,-469 447,-401 545,-401 545,-469\"/>\n",
       "<text text-anchor=\"middle\" x=\"496\" y=\"-453.8\" font-family=\"Times,serif\" font-size=\"14.00\">X[0] &lt;= 1.077</text>\n",
       "<text text-anchor=\"middle\" x=\"496\" y=\"-438.8\" font-family=\"Times,serif\" font-size=\"14.00\">gini = 0.188</text>\n",
       "<text text-anchor=\"middle\" x=\"496\" y=\"-423.8\" font-family=\"Times,serif\" font-size=\"14.00\">samples = 38</text>\n",
       "<text text-anchor=\"middle\" x=\"496\" y=\"-408.8\" font-family=\"Times,serif\" font-size=\"14.00\">value = [34, 4]</text>\n",
       "</g>\n",
       "<!-- 15&#45;&gt;16 -->\n",
       "<g id=\"edge16\" class=\"edge\">\n",
       "<title>15&#45;&gt;16</title>\n",
       "<path fill=\"none\" stroke=\"black\" d=\"M541.92,-504.88C536.16,-496.24 529.88,-486.82 523.86,-477.79\"/>\n",
       "<polygon fill=\"black\" stroke=\"black\" points=\"526.66,-475.68 518.2,-469.3 520.83,-479.56 526.66,-475.68\"/>\n",
       "</g>\n",
       "<!-- 27 -->\n",
       "<g id=\"node28\" class=\"node\">\n",
       "<title>27</title>\n",
       "<polygon fill=\"none\" stroke=\"black\" points=\"661,-469 563,-469 563,-401 661,-401 661,-469\"/>\n",
       "<text text-anchor=\"middle\" x=\"612\" y=\"-453.8\" font-family=\"Times,serif\" font-size=\"14.00\">X[1] &lt;= 2.027</text>\n",
       "<text text-anchor=\"middle\" x=\"612\" y=\"-438.8\" font-family=\"Times,serif\" font-size=\"14.00\">gini = 0.061</text>\n",
       "<text text-anchor=\"middle\" x=\"612\" y=\"-423.8\" font-family=\"Times,serif\" font-size=\"14.00\">samples = 95</text>\n",
       "<text text-anchor=\"middle\" x=\"612\" y=\"-408.8\" font-family=\"Times,serif\" font-size=\"14.00\">value = [3, 92]</text>\n",
       "</g>\n",
       "<!-- 15&#45;&gt;27 -->\n",
       "<g id=\"edge27\" class=\"edge\">\n",
       "<title>15&#45;&gt;27</title>\n",
       "<path fill=\"none\" stroke=\"black\" d=\"M579.58,-504.88C583.57,-496.42 587.9,-487.21 592.07,-478.35\"/>\n",
       "<polygon fill=\"black\" stroke=\"black\" points=\"595.24,-479.84 596.33,-469.3 588.9,-476.86 595.24,-479.84\"/>\n",
       "</g>\n",
       "<!-- 17 -->\n",
       "<g id=\"node18\" class=\"node\">\n",
       "<title>17</title>\n",
       "<polygon fill=\"none\" stroke=\"black\" points=\"433,-365 335,-365 335,-297 433,-297 433,-365\"/>\n",
       "<text text-anchor=\"middle\" x=\"384\" y=\"-349.8\" font-family=\"Times,serif\" font-size=\"14.00\">X[1] &lt;= 1.023</text>\n",
       "<text text-anchor=\"middle\" x=\"384\" y=\"-334.8\" font-family=\"Times,serif\" font-size=\"14.00\">gini = 0.149</text>\n",
       "<text text-anchor=\"middle\" x=\"384\" y=\"-319.8\" font-family=\"Times,serif\" font-size=\"14.00\">samples = 37</text>\n",
       "<text text-anchor=\"middle\" x=\"384\" y=\"-304.8\" font-family=\"Times,serif\" font-size=\"14.00\">value = [34, 3]</text>\n",
       "</g>\n",
       "<!-- 16&#45;&gt;17 -->\n",
       "<g id=\"edge17\" class=\"edge\">\n",
       "<title>16&#45;&gt;17</title>\n",
       "<path fill=\"none\" stroke=\"black\" d=\"M459.64,-400.88C449.56,-391.71 438.52,-381.65 428.06,-372.12\"/>\n",
       "<polygon fill=\"black\" stroke=\"black\" points=\"430.31,-369.44 420.56,-365.3 425.6,-374.62 430.31,-369.44\"/>\n",
       "</g>\n",
       "<!-- 26 -->\n",
       "<g id=\"node27\" class=\"node\">\n",
       "<title>26</title>\n",
       "<polygon fill=\"none\" stroke=\"black\" points=\"543,-357.5 451,-357.5 451,-304.5 543,-304.5 543,-357.5\"/>\n",
       "<text text-anchor=\"middle\" x=\"497\" y=\"-342.3\" font-family=\"Times,serif\" font-size=\"14.00\">gini = 0.0</text>\n",
       "<text text-anchor=\"middle\" x=\"497\" y=\"-327.3\" font-family=\"Times,serif\" font-size=\"14.00\">samples = 1</text>\n",
       "<text text-anchor=\"middle\" x=\"497\" y=\"-312.3\" font-family=\"Times,serif\" font-size=\"14.00\">value = [0, 1]</text>\n",
       "</g>\n",
       "<!-- 16&#45;&gt;26 -->\n",
       "<g id=\"edge26\" class=\"edge\">\n",
       "<title>16&#45;&gt;26</title>\n",
       "<path fill=\"none\" stroke=\"black\" d=\"M496.32,-400.88C496.43,-390.33 496.54,-378.6 496.65,-367.85\"/>\n",
       "<polygon fill=\"black\" stroke=\"black\" points=\"500.15,-367.55 496.75,-357.52 493.15,-367.49 500.15,-367.55\"/>\n",
       "</g>\n",
       "<!-- 18 -->\n",
       "<g id=\"node19\" class=\"node\">\n",
       "<title>18</title>\n",
       "<polygon fill=\"none\" stroke=\"black\" points=\"214,-261 116,-261 116,-193 214,-193 214,-261\"/>\n",
       "<text text-anchor=\"middle\" x=\"165\" y=\"-245.8\" font-family=\"Times,serif\" font-size=\"14.00\">X[1] &lt;= 0.698</text>\n",
       "<text text-anchor=\"middle\" x=\"165\" y=\"-230.8\" font-family=\"Times,serif\" font-size=\"14.00\">gini = 0.061</text>\n",
       "<text text-anchor=\"middle\" x=\"165\" y=\"-215.8\" font-family=\"Times,serif\" font-size=\"14.00\">samples = 32</text>\n",
       "<text text-anchor=\"middle\" x=\"165\" y=\"-200.8\" font-family=\"Times,serif\" font-size=\"14.00\">value = [31, 1]</text>\n",
       "</g>\n",
       "<!-- 17&#45;&gt;18 -->\n",
       "<g id=\"edge18\" class=\"edge\">\n",
       "<title>17&#45;&gt;18</title>\n",
       "<path fill=\"none\" stroke=\"black\" d=\"M334.84,-301.53C331.87,-299.97 328.91,-298.44 326,-297 292.68,-280.45 254.44,-263.96 223.59,-251.25\"/>\n",
       "<polygon fill=\"black\" stroke=\"black\" points=\"224.84,-247.98 214.26,-247.43 222.19,-254.46 224.84,-247.98\"/>\n",
       "</g>\n",
       "<!-- 23 -->\n",
       "<g id=\"node24\" class=\"node\">\n",
       "<title>23</title>\n",
       "<polygon fill=\"none\" stroke=\"black\" points=\"432.5,-261 335.5,-261 335.5,-193 432.5,-193 432.5,-261\"/>\n",
       "<text text-anchor=\"middle\" x=\"384\" y=\"-245.8\" font-family=\"Times,serif\" font-size=\"14.00\">X[1] &lt;= 1.317</text>\n",
       "<text text-anchor=\"middle\" x=\"384\" y=\"-230.8\" font-family=\"Times,serif\" font-size=\"14.00\">gini = 0.48</text>\n",
       "<text text-anchor=\"middle\" x=\"384\" y=\"-215.8\" font-family=\"Times,serif\" font-size=\"14.00\">samples = 5</text>\n",
       "<text text-anchor=\"middle\" x=\"384\" y=\"-200.8\" font-family=\"Times,serif\" font-size=\"14.00\">value = [3, 2]</text>\n",
       "</g>\n",
       "<!-- 17&#45;&gt;23 -->\n",
       "<g id=\"edge23\" class=\"edge\">\n",
       "<title>17&#45;&gt;23</title>\n",
       "<path fill=\"none\" stroke=\"black\" d=\"M384,-296.88C384,-288.78 384,-279.98 384,-271.47\"/>\n",
       "<polygon fill=\"black\" stroke=\"black\" points=\"387.5,-271.3 384,-261.3 380.5,-271.3 387.5,-271.3\"/>\n",
       "</g>\n",
       "<!-- 19 -->\n",
       "<g id=\"node20\" class=\"node\">\n",
       "<title>19</title>\n",
       "<polygon fill=\"none\" stroke=\"black\" points=\"98,-149.5 0,-149.5 0,-96.5 98,-96.5 98,-149.5\"/>\n",
       "<text text-anchor=\"middle\" x=\"49\" y=\"-134.3\" font-family=\"Times,serif\" font-size=\"14.00\">gini = 0.0</text>\n",
       "<text text-anchor=\"middle\" x=\"49\" y=\"-119.3\" font-family=\"Times,serif\" font-size=\"14.00\">samples = 23</text>\n",
       "<text text-anchor=\"middle\" x=\"49\" y=\"-104.3\" font-family=\"Times,serif\" font-size=\"14.00\">value = [23, 0]</text>\n",
       "</g>\n",
       "<!-- 18&#45;&gt;19 -->\n",
       "<g id=\"edge19\" class=\"edge\">\n",
       "<title>18&#45;&gt;19</title>\n",
       "<path fill=\"none\" stroke=\"black\" d=\"M127.34,-192.88C113.96,-181.12 98.92,-167.89 85.62,-156.2\"/>\n",
       "<polygon fill=\"black\" stroke=\"black\" points=\"87.84,-153.49 78.02,-149.52 83.22,-158.75 87.84,-153.49\"/>\n",
       "</g>\n",
       "<!-- 20 -->\n",
       "<g id=\"node21\" class=\"node\">\n",
       "<title>20</title>\n",
       "<polygon fill=\"none\" stroke=\"black\" points=\"213.5,-157 116.5,-157 116.5,-89 213.5,-89 213.5,-157\"/>\n",
       "<text text-anchor=\"middle\" x=\"165\" y=\"-141.8\" font-family=\"Times,serif\" font-size=\"14.00\">X[1] &lt;= 0.727</text>\n",
       "<text text-anchor=\"middle\" x=\"165\" y=\"-126.8\" font-family=\"Times,serif\" font-size=\"14.00\">gini = 0.198</text>\n",
       "<text text-anchor=\"middle\" x=\"165\" y=\"-111.8\" font-family=\"Times,serif\" font-size=\"14.00\">samples = 9</text>\n",
       "<text text-anchor=\"middle\" x=\"165\" y=\"-96.8\" font-family=\"Times,serif\" font-size=\"14.00\">value = [8, 1]</text>\n",
       "</g>\n",
       "<!-- 18&#45;&gt;20 -->\n",
       "<g id=\"edge20\" class=\"edge\">\n",
       "<title>18&#45;&gt;20</title>\n",
       "<path fill=\"none\" stroke=\"black\" d=\"M165,-192.88C165,-184.78 165,-175.98 165,-167.47\"/>\n",
       "<polygon fill=\"black\" stroke=\"black\" points=\"168.5,-167.3 165,-157.3 161.5,-167.3 168.5,-167.3\"/>\n",
       "</g>\n",
       "<!-- 21 -->\n",
       "<g id=\"node22\" class=\"node\">\n",
       "<title>21</title>\n",
       "<polygon fill=\"none\" stroke=\"black\" points=\"156,-53 64,-53 64,0 156,0 156,-53\"/>\n",
       "<text text-anchor=\"middle\" x=\"110\" y=\"-37.8\" font-family=\"Times,serif\" font-size=\"14.00\">gini = 0.0</text>\n",
       "<text text-anchor=\"middle\" x=\"110\" y=\"-22.8\" font-family=\"Times,serif\" font-size=\"14.00\">samples = 1</text>\n",
       "<text text-anchor=\"middle\" x=\"110\" y=\"-7.8\" font-family=\"Times,serif\" font-size=\"14.00\">value = [0, 1]</text>\n",
       "</g>\n",
       "<!-- 20&#45;&gt;21 -->\n",
       "<g id=\"edge21\" class=\"edge\">\n",
       "<title>20&#45;&gt;21</title>\n",
       "<path fill=\"none\" stroke=\"black\" d=\"M145.76,-88.95C140.71,-80.26 135.24,-70.86 130.13,-62.09\"/>\n",
       "<polygon fill=\"black\" stroke=\"black\" points=\"133.03,-60.12 124.98,-53.24 126.98,-63.64 133.03,-60.12\"/>\n",
       "</g>\n",
       "<!-- 22 -->\n",
       "<g id=\"node23\" class=\"node\">\n",
       "<title>22</title>\n",
       "<polygon fill=\"none\" stroke=\"black\" points=\"266,-53 174,-53 174,0 266,0 266,-53\"/>\n",
       "<text text-anchor=\"middle\" x=\"220\" y=\"-37.8\" font-family=\"Times,serif\" font-size=\"14.00\">gini = 0.0</text>\n",
       "<text text-anchor=\"middle\" x=\"220\" y=\"-22.8\" font-family=\"Times,serif\" font-size=\"14.00\">samples = 8</text>\n",
       "<text text-anchor=\"middle\" x=\"220\" y=\"-7.8\" font-family=\"Times,serif\" font-size=\"14.00\">value = [8, 0]</text>\n",
       "</g>\n",
       "<!-- 20&#45;&gt;22 -->\n",
       "<g id=\"edge22\" class=\"edge\">\n",
       "<title>20&#45;&gt;22</title>\n",
       "<path fill=\"none\" stroke=\"black\" d=\"M184.24,-88.95C189.29,-80.26 194.76,-70.86 199.87,-62.09\"/>\n",
       "<polygon fill=\"black\" stroke=\"black\" points=\"203.02,-63.64 205.02,-53.24 196.97,-60.12 203.02,-63.64\"/>\n",
       "</g>\n",
       "<!-- 24 -->\n",
       "<g id=\"node25\" class=\"node\">\n",
       "<title>24</title>\n",
       "<polygon fill=\"none\" stroke=\"black\" points=\"324,-149.5 232,-149.5 232,-96.5 324,-96.5 324,-149.5\"/>\n",
       "<text text-anchor=\"middle\" x=\"278\" y=\"-134.3\" font-family=\"Times,serif\" font-size=\"14.00\">gini = 0.0</text>\n",
       "<text text-anchor=\"middle\" x=\"278\" y=\"-119.3\" font-family=\"Times,serif\" font-size=\"14.00\">samples = 2</text>\n",
       "<text text-anchor=\"middle\" x=\"278\" y=\"-104.3\" font-family=\"Times,serif\" font-size=\"14.00\">value = [0, 2]</text>\n",
       "</g>\n",
       "<!-- 23&#45;&gt;24 -->\n",
       "<g id=\"edge24\" class=\"edge\">\n",
       "<title>23&#45;&gt;24</title>\n",
       "<path fill=\"none\" stroke=\"black\" d=\"M349.58,-192.88C337.47,-181.23 323.87,-168.14 311.81,-156.53\"/>\n",
       "<polygon fill=\"black\" stroke=\"black\" points=\"314.15,-153.93 304.52,-149.52 309.3,-158.98 314.15,-153.93\"/>\n",
       "</g>\n",
       "<!-- 25 -->\n",
       "<g id=\"node26\" class=\"node\">\n",
       "<title>25</title>\n",
       "<polygon fill=\"none\" stroke=\"black\" points=\"434,-149.5 342,-149.5 342,-96.5 434,-96.5 434,-149.5\"/>\n",
       "<text text-anchor=\"middle\" x=\"388\" y=\"-134.3\" font-family=\"Times,serif\" font-size=\"14.00\">gini = 0.0</text>\n",
       "<text text-anchor=\"middle\" x=\"388\" y=\"-119.3\" font-family=\"Times,serif\" font-size=\"14.00\">samples = 3</text>\n",
       "<text text-anchor=\"middle\" x=\"388\" y=\"-104.3\" font-family=\"Times,serif\" font-size=\"14.00\">value = [3, 0]</text>\n",
       "</g>\n",
       "<!-- 23&#45;&gt;25 -->\n",
       "<g id=\"edge25\" class=\"edge\">\n",
       "<title>23&#45;&gt;25</title>\n",
       "<path fill=\"none\" stroke=\"black\" d=\"M385.3,-192.88C385.72,-182.22 386.18,-170.35 386.61,-159.52\"/>\n",
       "<polygon fill=\"black\" stroke=\"black\" points=\"390.1,-159.65 387,-149.52 383.11,-159.38 390.1,-159.65\"/>\n",
       "</g>\n",
       "<!-- 28 -->\n",
       "<g id=\"node29\" class=\"node\">\n",
       "<title>28</title>\n",
       "<polygon fill=\"none\" stroke=\"black\" points=\"659.5,-365 562.5,-365 562.5,-297 659.5,-297 659.5,-365\"/>\n",
       "<text text-anchor=\"middle\" x=\"611\" y=\"-349.8\" font-family=\"Times,serif\" font-size=\"14.00\">X[1] &lt;= 1.866</text>\n",
       "<text text-anchor=\"middle\" x=\"611\" y=\"-334.8\" font-family=\"Times,serif\" font-size=\"14.00\">gini = 0.397</text>\n",
       "<text text-anchor=\"middle\" x=\"611\" y=\"-319.8\" font-family=\"Times,serif\" font-size=\"14.00\">samples = 11</text>\n",
       "<text text-anchor=\"middle\" x=\"611\" y=\"-304.8\" font-family=\"Times,serif\" font-size=\"14.00\">value = [3, 8]</text>\n",
       "</g>\n",
       "<!-- 27&#45;&gt;28 -->\n",
       "<g id=\"edge28\" class=\"edge\">\n",
       "<title>27&#45;&gt;28</title>\n",
       "<path fill=\"none\" stroke=\"black\" d=\"M611.68,-400.88C611.6,-392.78 611.51,-383.98 611.43,-375.47\"/>\n",
       "<polygon fill=\"black\" stroke=\"black\" points=\"614.92,-375.26 611.33,-365.3 607.92,-375.33 614.92,-375.26\"/>\n",
       "</g>\n",
       "<!-- 37 -->\n",
       "<g id=\"node38\" class=\"node\">\n",
       "<title>37</title>\n",
       "<polygon fill=\"none\" stroke=\"black\" points=\"776,-357.5 678,-357.5 678,-304.5 776,-304.5 776,-357.5\"/>\n",
       "<text text-anchor=\"middle\" x=\"727\" y=\"-342.3\" font-family=\"Times,serif\" font-size=\"14.00\">gini = 0.0</text>\n",
       "<text text-anchor=\"middle\" x=\"727\" y=\"-327.3\" font-family=\"Times,serif\" font-size=\"14.00\">samples = 84</text>\n",
       "<text text-anchor=\"middle\" x=\"727\" y=\"-312.3\" font-family=\"Times,serif\" font-size=\"14.00\">value = [0, 84]</text>\n",
       "</g>\n",
       "<!-- 27&#45;&gt;37 -->\n",
       "<g id=\"edge37\" class=\"edge\">\n",
       "<title>27&#45;&gt;37</title>\n",
       "<path fill=\"none\" stroke=\"black\" d=\"M649.34,-400.88C662.6,-389.12 677.51,-375.89 690.69,-364.2\"/>\n",
       "<polygon fill=\"black\" stroke=\"black\" points=\"693.07,-366.77 698.23,-357.52 688.42,-361.54 693.07,-366.77\"/>\n",
       "</g>\n",
       "<!-- 29 -->\n",
       "<g id=\"node30\" class=\"node\">\n",
       "<title>29</title>\n",
       "<polygon fill=\"none\" stroke=\"black\" points=\"655.5,-261 558.5,-261 558.5,-193 655.5,-193 655.5,-261\"/>\n",
       "<text text-anchor=\"middle\" x=\"607\" y=\"-245.8\" font-family=\"Times,serif\" font-size=\"14.00\">X[0] &lt;= 0.457</text>\n",
       "<text text-anchor=\"middle\" x=\"607\" y=\"-230.8\" font-family=\"Times,serif\" font-size=\"14.00\">gini = 0.219</text>\n",
       "<text text-anchor=\"middle\" x=\"607\" y=\"-215.8\" font-family=\"Times,serif\" font-size=\"14.00\">samples = 8</text>\n",
       "<text text-anchor=\"middle\" x=\"607\" y=\"-200.8\" font-family=\"Times,serif\" font-size=\"14.00\">value = [1, 7]</text>\n",
       "</g>\n",
       "<!-- 28&#45;&gt;29 -->\n",
       "<g id=\"edge29\" class=\"edge\">\n",
       "<title>28&#45;&gt;29</title>\n",
       "<path fill=\"none\" stroke=\"black\" d=\"M609.7,-296.88C609.38,-288.78 609.04,-279.98 608.7,-271.47\"/>\n",
       "<polygon fill=\"black\" stroke=\"black\" points=\"612.2,-271.15 608.31,-261.3 605.2,-271.43 612.2,-271.15\"/>\n",
       "</g>\n",
       "<!-- 34 -->\n",
       "<g id=\"node35\" class=\"node\">\n",
       "<title>34</title>\n",
       "<polygon fill=\"none\" stroke=\"black\" points=\"774.5,-261 673.5,-261 673.5,-193 774.5,-193 774.5,-261\"/>\n",
       "<text text-anchor=\"middle\" x=\"724\" y=\"-245.8\" font-family=\"Times,serif\" font-size=\"14.00\">X[0] &lt;= &#45;0.355</text>\n",
       "<text text-anchor=\"middle\" x=\"724\" y=\"-230.8\" font-family=\"Times,serif\" font-size=\"14.00\">gini = 0.444</text>\n",
       "<text text-anchor=\"middle\" x=\"724\" y=\"-215.8\" font-family=\"Times,serif\" font-size=\"14.00\">samples = 3</text>\n",
       "<text text-anchor=\"middle\" x=\"724\" y=\"-200.8\" font-family=\"Times,serif\" font-size=\"14.00\">value = [2, 1]</text>\n",
       "</g>\n",
       "<!-- 28&#45;&gt;34 -->\n",
       "<g id=\"edge34\" class=\"edge\">\n",
       "<title>28&#45;&gt;34</title>\n",
       "<path fill=\"none\" stroke=\"black\" d=\"M647.69,-296.88C657.85,-287.71 669,-277.65 679.55,-268.12\"/>\n",
       "<polygon fill=\"black\" stroke=\"black\" points=\"682.03,-270.6 687.11,-261.3 677.34,-265.4 682.03,-270.6\"/>\n",
       "</g>\n",
       "<!-- 30 -->\n",
       "<g id=\"node31\" class=\"node\">\n",
       "<title>30</title>\n",
       "<polygon fill=\"none\" stroke=\"black\" points=\"544,-149.5 452,-149.5 452,-96.5 544,-96.5 544,-149.5\"/>\n",
       "<text text-anchor=\"middle\" x=\"498\" y=\"-134.3\" font-family=\"Times,serif\" font-size=\"14.00\">gini = 0.0</text>\n",
       "<text text-anchor=\"middle\" x=\"498\" y=\"-119.3\" font-family=\"Times,serif\" font-size=\"14.00\">samples = 5</text>\n",
       "<text text-anchor=\"middle\" x=\"498\" y=\"-104.3\" font-family=\"Times,serif\" font-size=\"14.00\">value = [0, 5]</text>\n",
       "</g>\n",
       "<!-- 29&#45;&gt;30 -->\n",
       "<g id=\"edge30\" class=\"edge\">\n",
       "<title>29&#45;&gt;30</title>\n",
       "<path fill=\"none\" stroke=\"black\" d=\"M571.61,-192.88C559.15,-181.23 545.17,-168.14 532.76,-156.53\"/>\n",
       "<polygon fill=\"black\" stroke=\"black\" points=\"534.96,-153.8 525.27,-149.52 530.18,-158.91 534.96,-153.8\"/>\n",
       "</g>\n",
       "<!-- 31 -->\n",
       "<g id=\"node32\" class=\"node\">\n",
       "<title>31</title>\n",
       "<polygon fill=\"none\" stroke=\"black\" points=\"659.5,-157 562.5,-157 562.5,-89 659.5,-89 659.5,-157\"/>\n",
       "<text text-anchor=\"middle\" x=\"611\" y=\"-141.8\" font-family=\"Times,serif\" font-size=\"14.00\">X[0] &lt;= 0.658</text>\n",
       "<text text-anchor=\"middle\" x=\"611\" y=\"-126.8\" font-family=\"Times,serif\" font-size=\"14.00\">gini = 0.444</text>\n",
       "<text text-anchor=\"middle\" x=\"611\" y=\"-111.8\" font-family=\"Times,serif\" font-size=\"14.00\">samples = 3</text>\n",
       "<text text-anchor=\"middle\" x=\"611\" y=\"-96.8\" font-family=\"Times,serif\" font-size=\"14.00\">value = [1, 2]</text>\n",
       "</g>\n",
       "<!-- 29&#45;&gt;31 -->\n",
       "<g id=\"edge31\" class=\"edge\">\n",
       "<title>29&#45;&gt;31</title>\n",
       "<path fill=\"none\" stroke=\"black\" d=\"M608.3,-192.88C608.62,-184.78 608.96,-175.98 609.3,-167.47\"/>\n",
       "<polygon fill=\"black\" stroke=\"black\" points=\"612.8,-167.43 609.69,-157.3 605.8,-167.15 612.8,-167.43\"/>\n",
       "</g>\n",
       "<!-- 32 -->\n",
       "<g id=\"node33\" class=\"node\">\n",
       "<title>32</title>\n",
       "<polygon fill=\"none\" stroke=\"black\" points=\"602,-53 510,-53 510,0 602,0 602,-53\"/>\n",
       "<text text-anchor=\"middle\" x=\"556\" y=\"-37.8\" font-family=\"Times,serif\" font-size=\"14.00\">gini = 0.0</text>\n",
       "<text text-anchor=\"middle\" x=\"556\" y=\"-22.8\" font-family=\"Times,serif\" font-size=\"14.00\">samples = 1</text>\n",
       "<text text-anchor=\"middle\" x=\"556\" y=\"-7.8\" font-family=\"Times,serif\" font-size=\"14.00\">value = [1, 0]</text>\n",
       "</g>\n",
       "<!-- 31&#45;&gt;32 -->\n",
       "<g id=\"edge32\" class=\"edge\">\n",
       "<title>31&#45;&gt;32</title>\n",
       "<path fill=\"none\" stroke=\"black\" d=\"M591.76,-88.95C586.71,-80.26 581.24,-70.86 576.13,-62.09\"/>\n",
       "<polygon fill=\"black\" stroke=\"black\" points=\"579.03,-60.12 570.98,-53.24 572.98,-63.64 579.03,-60.12\"/>\n",
       "</g>\n",
       "<!-- 33 -->\n",
       "<g id=\"node34\" class=\"node\">\n",
       "<title>33</title>\n",
       "<polygon fill=\"none\" stroke=\"black\" points=\"712,-53 620,-53 620,0 712,0 712,-53\"/>\n",
       "<text text-anchor=\"middle\" x=\"666\" y=\"-37.8\" font-family=\"Times,serif\" font-size=\"14.00\">gini = 0.0</text>\n",
       "<text text-anchor=\"middle\" x=\"666\" y=\"-22.8\" font-family=\"Times,serif\" font-size=\"14.00\">samples = 2</text>\n",
       "<text text-anchor=\"middle\" x=\"666\" y=\"-7.8\" font-family=\"Times,serif\" font-size=\"14.00\">value = [0, 2]</text>\n",
       "</g>\n",
       "<!-- 31&#45;&gt;33 -->\n",
       "<g id=\"edge33\" class=\"edge\">\n",
       "<title>31&#45;&gt;33</title>\n",
       "<path fill=\"none\" stroke=\"black\" d=\"M630.24,-88.95C635.29,-80.26 640.76,-70.86 645.87,-62.09\"/>\n",
       "<polygon fill=\"black\" stroke=\"black\" points=\"649.02,-63.64 651.02,-53.24 642.97,-60.12 649.02,-63.64\"/>\n",
       "</g>\n",
       "<!-- 35 -->\n",
       "<g id=\"node36\" class=\"node\">\n",
       "<title>35</title>\n",
       "<polygon fill=\"none\" stroke=\"black\" points=\"770,-149.5 678,-149.5 678,-96.5 770,-96.5 770,-149.5\"/>\n",
       "<text text-anchor=\"middle\" x=\"724\" y=\"-134.3\" font-family=\"Times,serif\" font-size=\"14.00\">gini = 0.0</text>\n",
       "<text text-anchor=\"middle\" x=\"724\" y=\"-119.3\" font-family=\"Times,serif\" font-size=\"14.00\">samples = 1</text>\n",
       "<text text-anchor=\"middle\" x=\"724\" y=\"-104.3\" font-family=\"Times,serif\" font-size=\"14.00\">value = [0, 1]</text>\n",
       "</g>\n",
       "<!-- 34&#45;&gt;35 -->\n",
       "<g id=\"edge35\" class=\"edge\">\n",
       "<title>34&#45;&gt;35</title>\n",
       "<path fill=\"none\" stroke=\"black\" d=\"M724,-192.88C724,-182.33 724,-170.6 724,-159.85\"/>\n",
       "<polygon fill=\"black\" stroke=\"black\" points=\"727.5,-159.52 724,-149.52 720.5,-159.52 727.5,-159.52\"/>\n",
       "</g>\n",
       "<!-- 36 -->\n",
       "<g id=\"node37\" class=\"node\">\n",
       "<title>36</title>\n",
       "<polygon fill=\"none\" stroke=\"black\" points=\"880,-149.5 788,-149.5 788,-96.5 880,-96.5 880,-149.5\"/>\n",
       "<text text-anchor=\"middle\" x=\"834\" y=\"-134.3\" font-family=\"Times,serif\" font-size=\"14.00\">gini = 0.0</text>\n",
       "<text text-anchor=\"middle\" x=\"834\" y=\"-119.3\" font-family=\"Times,serif\" font-size=\"14.00\">samples = 2</text>\n",
       "<text text-anchor=\"middle\" x=\"834\" y=\"-104.3\" font-family=\"Times,serif\" font-size=\"14.00\">value = [2, 0]</text>\n",
       "</g>\n",
       "<!-- 34&#45;&gt;36 -->\n",
       "<g id=\"edge36\" class=\"edge\">\n",
       "<title>34&#45;&gt;36</title>\n",
       "<path fill=\"none\" stroke=\"black\" d=\"M759.71,-192.88C772.29,-181.23 786.4,-168.14 798.92,-156.53\"/>\n",
       "<polygon fill=\"black\" stroke=\"black\" points=\"801.53,-158.89 806.48,-149.52 796.77,-153.75 801.53,-158.89\"/>\n",
       "</g>\n",
       "<!-- 39 -->\n",
       "<g id=\"node40\" class=\"node\">\n",
       "<title>39</title>\n",
       "<polygon fill=\"none\" stroke=\"black\" points=\"978,-469 880,-469 880,-401 978,-401 978,-469\"/>\n",
       "<text text-anchor=\"middle\" x=\"929\" y=\"-453.8\" font-family=\"Times,serif\" font-size=\"14.00\">X[0] &lt;= 1.64</text>\n",
       "<text text-anchor=\"middle\" x=\"929\" y=\"-438.8\" font-family=\"Times,serif\" font-size=\"14.00\">gini = 0.114</text>\n",
       "<text text-anchor=\"middle\" x=\"929\" y=\"-423.8\" font-family=\"Times,serif\" font-size=\"14.00\">samples = 33</text>\n",
       "<text text-anchor=\"middle\" x=\"929\" y=\"-408.8\" font-family=\"Times,serif\" font-size=\"14.00\">value = [2, 31]</text>\n",
       "</g>\n",
       "<!-- 38&#45;&gt;39 -->\n",
       "<g id=\"edge39\" class=\"edge\">\n",
       "<title>38&#45;&gt;39</title>\n",
       "<path fill=\"none\" stroke=\"black\" d=\"M929,-504.88C929,-496.78 929,-487.98 929,-479.47\"/>\n",
       "<polygon fill=\"black\" stroke=\"black\" points=\"932.5,-479.3 929,-469.3 925.5,-479.3 932.5,-479.3\"/>\n",
       "</g>\n",
       "<!-- 44 -->\n",
       "<g id=\"node45\" class=\"node\">\n",
       "<title>44</title>\n",
       "<polygon fill=\"none\" stroke=\"black\" points=\"1195,-469 1097,-469 1097,-401 1195,-401 1195,-469\"/>\n",
       "<text text-anchor=\"middle\" x=\"1146\" y=\"-453.8\" font-family=\"Times,serif\" font-size=\"14.00\">X[1] &lt;= 1.869</text>\n",
       "<text text-anchor=\"middle\" x=\"1146\" y=\"-438.8\" font-family=\"Times,serif\" font-size=\"14.00\">gini = 0.058</text>\n",
       "<text text-anchor=\"middle\" x=\"1146\" y=\"-423.8\" font-family=\"Times,serif\" font-size=\"14.00\">samples = 67</text>\n",
       "<text text-anchor=\"middle\" x=\"1146\" y=\"-408.8\" font-family=\"Times,serif\" font-size=\"14.00\">value = [65, 2]</text>\n",
       "</g>\n",
       "<!-- 38&#45;&gt;44 -->\n",
       "<g id=\"edge44\" class=\"edge\">\n",
       "<title>38&#45;&gt;44</title>\n",
       "<path fill=\"none\" stroke=\"black\" d=\"M981.53,-513.31C1013.63,-498.22 1054.74,-478.9 1087.82,-463.35\"/>\n",
       "<polygon fill=\"black\" stroke=\"black\" points=\"1089.37,-466.49 1096.93,-459.07 1086.39,-460.15 1089.37,-466.49\"/>\n",
       "</g>\n",
       "<!-- 40 -->\n",
       "<g id=\"node41\" class=\"node\">\n",
       "<title>40</title>\n",
       "<polygon fill=\"none\" stroke=\"black\" points=\"919.5,-365 822.5,-365 822.5,-297 919.5,-297 919.5,-365\"/>\n",
       "<text text-anchor=\"middle\" x=\"871\" y=\"-349.8\" font-family=\"Times,serif\" font-size=\"14.00\">X[1] &lt;= 0.353</text>\n",
       "<text text-anchor=\"middle\" x=\"871\" y=\"-334.8\" font-family=\"Times,serif\" font-size=\"14.00\">gini = 0.444</text>\n",
       "<text text-anchor=\"middle\" x=\"871\" y=\"-319.8\" font-family=\"Times,serif\" font-size=\"14.00\">samples = 3</text>\n",
       "<text text-anchor=\"middle\" x=\"871\" y=\"-304.8\" font-family=\"Times,serif\" font-size=\"14.00\">value = [2, 1]</text>\n",
       "</g>\n",
       "<!-- 39&#45;&gt;40 -->\n",
       "<g id=\"edge40\" class=\"edge\">\n",
       "<title>39&#45;&gt;40</title>\n",
       "<path fill=\"none\" stroke=\"black\" d=\"M910.17,-400.88C905.31,-392.33 900.01,-383.01 894.92,-374.07\"/>\n",
       "<polygon fill=\"black\" stroke=\"black\" points=\"897.92,-372.26 889.93,-365.3 891.84,-375.72 897.92,-372.26\"/>\n",
       "</g>\n",
       "<!-- 43 -->\n",
       "<g id=\"node44\" class=\"node\">\n",
       "<title>43</title>\n",
       "<polygon fill=\"none\" stroke=\"black\" points=\"1036,-357.5 938,-357.5 938,-304.5 1036,-304.5 1036,-357.5\"/>\n",
       "<text text-anchor=\"middle\" x=\"987\" y=\"-342.3\" font-family=\"Times,serif\" font-size=\"14.00\">gini = 0.0</text>\n",
       "<text text-anchor=\"middle\" x=\"987\" y=\"-327.3\" font-family=\"Times,serif\" font-size=\"14.00\">samples = 30</text>\n",
       "<text text-anchor=\"middle\" x=\"987\" y=\"-312.3\" font-family=\"Times,serif\" font-size=\"14.00\">value = [0, 30]</text>\n",
       "</g>\n",
       "<!-- 39&#45;&gt;43 -->\n",
       "<g id=\"edge43\" class=\"edge\">\n",
       "<title>39&#45;&gt;43</title>\n",
       "<path fill=\"none\" stroke=\"black\" d=\"M947.83,-400.88C954.08,-389.89 961.06,-377.62 967.37,-366.52\"/>\n",
       "<polygon fill=\"black\" stroke=\"black\" points=\"970.59,-367.94 972.49,-357.52 964.5,-364.48 970.59,-367.94\"/>\n",
       "</g>\n",
       "<!-- 41 -->\n",
       "<g id=\"node42\" class=\"node\">\n",
       "<title>41</title>\n",
       "<polygon fill=\"none\" stroke=\"black\" points=\"885,-253.5 793,-253.5 793,-200.5 885,-200.5 885,-253.5\"/>\n",
       "<text text-anchor=\"middle\" x=\"839\" y=\"-238.3\" font-family=\"Times,serif\" font-size=\"14.00\">gini = 0.0</text>\n",
       "<text text-anchor=\"middle\" x=\"839\" y=\"-223.3\" font-family=\"Times,serif\" font-size=\"14.00\">samples = 1</text>\n",
       "<text text-anchor=\"middle\" x=\"839\" y=\"-208.3\" font-family=\"Times,serif\" font-size=\"14.00\">value = [0, 1]</text>\n",
       "</g>\n",
       "<!-- 40&#45;&gt;41 -->\n",
       "<g id=\"edge41\" class=\"edge\">\n",
       "<title>40&#45;&gt;41</title>\n",
       "<path fill=\"none\" stroke=\"black\" d=\"M860.61,-296.88C857.23,-286.11 853.47,-274.11 850.04,-263.18\"/>\n",
       "<polygon fill=\"black\" stroke=\"black\" points=\"853.34,-262.01 847.01,-253.52 846.66,-264.11 853.34,-262.01\"/>\n",
       "</g>\n",
       "<!-- 42 -->\n",
       "<g id=\"node43\" class=\"node\">\n",
       "<title>42</title>\n",
       "<polygon fill=\"none\" stroke=\"black\" points=\"995,-253.5 903,-253.5 903,-200.5 995,-200.5 995,-253.5\"/>\n",
       "<text text-anchor=\"middle\" x=\"949\" y=\"-238.3\" font-family=\"Times,serif\" font-size=\"14.00\">gini = 0.0</text>\n",
       "<text text-anchor=\"middle\" x=\"949\" y=\"-223.3\" font-family=\"Times,serif\" font-size=\"14.00\">samples = 2</text>\n",
       "<text text-anchor=\"middle\" x=\"949\" y=\"-208.3\" font-family=\"Times,serif\" font-size=\"14.00\">value = [2, 0]</text>\n",
       "</g>\n",
       "<!-- 40&#45;&gt;42 -->\n",
       "<g id=\"edge42\" class=\"edge\">\n",
       "<title>40&#45;&gt;42</title>\n",
       "<path fill=\"none\" stroke=\"black\" d=\"M896.32,-296.88C904.99,-285.56 914.68,-272.88 923.37,-261.52\"/>\n",
       "<polygon fill=\"black\" stroke=\"black\" points=\"926.19,-263.59 929.48,-253.52 920.63,-259.34 926.19,-263.59\"/>\n",
       "</g>\n",
       "<!-- 45 -->\n",
       "<g id=\"node46\" class=\"node\">\n",
       "<title>45</title>\n",
       "<polygon fill=\"none\" stroke=\"black\" points=\"1192,-365 1100,-365 1100,-297 1192,-297 1192,-365\"/>\n",
       "<text text-anchor=\"middle\" x=\"1146\" y=\"-349.8\" font-family=\"Times,serif\" font-size=\"14.00\">X[0] &lt;= 2.82</text>\n",
       "<text text-anchor=\"middle\" x=\"1146\" y=\"-334.8\" font-family=\"Times,serif\" font-size=\"14.00\">gini = 0.32</text>\n",
       "<text text-anchor=\"middle\" x=\"1146\" y=\"-319.8\" font-family=\"Times,serif\" font-size=\"14.00\">samples = 5</text>\n",
       "<text text-anchor=\"middle\" x=\"1146\" y=\"-304.8\" font-family=\"Times,serif\" font-size=\"14.00\">value = [4, 1]</text>\n",
       "</g>\n",
       "<!-- 44&#45;&gt;45 -->\n",
       "<g id=\"edge45\" class=\"edge\">\n",
       "<title>44&#45;&gt;45</title>\n",
       "<path fill=\"none\" stroke=\"black\" d=\"M1146,-400.88C1146,-392.78 1146,-383.98 1146,-375.47\"/>\n",
       "<polygon fill=\"black\" stroke=\"black\" points=\"1149.5,-375.3 1146,-365.3 1142.5,-375.3 1149.5,-375.3\"/>\n",
       "</g>\n",
       "<!-- 48 -->\n",
       "<g id=\"node49\" class=\"node\">\n",
       "<title>48</title>\n",
       "<polygon fill=\"none\" stroke=\"black\" points=\"1331,-365 1233,-365 1233,-297 1331,-297 1331,-365\"/>\n",
       "<text text-anchor=\"middle\" x=\"1282\" y=\"-349.8\" font-family=\"Times,serif\" font-size=\"14.00\">X[1] &lt;= 3.462</text>\n",
       "<text text-anchor=\"middle\" x=\"1282\" y=\"-334.8\" font-family=\"Times,serif\" font-size=\"14.00\">gini = 0.032</text>\n",
       "<text text-anchor=\"middle\" x=\"1282\" y=\"-319.8\" font-family=\"Times,serif\" font-size=\"14.00\">samples = 62</text>\n",
       "<text text-anchor=\"middle\" x=\"1282\" y=\"-304.8\" font-family=\"Times,serif\" font-size=\"14.00\">value = [61, 1]</text>\n",
       "</g>\n",
       "<!-- 44&#45;&gt;48 -->\n",
       "<g id=\"edge48\" class=\"edge\">\n",
       "<title>44&#45;&gt;48</title>\n",
       "<path fill=\"none\" stroke=\"black\" d=\"M1190.16,-400.88C1202.63,-391.53 1216.32,-381.26 1229.24,-371.57\"/>\n",
       "<polygon fill=\"black\" stroke=\"black\" points=\"1231.7,-374.1 1237.6,-365.3 1227.5,-368.5 1231.7,-374.1\"/>\n",
       "</g>\n",
       "<!-- 46 -->\n",
       "<g id=\"node47\" class=\"node\">\n",
       "<title>46</title>\n",
       "<polygon fill=\"none\" stroke=\"black\" points=\"1105,-253.5 1013,-253.5 1013,-200.5 1105,-200.5 1105,-253.5\"/>\n",
       "<text text-anchor=\"middle\" x=\"1059\" y=\"-238.3\" font-family=\"Times,serif\" font-size=\"14.00\">gini = 0.0</text>\n",
       "<text text-anchor=\"middle\" x=\"1059\" y=\"-223.3\" font-family=\"Times,serif\" font-size=\"14.00\">samples = 4</text>\n",
       "<text text-anchor=\"middle\" x=\"1059\" y=\"-208.3\" font-family=\"Times,serif\" font-size=\"14.00\">value = [4, 0]</text>\n",
       "</g>\n",
       "<!-- 45&#45;&gt;46 -->\n",
       "<g id=\"edge46\" class=\"edge\">\n",
       "<title>45&#45;&gt;46</title>\n",
       "<path fill=\"none\" stroke=\"black\" d=\"M1117.75,-296.88C1108,-285.45 1097.07,-272.63 1087.31,-261.19\"/>\n",
       "<polygon fill=\"black\" stroke=\"black\" points=\"1089.92,-258.86 1080.77,-253.52 1084.59,-263.4 1089.92,-258.86\"/>\n",
       "</g>\n",
       "<!-- 47 -->\n",
       "<g id=\"node48\" class=\"node\">\n",
       "<title>47</title>\n",
       "<polygon fill=\"none\" stroke=\"black\" points=\"1215,-253.5 1123,-253.5 1123,-200.5 1215,-200.5 1215,-253.5\"/>\n",
       "<text text-anchor=\"middle\" x=\"1169\" y=\"-238.3\" font-family=\"Times,serif\" font-size=\"14.00\">gini = 0.0</text>\n",
       "<text text-anchor=\"middle\" x=\"1169\" y=\"-223.3\" font-family=\"Times,serif\" font-size=\"14.00\">samples = 1</text>\n",
       "<text text-anchor=\"middle\" x=\"1169\" y=\"-208.3\" font-family=\"Times,serif\" font-size=\"14.00\">value = [0, 1]</text>\n",
       "</g>\n",
       "<!-- 45&#45;&gt;47 -->\n",
       "<g id=\"edge47\" class=\"edge\">\n",
       "<title>45&#45;&gt;47</title>\n",
       "<path fill=\"none\" stroke=\"black\" d=\"M1153.47,-296.88C1155.87,-286.22 1158.55,-274.35 1160.99,-263.52\"/>\n",
       "<polygon fill=\"black\" stroke=\"black\" points=\"1164.46,-264.04 1163.25,-253.52 1157.63,-262.51 1164.46,-264.04\"/>\n",
       "</g>\n",
       "<!-- 49 -->\n",
       "<g id=\"node50\" class=\"node\">\n",
       "<title>49</title>\n",
       "<polygon fill=\"none\" stroke=\"black\" points=\"1331,-253.5 1233,-253.5 1233,-200.5 1331,-200.5 1331,-253.5\"/>\n",
       "<text text-anchor=\"middle\" x=\"1282\" y=\"-238.3\" font-family=\"Times,serif\" font-size=\"14.00\">gini = 0.0</text>\n",
       "<text text-anchor=\"middle\" x=\"1282\" y=\"-223.3\" font-family=\"Times,serif\" font-size=\"14.00\">samples = 49</text>\n",
       "<text text-anchor=\"middle\" x=\"1282\" y=\"-208.3\" font-family=\"Times,serif\" font-size=\"14.00\">value = [49, 0]</text>\n",
       "</g>\n",
       "<!-- 48&#45;&gt;49 -->\n",
       "<g id=\"edge49\" class=\"edge\">\n",
       "<title>48&#45;&gt;49</title>\n",
       "<path fill=\"none\" stroke=\"black\" d=\"M1282,-296.88C1282,-286.33 1282,-274.6 1282,-263.85\"/>\n",
       "<polygon fill=\"black\" stroke=\"black\" points=\"1285.5,-263.52 1282,-253.52 1278.5,-263.52 1285.5,-263.52\"/>\n",
       "</g>\n",
       "<!-- 50 -->\n",
       "<g id=\"node51\" class=\"node\">\n",
       "<title>50</title>\n",
       "<polygon fill=\"none\" stroke=\"black\" points=\"1447,-261 1349,-261 1349,-193 1447,-193 1447,-261\"/>\n",
       "<text text-anchor=\"middle\" x=\"1398\" y=\"-245.8\" font-family=\"Times,serif\" font-size=\"14.00\">X[1] &lt;= 3.484</text>\n",
       "<text text-anchor=\"middle\" x=\"1398\" y=\"-230.8\" font-family=\"Times,serif\" font-size=\"14.00\">gini = 0.142</text>\n",
       "<text text-anchor=\"middle\" x=\"1398\" y=\"-215.8\" font-family=\"Times,serif\" font-size=\"14.00\">samples = 13</text>\n",
       "<text text-anchor=\"middle\" x=\"1398\" y=\"-200.8\" font-family=\"Times,serif\" font-size=\"14.00\">value = [12, 1]</text>\n",
       "</g>\n",
       "<!-- 48&#45;&gt;50 -->\n",
       "<g id=\"edge50\" class=\"edge\">\n",
       "<title>48&#45;&gt;50</title>\n",
       "<path fill=\"none\" stroke=\"black\" d=\"M1319.66,-296.88C1330.1,-287.71 1341.54,-277.65 1352.37,-268.12\"/>\n",
       "<polygon fill=\"black\" stroke=\"black\" points=\"1354.93,-270.53 1360.13,-261.3 1350.31,-265.27 1354.93,-270.53\"/>\n",
       "</g>\n",
       "<!-- 51 -->\n",
       "<g id=\"node52\" class=\"node\">\n",
       "<title>51</title>\n",
       "<polygon fill=\"none\" stroke=\"black\" points=\"1387,-149.5 1295,-149.5 1295,-96.5 1387,-96.5 1387,-149.5\"/>\n",
       "<text text-anchor=\"middle\" x=\"1341\" y=\"-134.3\" font-family=\"Times,serif\" font-size=\"14.00\">gini = 0.0</text>\n",
       "<text text-anchor=\"middle\" x=\"1341\" y=\"-119.3\" font-family=\"Times,serif\" font-size=\"14.00\">samples = 1</text>\n",
       "<text text-anchor=\"middle\" x=\"1341\" y=\"-104.3\" font-family=\"Times,serif\" font-size=\"14.00\">value = [0, 1]</text>\n",
       "</g>\n",
       "<!-- 50&#45;&gt;51 -->\n",
       "<g id=\"edge51\" class=\"edge\">\n",
       "<title>50&#45;&gt;51</title>\n",
       "<path fill=\"none\" stroke=\"black\" d=\"M1379.49,-192.88C1373.35,-181.89 1366.49,-169.62 1360.29,-158.52\"/>\n",
       "<polygon fill=\"black\" stroke=\"black\" points=\"1363.19,-156.54 1355.26,-149.52 1357.08,-159.96 1363.19,-156.54\"/>\n",
       "</g>\n",
       "<!-- 52 -->\n",
       "<g id=\"node53\" class=\"node\">\n",
       "<title>52</title>\n",
       "<polygon fill=\"none\" stroke=\"black\" points=\"1503,-149.5 1405,-149.5 1405,-96.5 1503,-96.5 1503,-149.5\"/>\n",
       "<text text-anchor=\"middle\" x=\"1454\" y=\"-134.3\" font-family=\"Times,serif\" font-size=\"14.00\">gini = 0.0</text>\n",
       "<text text-anchor=\"middle\" x=\"1454\" y=\"-119.3\" font-family=\"Times,serif\" font-size=\"14.00\">samples = 12</text>\n",
       "<text text-anchor=\"middle\" x=\"1454\" y=\"-104.3\" font-family=\"Times,serif\" font-size=\"14.00\">value = [12, 0]</text>\n",
       "</g>\n",
       "<!-- 50&#45;&gt;52 -->\n",
       "<g id=\"edge52\" class=\"edge\">\n",
       "<title>50&#45;&gt;52</title>\n",
       "<path fill=\"none\" stroke=\"black\" d=\"M1416.18,-192.88C1422.22,-181.89 1428.96,-169.62 1435.05,-158.52\"/>\n",
       "<polygon fill=\"black\" stroke=\"black\" points=\"1438.24,-159.97 1439.99,-149.52 1432.11,-156.6 1438.24,-159.97\"/>\n",
       "</g>\n",
       "<!-- 54 -->\n",
       "<g id=\"node55\" class=\"node\">\n",
       "<title>54</title>\n",
       "<polygon fill=\"none\" stroke=\"black\" points=\"741,-669.5 643,-669.5 643,-616.5 741,-616.5 741,-669.5\"/>\n",
       "<text text-anchor=\"middle\" x=\"692\" y=\"-654.3\" font-family=\"Times,serif\" font-size=\"14.00\">gini = 0.0</text>\n",
       "<text text-anchor=\"middle\" x=\"692\" y=\"-639.3\" font-family=\"Times,serif\" font-size=\"14.00\">samples = 40</text>\n",
       "<text text-anchor=\"middle\" x=\"692\" y=\"-624.3\" font-family=\"Times,serif\" font-size=\"14.00\">value = [0, 40]</text>\n",
       "</g>\n",
       "<!-- 53&#45;&gt;54 -->\n",
       "<g id=\"edge54\" class=\"edge\">\n",
       "<title>53&#45;&gt;54</title>\n",
       "<path fill=\"none\" stroke=\"black\" d=\"M692.68,-712.88C692.57,-702.33 692.46,-690.6 692.35,-679.85\"/>\n",
       "<polygon fill=\"black\" stroke=\"black\" points=\"695.85,-679.49 692.25,-669.52 688.85,-679.55 695.85,-679.49\"/>\n",
       "</g>\n",
       "<!-- 55 -->\n",
       "<g id=\"node56\" class=\"node\">\n",
       "<title>55</title>\n",
       "<polygon fill=\"none\" stroke=\"black\" points=\"857,-669.5 759,-669.5 759,-616.5 857,-616.5 857,-669.5\"/>\n",
       "<text text-anchor=\"middle\" x=\"808\" y=\"-654.3\" font-family=\"Times,serif\" font-size=\"14.00\">gini = 0.0</text>\n",
       "<text text-anchor=\"middle\" x=\"808\" y=\"-639.3\" font-family=\"Times,serif\" font-size=\"14.00\">samples = 26</text>\n",
       "<text text-anchor=\"middle\" x=\"808\" y=\"-624.3\" font-family=\"Times,serif\" font-size=\"14.00\">value = [26, 0]</text>\n",
       "</g>\n",
       "<!-- 53&#45;&gt;55 -->\n",
       "<g id=\"edge55\" class=\"edge\">\n",
       "<title>53&#45;&gt;55</title>\n",
       "<path fill=\"none\" stroke=\"black\" d=\"M730.34,-712.88C743.6,-701.12 758.51,-687.89 771.69,-676.2\"/>\n",
       "<polygon fill=\"black\" stroke=\"black\" points=\"774.07,-678.77 779.23,-669.52 769.42,-673.54 774.07,-678.77\"/>\n",
       "</g>\n",
       "</g>\n",
       "</svg>\n"
      ],
      "text/plain": [
       "<graphviz.files.Source at 0x7f9860890910>"
      ]
     },
     "execution_count": 17,
     "metadata": {},
     "output_type": "execute_result"
    }
   ],
   "source": [
    "show_tree(clf)"
   ]
  },
  {
   "cell_type": "markdown",
   "metadata": {},
   "source": [
    "Doesn't it seem too complex?"
   ]
  },
  {
   "cell_type": "markdown",
   "metadata": {},
   "source": [
    "### Feature importance\n",
    "\n",
    "Another clue to check if we are overfitting.\n",
    "\n",
    "- Splitting is performed according to a measure of dispersion (impurity) of the data.\n",
    "- Scikit-learn uses Gini impurity as default\n",
    "- This enables the evaluation of an importance index for each feature that represents how much they contributed to the overall classification"
   ]
  },
  {
   "cell_type": "markdown",
   "metadata": {},
   "source": [
    "Importance weight based on Gini impurity"
   ]
  },
  {
   "cell_type": "code",
   "execution_count": 18,
   "metadata": {},
   "outputs": [
    {
     "data": {
      "text/plain": [
       "array([0.3439022, 0.6560978])"
      ]
     },
     "execution_count": 18,
     "metadata": {},
     "output_type": "execute_result"
    }
   ],
   "source": [
    "clf.feature_importances_"
   ]
  },
  {
   "cell_type": "markdown",
   "metadata": {},
   "source": [
    "Attributes ending with `_`: something that is determined when the model is fit."
   ]
  },
  {
   "cell_type": "markdown",
   "metadata": {},
   "source": [
    "Looking at the plot, we know that the point $P_1 = [-1,-1]$ should be of class 0 (zero), and the point $P_2 = [-1,4]$ should belong to class 1. Let's Check the classifier's prediction:"
   ]
  },
  {
   "cell_type": "code",
   "execution_count": 19,
   "metadata": {},
   "outputs": [
    {
     "name": "stdout",
     "output_type": "stream",
     "text": [
      "Prediction for P1:  [0.]\n",
      "Prediction for P2:  [1.]\n"
     ]
    }
   ],
   "source": [
    "P1 = np.array([[-1,-1]])\n",
    "P2 = np.array([[-1,4]])\n",
    "\n",
    "print(\"Prediction for P1: \", clf.predict(P1))\n",
    "print(\"Prediction for P2: \", clf.predict(P2))"
   ]
  },
  {
   "cell_type": "markdown",
   "metadata": {},
   "source": [
    "**Question:** Why did we use [[ and ]] in the previous cell?\n",
    "\n",
    "You can also check the probability that a given point belongs to a class:"
   ]
  },
  {
   "cell_type": "code",
   "execution_count": 20,
   "metadata": {},
   "outputs": [
    {
     "name": "stdout",
     "output_type": "stream",
     "text": [
      "Probability for P1:  [[1. 0.]]\n",
      "Probability for P2:  [[0. 1.]]\n"
     ]
    }
   ],
   "source": [
    "print(\"Probability for P1: \", clf.predict_proba(P1))\n",
    "print(\"Probability for P2: \", clf.predict_proba(P2))"
   ]
  },
  {
   "cell_type": "markdown",
   "metadata": {},
   "source": [
    "### Drawing the decision boundary"
   ]
  },
  {
   "cell_type": "markdown",
   "metadata": {},
   "source": [
    "Next, let's investigate the \"decision boundaries\" -- i.e. the boundary between classes"
   ]
  },
  {
   "cell_type": "markdown",
   "metadata": {},
   "source": [
    "#### Drawing the decision boundary using `meshgrid` and `ravel`"
   ]
  },
  {
   "cell_type": "code",
   "execution_count": 21,
   "metadata": {},
   "outputs": [
    {
     "data": {
      "image/png": "[encoded data removed]",
      "text/plain": [
       "<Figure size 432x288 with 1 Axes>"
      ]
     },
     "metadata": {
      "needs_background": "light"
     },
     "output_type": "display_data"
    }
   ],
   "source": [
    "delta = 0.5\n",
    "x     = np.arange(-2.0, 5.001, delta)\n",
    "y     = np.arange(-2.0, 5.001, delta)\n",
    "\n",
    "X, Y = np.meshgrid(x, y)\n",
    "Z    = clf.predict( np.c_[X.ravel(), Y.ravel()] ) \n",
    "# c_[a, b] concatenates two arrays horizontally. thus, np.c_[X.ravel(), Y.ravel()] is (len(x) len(y)) x 2 matrix, containing all the grid points.\n",
    "# Z contains prediction result for each grid point.\n",
    "# reshape to fit to the shape of the original grid\n",
    "Z    = Z.reshape( X.shape ) \n",
    "\n",
    "plt.contourf( X, Y, Z, cmap=plt.get_cmap('jet')) # draws filled contours. blue for class 0, red for class 1.\n",
    "\n",
    "plt.show()"
   ]
  },
  {
   "cell_type": "code",
   "execution_count": 23,
   "metadata": {},
   "outputs": [
    {
     "data": {
      "text/plain": [
       "array([-2. , -1.5, -1. , -0.5,  0. ,  0.5,  1. ,  1.5,  2. ,  2.5,  3. ,\n",
       "        3.5,  4. ,  4.5,  5. ])"
      ]
     },
     "execution_count": 23,
     "metadata": {},
     "output_type": "execute_result"
    }
   ],
   "source": [
    "np.arange(-2.0, 5.001, delta)"
   ]
  },
  {
   "cell_type": "markdown",
   "metadata": {},
   "source": [
    "#### `meshgrid` function"
   ]
  },
  {
   "cell_type": "markdown",
   "metadata": {},
   "source": [
    "The `meshgrid` function returns coordinate matrices from the two coordinate vectors. If two vectors (one with length `a` and the other with length `b`) are given as its argument, it returns two 2-dimensional `a x b` arrays, each corresponding to x-coordinates and y-coordinates of `a x b` grid."
   ]
  },
  {
   "cell_type": "code",
   "execution_count": 24,
   "metadata": {},
   "outputs": [
    {
     "name": "stdout",
     "output_type": "stream",
     "text": [
      "xv =  [[0.  0.5 1. ]\n",
      " [0.  0.5 1. ]]\n",
      "yv =  [[0. 0. 0.]\n",
      " [1. 1. 1.]]\n"
     ]
    }
   ],
   "source": [
    "nx, ny = (3, 2)\n",
    "x = np.linspace(0, 1, nx) # [0, 0.5, 1]\n",
    "y = np.linspace(0, 1, ny) # [0, 1]\n",
    "xv, yv = np.meshgrid(x, y)\n",
    "print(\"xv = \", xv)\n",
    "print(\"yv = \", yv)"
   ]
  },
  {
   "cell_type": "markdown",
   "metadata": {},
   "source": [
    "#### `ravel` function\n",
    "\n",
    "Returns a \"flattened\" 1-dimensional array."
   ]
  },
  {
   "cell_type": "code",
   "execution_count": 25,
   "metadata": {},
   "outputs": [],
   "source": [
    "x = np.array([[1, 2, 3], [4, 5, 6]])"
   ]
  },
  {
   "cell_type": "code",
   "execution_count": 26,
   "metadata": {},
   "outputs": [
    {
     "data": {
      "text/plain": [
       "array([1, 2, 3, 4, 5, 6])"
      ]
     },
     "execution_count": 26,
     "metadata": {},
     "output_type": "execute_result"
    }
   ],
   "source": [
    "np.ravel(x)"
   ]
  },
  {
   "cell_type": "markdown",
   "metadata": {},
   "source": [
    "#### `np.c_` concatenates columns horizontally\n"
   ]
  },
  {
   "cell_type": "code",
   "execution_count": 27,
   "metadata": {},
   "outputs": [
    {
     "data": {
      "text/plain": [
       "array([[0. , 0. ],\n",
       "       [0.5, 0. ],\n",
       "       [1. , 0. ],\n",
       "       [0. , 1. ],\n",
       "       [0.5, 1. ],\n",
       "       [1. , 1. ]])"
      ]
     },
     "execution_count": 27,
     "metadata": {},
     "output_type": "execute_result"
    }
   ],
   "source": [
    "np.c_[xv.ravel(), yv.ravel()]"
   ]
  },
  {
   "cell_type": "markdown",
   "metadata": {},
   "source": [
    "`delta` controls how fine the grid is. "
   ]
  },
  {
   "cell_type": "code",
   "execution_count": 28,
   "metadata": {},
   "outputs": [
    {
     "data": {
      "image/png": "[encoded data removed]",
      "text/plain": [
       "<Figure size 432x288 with 1 Axes>"
      ]
     },
     "metadata": {
      "needs_background": "light"
     },
     "output_type": "display_data"
    }
   ],
   "source": [
    "delta = 0.01\n",
    "x     = np.arange(-2.0, 5.001, delta)\n",
    "y     = np.arange(-2.0, 5.001, delta)\n",
    "\n",
    "X, Y = np.meshgrid(x, y)\n",
    "Z    = clf.predict( np.c_[X.ravel(), Y.ravel()] )\n",
    "Z    = Z.reshape( X.shape )\n",
    "\n",
    "plt.contourf( X, Y, Z, cmap=plt.get_cmap('jet'))\n",
    "\n",
    "plt.show()"
   ]
  },
  {
   "cell_type": "markdown",
   "metadata": {},
   "source": [
    "### Restricting the decision tree\n",
    "Our model is too complex, we overfit the model. \n",
    "- Need to reduce complexity of the model, e.g., depth of the tree.\n",
    "\n",
    "Let's use some of the hyper-parameters available in Scikit-learn to modify the learning process."
   ]
  },
  {
   "cell_type": "code",
   "execution_count": 29,
   "metadata": {},
   "outputs": [
    {
     "name": "stdout",
     "output_type": "stream",
     "text": [
      "0.8225\n"
     ]
    },
    {
     "data": {
      "image/svg+xml": [
       "<?xml version=\"1.0\" encoding=\"UTF-8\" standalone=\"no\"?>\n",
       "<!DOCTYPE svg PUBLIC \"-//W3C//DTD SVG 1.1//EN\"\n",
       " \"http://www.w3.org/Graphics/SVG/1.1/DTD/svg11.dtd\">\n",
       "<!-- Generated by graphviz version 2.47.2 (0)\n",
       " -->\n",
       "<!-- Title: Tree Pages: 1 -->\n",
       "<svg width=\"593pt\" height=\"581pt\"\n",
       " viewBox=\"0.00 0.00 593.00 581.00\" xmlns=\"http://www.w3.org/2000/svg\" xmlns:xlink=\"http://www.w3.org/1999/xlink\">\n",
       "<g id=\"graph0\" class=\"graph\" transform=\"scale(1 1) rotate(0) translate(4 577)\">\n",
       "<title>Tree</title>\n",
       "<polygon fill=\"white\" stroke=\"transparent\" points=\"-4,4 -4,-577 589,-577 589,4 -4,4\"/>\n",
       "<!-- 0 -->\n",
       "<g id=\"node1\" class=\"node\">\n",
       "<title>0</title>\n",
       "<polygon fill=\"none\" stroke=\"black\" points=\"349.5,-573 230.5,-573 230.5,-505 349.5,-505 349.5,-573\"/>\n",
       "<text text-anchor=\"middle\" x=\"290\" y=\"-557.8\" font-family=\"Times,serif\" font-size=\"14.00\">X[1] &lt;= 4.237</text>\n",
       "<text text-anchor=\"middle\" x=\"290\" y=\"-542.8\" font-family=\"Times,serif\" font-size=\"14.00\">gini = 0.5</text>\n",
       "<text text-anchor=\"middle\" x=\"290\" y=\"-527.8\" font-family=\"Times,serif\" font-size=\"14.00\">samples = 400</text>\n",
       "<text text-anchor=\"middle\" x=\"290\" y=\"-512.8\" font-family=\"Times,serif\" font-size=\"14.00\">value = [196, 204]</text>\n",
       "</g>\n",
       "<!-- 1 -->\n",
       "<g id=\"node2\" class=\"node\">\n",
       "<title>1</title>\n",
       "<polygon fill=\"none\" stroke=\"black\" points=\"287.5,-469 168.5,-469 168.5,-401 287.5,-401 287.5,-469\"/>\n",
       "<text text-anchor=\"middle\" x=\"228\" y=\"-453.8\" font-family=\"Times,serif\" font-size=\"14.00\">X[0] &lt;= &#45;1.3</text>\n",
       "<text text-anchor=\"middle\" x=\"228\" y=\"-438.8\" font-family=\"Times,serif\" font-size=\"14.00\">gini = 0.5</text>\n",
       "<text text-anchor=\"middle\" x=\"228\" y=\"-423.8\" font-family=\"Times,serif\" font-size=\"14.00\">samples = 396</text>\n",
       "<text text-anchor=\"middle\" x=\"228\" y=\"-408.8\" font-family=\"Times,serif\" font-size=\"14.00\">value = [192, 204]</text>\n",
       "</g>\n",
       "<!-- 0&#45;&gt;1 -->\n",
       "<g id=\"edge1\" class=\"edge\">\n",
       "<title>0&#45;&gt;1</title>\n",
       "<path fill=\"none\" stroke=\"black\" d=\"M269.87,-504.88C264.67,-496.33 259.01,-487.01 253.57,-478.07\"/>\n",
       "<polygon fill=\"black\" stroke=\"black\" points=\"256.43,-476.03 248.24,-469.3 250.44,-479.66 256.43,-476.03\"/>\n",
       "<text text-anchor=\"middle\" x=\"242.32\" y=\"-489.89\" font-family=\"Times,serif\" font-size=\"14.00\">True</text>\n",
       "</g>\n",
       "<!-- 16 -->\n",
       "<g id=\"node17\" class=\"node\">\n",
       "<title>16</title>\n",
       "<polygon fill=\"none\" stroke=\"black\" points=\"398,-461.5 306,-461.5 306,-408.5 398,-408.5 398,-461.5\"/>\n",
       "<text text-anchor=\"middle\" x=\"352\" y=\"-446.3\" font-family=\"Times,serif\" font-size=\"14.00\">gini = 0.0</text>\n",
       "<text text-anchor=\"middle\" x=\"352\" y=\"-431.3\" font-family=\"Times,serif\" font-size=\"14.00\">samples = 4</text>\n",
       "<text text-anchor=\"middle\" x=\"352\" y=\"-416.3\" font-family=\"Times,serif\" font-size=\"14.00\">value = [4, 0]</text>\n",
       "</g>\n",
       "<!-- 0&#45;&gt;16 -->\n",
       "<g id=\"edge16\" class=\"edge\">\n",
       "<title>0&#45;&gt;16</title>\n",
       "<path fill=\"none\" stroke=\"black\" d=\"M310.13,-504.88C316.88,-493.78 324.42,-481.37 331.22,-470.18\"/>\n",
       "<polygon fill=\"black\" stroke=\"black\" points=\"334.28,-471.88 336.49,-461.52 328.3,-468.25 334.28,-471.88\"/>\n",
       "<text text-anchor=\"middle\" x=\"342.41\" y=\"-482.11\" font-family=\"Times,serif\" font-size=\"14.00\">False</text>\n",
       "</g>\n",
       "<!-- 2 -->\n",
       "<g id=\"node3\" class=\"node\">\n",
       "<title>2</title>\n",
       "<polygon fill=\"none\" stroke=\"black\" points=\"214.5,-365 113.5,-365 113.5,-297 214.5,-297 214.5,-365\"/>\n",
       "<text text-anchor=\"middle\" x=\"164\" y=\"-349.8\" font-family=\"Times,serif\" font-size=\"14.00\">X[0] &lt;= &#45;1.654</text>\n",
       "<text text-anchor=\"middle\" x=\"164\" y=\"-334.8\" font-family=\"Times,serif\" font-size=\"14.00\">gini = 0.245</text>\n",
       "<text text-anchor=\"middle\" x=\"164\" y=\"-319.8\" font-family=\"Times,serif\" font-size=\"14.00\">samples = 7</text>\n",
       "<text text-anchor=\"middle\" x=\"164\" y=\"-304.8\" font-family=\"Times,serif\" font-size=\"14.00\">value = [1, 6]</text>\n",
       "</g>\n",
       "<!-- 1&#45;&gt;2 -->\n",
       "<g id=\"edge2\" class=\"edge\">\n",
       "<title>1&#45;&gt;2</title>\n",
       "<path fill=\"none\" stroke=\"black\" d=\"M207.22,-400.88C201.8,-392.24 195.89,-382.82 190.22,-373.79\"/>\n",
       "<polygon fill=\"black\" stroke=\"black\" points=\"193.17,-371.91 184.89,-365.3 187.24,-375.63 193.17,-371.91\"/>\n",
       "</g>\n",
       "<!-- 5 -->\n",
       "<g id=\"node6\" class=\"node\">\n",
       "<title>5</title>\n",
       "<polygon fill=\"none\" stroke=\"black\" points=\"351.5,-365 232.5,-365 232.5,-297 351.5,-297 351.5,-365\"/>\n",
       "<text text-anchor=\"middle\" x=\"292\" y=\"-349.8\" font-family=\"Times,serif\" font-size=\"14.00\">X[0] &lt;= 3.22</text>\n",
       "<text text-anchor=\"middle\" x=\"292\" y=\"-334.8\" font-family=\"Times,serif\" font-size=\"14.00\">gini = 0.5</text>\n",
       "<text text-anchor=\"middle\" x=\"292\" y=\"-319.8\" font-family=\"Times,serif\" font-size=\"14.00\">samples = 389</text>\n",
       "<text text-anchor=\"middle\" x=\"292\" y=\"-304.8\" font-family=\"Times,serif\" font-size=\"14.00\">value = [191, 198]</text>\n",
       "</g>\n",
       "<!-- 1&#45;&gt;5 -->\n",
       "<g id=\"edge5\" class=\"edge\">\n",
       "<title>1&#45;&gt;5</title>\n",
       "<path fill=\"none\" stroke=\"black\" d=\"M248.78,-400.88C254.2,-392.24 260.11,-382.82 265.78,-373.79\"/>\n",
       "<polygon fill=\"black\" stroke=\"black\" points=\"268.76,-375.63 271.11,-365.3 262.83,-371.91 268.76,-375.63\"/>\n",
       "</g>\n",
       "<!-- 3 -->\n",
       "<g id=\"node4\" class=\"node\">\n",
       "<title>3</title>\n",
       "<polygon fill=\"none\" stroke=\"black\" points=\"101,-253.5 9,-253.5 9,-200.5 101,-200.5 101,-253.5\"/>\n",
       "<text text-anchor=\"middle\" x=\"55\" y=\"-238.3\" font-family=\"Times,serif\" font-size=\"14.00\">gini = 0.0</text>\n",
       "<text text-anchor=\"middle\" x=\"55\" y=\"-223.3\" font-family=\"Times,serif\" font-size=\"14.00\">samples = 1</text>\n",
       "<text text-anchor=\"middle\" x=\"55\" y=\"-208.3\" font-family=\"Times,serif\" font-size=\"14.00\">value = [1, 0]</text>\n",
       "</g>\n",
       "<!-- 2&#45;&gt;3 -->\n",
       "<g id=\"edge3\" class=\"edge\">\n",
       "<title>2&#45;&gt;3</title>\n",
       "<path fill=\"none\" stroke=\"black\" d=\"M128.61,-296.88C116.15,-285.23 102.17,-272.14 89.76,-260.53\"/>\n",
       "<polygon fill=\"black\" stroke=\"black\" points=\"91.96,-257.8 82.27,-253.52 87.18,-262.91 91.96,-257.8\"/>\n",
       "</g>\n",
       "<!-- 4 -->\n",
       "<g id=\"node5\" class=\"node\">\n",
       "<title>4</title>\n",
       "<polygon fill=\"none\" stroke=\"black\" points=\"211,-253.5 119,-253.5 119,-200.5 211,-200.5 211,-253.5\"/>\n",
       "<text text-anchor=\"middle\" x=\"165\" y=\"-238.3\" font-family=\"Times,serif\" font-size=\"14.00\">gini = 0.0</text>\n",
       "<text text-anchor=\"middle\" x=\"165\" y=\"-223.3\" font-family=\"Times,serif\" font-size=\"14.00\">samples = 6</text>\n",
       "<text text-anchor=\"middle\" x=\"165\" y=\"-208.3\" font-family=\"Times,serif\" font-size=\"14.00\">value = [0, 6]</text>\n",
       "</g>\n",
       "<!-- 2&#45;&gt;4 -->\n",
       "<g id=\"edge4\" class=\"edge\">\n",
       "<title>2&#45;&gt;4</title>\n",
       "<path fill=\"none\" stroke=\"black\" d=\"M164.32,-296.88C164.43,-286.33 164.54,-274.6 164.65,-263.85\"/>\n",
       "<polygon fill=\"black\" stroke=\"black\" points=\"168.15,-263.55 164.75,-253.52 161.15,-263.49 168.15,-263.55\"/>\n",
       "</g>\n",
       "<!-- 6 -->\n",
       "<g id=\"node7\" class=\"node\">\n",
       "<title>6</title>\n",
       "<polygon fill=\"none\" stroke=\"black\" points=\"350.5,-261 231.5,-261 231.5,-193 350.5,-193 350.5,-261\"/>\n",
       "<text text-anchor=\"middle\" x=\"291\" y=\"-245.8\" font-family=\"Times,serif\" font-size=\"14.00\">X[1] &lt;= 0.11</text>\n",
       "<text text-anchor=\"middle\" x=\"291\" y=\"-230.8\" font-family=\"Times,serif\" font-size=\"14.00\">gini = 0.5</text>\n",
       "<text text-anchor=\"middle\" x=\"291\" y=\"-215.8\" font-family=\"Times,serif\" font-size=\"14.00\">samples = 323</text>\n",
       "<text text-anchor=\"middle\" x=\"291\" y=\"-200.8\" font-family=\"Times,serif\" font-size=\"14.00\">value = [165, 158]</text>\n",
       "</g>\n",
       "<!-- 5&#45;&gt;6 -->\n",
       "<g id=\"edge6\" class=\"edge\">\n",
       "<title>5&#45;&gt;6</title>\n",
       "<path fill=\"none\" stroke=\"black\" d=\"M291.68,-296.88C291.6,-288.78 291.51,-279.98 291.43,-271.47\"/>\n",
       "<polygon fill=\"black\" stroke=\"black\" points=\"294.92,-271.26 291.33,-261.3 287.92,-271.33 294.92,-271.26\"/>\n",
       "</g>\n",
       "<!-- 13 -->\n",
       "<g id=\"node14\" class=\"node\">\n",
       "<title>13</title>\n",
       "<polygon fill=\"none\" stroke=\"black\" points=\"473.5,-261 368.5,-261 368.5,-193 473.5,-193 473.5,-261\"/>\n",
       "<text text-anchor=\"middle\" x=\"421\" y=\"-245.8\" font-family=\"Times,serif\" font-size=\"14.00\">X[1] &lt;= 1.48</text>\n",
       "<text text-anchor=\"middle\" x=\"421\" y=\"-230.8\" font-family=\"Times,serif\" font-size=\"14.00\">gini = 0.478</text>\n",
       "<text text-anchor=\"middle\" x=\"421\" y=\"-215.8\" font-family=\"Times,serif\" font-size=\"14.00\">samples = 66</text>\n",
       "<text text-anchor=\"middle\" x=\"421\" y=\"-200.8\" font-family=\"Times,serif\" font-size=\"14.00\">value = [26, 40]</text>\n",
       "</g>\n",
       "<!-- 5&#45;&gt;13 -->\n",
       "<g id=\"edge13\" class=\"edge\">\n",
       "<title>5&#45;&gt;13</title>\n",
       "<path fill=\"none\" stroke=\"black\" d=\"M333.88,-296.88C345.71,-287.53 358.7,-277.26 370.96,-267.57\"/>\n",
       "<polygon fill=\"black\" stroke=\"black\" points=\"373.21,-270.25 378.89,-261.3 368.87,-264.76 373.21,-270.25\"/>\n",
       "</g>\n",
       "<!-- 7 -->\n",
       "<g id=\"node8\" class=\"node\">\n",
       "<title>7</title>\n",
       "<polygon fill=\"none\" stroke=\"black\" points=\"214.5,-157 109.5,-157 109.5,-89 214.5,-89 214.5,-157\"/>\n",
       "<text text-anchor=\"middle\" x=\"162\" y=\"-141.8\" font-family=\"Times,serif\" font-size=\"14.00\">X[0] &lt;= 1.96</text>\n",
       "<text text-anchor=\"middle\" x=\"162\" y=\"-126.8\" font-family=\"Times,serif\" font-size=\"14.00\">gini = 0.437</text>\n",
       "<text text-anchor=\"middle\" x=\"162\" y=\"-111.8\" font-family=\"Times,serif\" font-size=\"14.00\">samples = 90</text>\n",
       "<text text-anchor=\"middle\" x=\"162\" y=\"-96.8\" font-family=\"Times,serif\" font-size=\"14.00\">value = [61, 29]</text>\n",
       "</g>\n",
       "<!-- 6&#45;&gt;7 -->\n",
       "<g id=\"edge7\" class=\"edge\">\n",
       "<title>6&#45;&gt;7</title>\n",
       "<path fill=\"none\" stroke=\"black\" d=\"M249.12,-192.88C237.29,-183.53 224.3,-173.26 212.04,-163.57\"/>\n",
       "<polygon fill=\"black\" stroke=\"black\" points=\"214.13,-160.76 204.11,-157.3 209.79,-166.25 214.13,-160.76\"/>\n",
       "</g>\n",
       "<!-- 10 -->\n",
       "<g id=\"node11\" class=\"node\">\n",
       "<title>10</title>\n",
       "<polygon fill=\"none\" stroke=\"black\" points=\"351.5,-157 232.5,-157 232.5,-89 351.5,-89 351.5,-157\"/>\n",
       "<text text-anchor=\"middle\" x=\"292\" y=\"-141.8\" font-family=\"Times,serif\" font-size=\"14.00\">X[0] &lt;= 1.427</text>\n",
       "<text text-anchor=\"middle\" x=\"292\" y=\"-126.8\" font-family=\"Times,serif\" font-size=\"14.00\">gini = 0.494</text>\n",
       "<text text-anchor=\"middle\" x=\"292\" y=\"-111.8\" font-family=\"Times,serif\" font-size=\"14.00\">samples = 233</text>\n",
       "<text text-anchor=\"middle\" x=\"292\" y=\"-96.8\" font-family=\"Times,serif\" font-size=\"14.00\">value = [104, 129]</text>\n",
       "</g>\n",
       "<!-- 6&#45;&gt;10 -->\n",
       "<g id=\"edge10\" class=\"edge\">\n",
       "<title>6&#45;&gt;10</title>\n",
       "<path fill=\"none\" stroke=\"black\" d=\"M291.32,-192.88C291.4,-184.78 291.49,-175.98 291.57,-167.47\"/>\n",
       "<polygon fill=\"black\" stroke=\"black\" points=\"295.08,-167.33 291.67,-157.3 288.08,-167.26 295.08,-167.33\"/>\n",
       "</g>\n",
       "<!-- 8 -->\n",
       "<g id=\"node9\" class=\"node\">\n",
       "<title>8</title>\n",
       "<polygon fill=\"none\" stroke=\"black\" points=\"98,-53 0,-53 0,0 98,0 98,-53\"/>\n",
       "<text text-anchor=\"middle\" x=\"49\" y=\"-37.8\" font-family=\"Times,serif\" font-size=\"14.00\">gini = 0.032</text>\n",
       "<text text-anchor=\"middle\" x=\"49\" y=\"-22.8\" font-family=\"Times,serif\" font-size=\"14.00\">samples = 62</text>\n",
       "<text text-anchor=\"middle\" x=\"49\" y=\"-7.8\" font-family=\"Times,serif\" font-size=\"14.00\">value = [61, 1]</text>\n",
       "</g>\n",
       "<!-- 7&#45;&gt;8 -->\n",
       "<g id=\"edge8\" class=\"edge\">\n",
       "<title>7&#45;&gt;8</title>\n",
       "<path fill=\"none\" stroke=\"black\" d=\"M122.48,-88.95C111.21,-79.53 98.95,-69.27 87.73,-59.89\"/>\n",
       "<polygon fill=\"black\" stroke=\"black\" points=\"89.69,-56.97 79.78,-53.24 85.2,-62.34 89.69,-56.97\"/>\n",
       "</g>\n",
       "<!-- 9 -->\n",
       "<g id=\"node10\" class=\"node\">\n",
       "<title>9</title>\n",
       "<polygon fill=\"none\" stroke=\"black\" points=\"214,-53 116,-53 116,0 214,0 214,-53\"/>\n",
       "<text text-anchor=\"middle\" x=\"165\" y=\"-37.8\" font-family=\"Times,serif\" font-size=\"14.00\">gini = 0.0</text>\n",
       "<text text-anchor=\"middle\" x=\"165\" y=\"-22.8\" font-family=\"Times,serif\" font-size=\"14.00\">samples = 28</text>\n",
       "<text text-anchor=\"middle\" x=\"165\" y=\"-7.8\" font-family=\"Times,serif\" font-size=\"14.00\">value = [0, 28]</text>\n",
       "</g>\n",
       "<!-- 7&#45;&gt;9 -->\n",
       "<g id=\"edge9\" class=\"edge\">\n",
       "<title>7&#45;&gt;9</title>\n",
       "<path fill=\"none\" stroke=\"black\" d=\"M163.05,-88.95C163.31,-80.72 163.59,-71.85 163.86,-63.48\"/>\n",
       "<polygon fill=\"black\" stroke=\"black\" points=\"167.36,-63.34 164.18,-53.24 160.37,-63.12 167.36,-63.34\"/>\n",
       "</g>\n",
       "<!-- 11 -->\n",
       "<g id=\"node12\" class=\"node\">\n",
       "<title>11</title>\n",
       "<polygon fill=\"none\" stroke=\"black\" points=\"342.5,-53 237.5,-53 237.5,0 342.5,0 342.5,-53\"/>\n",
       "<text text-anchor=\"middle\" x=\"290\" y=\"-37.8\" font-family=\"Times,serif\" font-size=\"14.00\">gini = 0.402</text>\n",
       "<text text-anchor=\"middle\" x=\"290\" y=\"-22.8\" font-family=\"Times,serif\" font-size=\"14.00\">samples = 133</text>\n",
       "<text text-anchor=\"middle\" x=\"290\" y=\"-7.8\" font-family=\"Times,serif\" font-size=\"14.00\">value = [37, 96]</text>\n",
       "</g>\n",
       "<!-- 10&#45;&gt;11 -->\n",
       "<g id=\"edge11\" class=\"edge\">\n",
       "<title>10&#45;&gt;11</title>\n",
       "<path fill=\"none\" stroke=\"black\" d=\"M291.3,-88.95C291.13,-80.72 290.94,-71.85 290.76,-63.48\"/>\n",
       "<polygon fill=\"black\" stroke=\"black\" points=\"294.26,-63.16 290.54,-53.24 287.26,-63.31 294.26,-63.16\"/>\n",
       "</g>\n",
       "<!-- 12 -->\n",
       "<g id=\"node13\" class=\"node\">\n",
       "<title>12</title>\n",
       "<polygon fill=\"none\" stroke=\"black\" points=\"465.5,-53 360.5,-53 360.5,0 465.5,0 465.5,-53\"/>\n",
       "<text text-anchor=\"middle\" x=\"413\" y=\"-37.8\" font-family=\"Times,serif\" font-size=\"14.00\">gini = 0.442</text>\n",
       "<text text-anchor=\"middle\" x=\"413\" y=\"-22.8\" font-family=\"Times,serif\" font-size=\"14.00\">samples = 100</text>\n",
       "<text text-anchor=\"middle\" x=\"413\" y=\"-7.8\" font-family=\"Times,serif\" font-size=\"14.00\">value = [67, 33]</text>\n",
       "</g>\n",
       "<!-- 10&#45;&gt;12 -->\n",
       "<g id=\"edge12\" class=\"edge\">\n",
       "<title>10&#45;&gt;12</title>\n",
       "<path fill=\"none\" stroke=\"black\" d=\"M334.32,-88.95C346.5,-79.43 359.77,-69.07 371.88,-59.62\"/>\n",
       "<polygon fill=\"black\" stroke=\"black\" points=\"374.32,-62.15 380.05,-53.24 370.01,-56.63 374.32,-62.15\"/>\n",
       "</g>\n",
       "<!-- 14 -->\n",
       "<g id=\"node15\" class=\"node\">\n",
       "<title>14</title>\n",
       "<polygon fill=\"none\" stroke=\"black\" points=\"469,-149.5 371,-149.5 371,-96.5 469,-96.5 469,-149.5\"/>\n",
       "<text text-anchor=\"middle\" x=\"420\" y=\"-134.3\" font-family=\"Times,serif\" font-size=\"14.00\">gini = 0.0</text>\n",
       "<text text-anchor=\"middle\" x=\"420\" y=\"-119.3\" font-family=\"Times,serif\" font-size=\"14.00\">samples = 40</text>\n",
       "<text text-anchor=\"middle\" x=\"420\" y=\"-104.3\" font-family=\"Times,serif\" font-size=\"14.00\">value = [0, 40]</text>\n",
       "</g>\n",
       "<!-- 13&#45;&gt;14 -->\n",
       "<g id=\"edge14\" class=\"edge\">\n",
       "<title>13&#45;&gt;14</title>\n",
       "<path fill=\"none\" stroke=\"black\" d=\"M420.68,-192.88C420.57,-182.33 420.46,-170.6 420.35,-159.85\"/>\n",
       "<polygon fill=\"black\" stroke=\"black\" points=\"423.85,-159.49 420.25,-149.52 416.85,-159.55 423.85,-159.49\"/>\n",
       "</g>\n",
       "<!-- 15 -->\n",
       "<g id=\"node16\" class=\"node\">\n",
       "<title>15</title>\n",
       "<polygon fill=\"none\" stroke=\"black\" points=\"585,-149.5 487,-149.5 487,-96.5 585,-96.5 585,-149.5\"/>\n",
       "<text text-anchor=\"middle\" x=\"536\" y=\"-134.3\" font-family=\"Times,serif\" font-size=\"14.00\">gini = 0.0</text>\n",
       "<text text-anchor=\"middle\" x=\"536\" y=\"-119.3\" font-family=\"Times,serif\" font-size=\"14.00\">samples = 26</text>\n",
       "<text text-anchor=\"middle\" x=\"536\" y=\"-104.3\" font-family=\"Times,serif\" font-size=\"14.00\">value = [26, 0]</text>\n",
       "</g>\n",
       "<!-- 13&#45;&gt;15 -->\n",
       "<g id=\"edge15\" class=\"edge\">\n",
       "<title>13&#45;&gt;15</title>\n",
       "<path fill=\"none\" stroke=\"black\" d=\"M458.34,-192.88C471.6,-181.12 486.51,-167.89 499.69,-156.2\"/>\n",
       "<polygon fill=\"black\" stroke=\"black\" points=\"502.07,-158.77 507.23,-149.52 497.42,-153.54 502.07,-158.77\"/>\n",
       "</g>\n",
       "</g>\n",
       "</svg>\n"
      ],
      "text/plain": [
       "<graphviz.files.Source at 0x7f9860846460>"
      ]
     },
     "execution_count": 29,
     "metadata": {},
     "output_type": "execute_result"
    }
   ],
   "source": [
    "clf = DecisionTreeClassifier( max_depth = 5 )\n",
    "clf.fit( features, labels )\n",
    "print( clf.score( features, labels ) )\n",
    "show_tree( clf )"
   ]
  },
  {
   "cell_type": "markdown",
   "metadata": {},
   "source": [
    "We see reduced training accuracy. "
   ]
  },
  {
   "cell_type": "code",
   "execution_count": 30,
   "metadata": {},
   "outputs": [
    {
     "data": {
      "image/png": "[encoded data removed]",
      "text/plain": [
       "<Figure size 432x288 with 1 Axes>"
      ]
     },
     "metadata": {
      "needs_background": "light"
     },
     "output_type": "display_data"
    }
   ],
   "source": [
    "delta = 0.01\n",
    "x     = np.arange(-2.0, 5.001, delta)\n",
    "y     = np.arange(-2.0, 5.001, delta)\n",
    "\n",
    "X, Y = np.meshgrid(x, y)\n",
    "Z    = clf.predict( np.c_[X.ravel(), Y.ravel()] )\n",
    "Z    = Z.reshape( X.shape )\n",
    "\n",
    "plt.contourf( X, Y, Z, cmap=plt.get_cmap('jet'))\n",
    "plt.xlim(-2, 5)\n",
    "plt.ylim(-2, 5)\n",
    "\n",
    "\n",
    "plt.show()"
   ]
  },
  {
   "cell_type": "markdown",
   "metadata": {},
   "source": [
    "This looks better. "
   ]
  },
  {
   "cell_type": "markdown",
   "metadata": {},
   "source": [
    "## Random forests\n",
    "\n",
    "- Random forests are among the most important models in Machine Learning, especially for applications that demand low latency. \n",
    "- An ensemble of decision trees: we train many decision trees and make a decision based on them. (e.g. majority voting)\n",
    "- Each tree is trained with a subsample of the dataset"
   ]
  },
  {
   "cell_type": "code",
   "execution_count": 31,
   "metadata": {},
   "outputs": [
    {
     "data": {
      "image/png": "[encoded data removed]",
      "text/plain": [
       "<Figure size 288x216 with 1 Axes>"
      ]
     },
     "metadata": {
      "needs_background": "light"
     },
     "output_type": "display_data"
    },
    {
     "data": {
      "image/png": "[encoded data removed]",
      "text/plain": [
       "<Figure size 288x216 with 1 Axes>"
      ]
     },
     "metadata": {
      "needs_background": "light"
     },
     "output_type": "display_data"
    },
    {
     "data": {
      "image/png": "[encoded data removed]",
      "text/plain": [
       "<Figure size 288x216 with 1 Axes>"
      ]
     },
     "metadata": {
      "needs_background": "light"
     },
     "output_type": "display_data"
    }
   ],
   "source": [
    "# plot example of sampled data:\n",
    "np.random.seed(0)  # the random seed, to be sure that you always plot the same thing\n",
    "\n",
    "for i in range (3):\n",
    "    plt.figure( figsize=(4,3) )\n",
    "    \n",
    "    choice = np.random.random(size=len(labels))>0.8\n",
    "    plt.plot( features[ np.logical_and(choice , labels == 0), 0 ], features[ np.logical_and(choice , labels == 0), 1 ], 'o',\n",
    "               markersize=4, color='b')\n",
    "    plt.plot( features[ np.logical_and(choice , labels == 1), 0 ], features[ np.logical_and(choice , labels == 1), 1 ], 's',\n",
    "               markersize=4, color='r')\n",
    "    plt.xlabel('X1')\n",
    "    plt.ylabel('X2')\n",
    "    plt.show()"
   ]
  },
  {
   "cell_type": "markdown",
   "metadata": {},
   "source": [
    "We use the class `RandomForestClassifier` for random forests:\n",
    "https://scikit-learn.org/stable/modules/generated/sklearn.ensemble.RandomForestClassifier.html\n",
    "\n",
    "- The \"subsampled\" datasets are obtained by performing a bagging procedure (or bootstrap aggregation)\n",
    "\n",
    "Coding-wise, creating a random forest is very similar to what we did to create our decision trees. "
   ]
  },
  {
   "cell_type": "code",
   "execution_count": 32,
   "metadata": {},
   "outputs": [],
   "source": [
    "from sklearn.ensemble import RandomForestClassifier"
   ]
  },
  {
   "cell_type": "code",
   "execution_count": 33,
   "metadata": {},
   "outputs": [
    {
     "name": "stdout",
     "output_type": "stream",
     "text": [
      "Out of bag score 0.9425\n"
     ]
    }
   ],
   "source": [
    "clf = RandomForestClassifier( n_estimators = 50, \n",
    "                            max_depth = 5, oob_score = True )\n",
    "clf.fit( features, labels )\n",
    "print(\"Out of bag score\",clf.oob_score_)"
   ]
  },
  {
   "cell_type": "markdown",
   "metadata": {},
   "source": [
    "`clf.oob_score_`: out-of-bag score, score of each classifier (decision tree) in the ensemble by using data points not considered for training that classifier\n",
    "- if 80% of the data fed are used for fitting a single decision tree in a random forest, the remaining 20% are used to compute the out-of-bag score. "
   ]
  },
  {
   "cell_type": "code",
   "execution_count": 34,
   "metadata": {},
   "outputs": [
    {
     "name": "stdout",
     "output_type": "stream",
     "text": [
      "Accuracy score:  0.9725\n",
      "Features importance:  [0.49441217 0.50558783]\n"
     ]
    }
   ],
   "source": [
    "print(\"Accuracy score: \",clf.score(features,labels))\n",
    "print(\"Features importance: \",clf.feature_importances_) "
   ]
  },
  {
   "cell_type": "markdown",
   "metadata": {},
   "source": [
    "We see much more balanced importance between the two features."
   ]
  },
  {
   "cell_type": "code",
   "execution_count": 35,
   "metadata": {},
   "outputs": [
    {
     "name": "stdout",
     "output_type": "stream",
     "text": [
      "Prediction for P1:  [0.]\n",
      "Prediction for P2:  [1.]\n"
     ]
    }
   ],
   "source": [
    "print(\"Prediction for P1: \", clf.predict(P1))\n",
    "print(\"Prediction for P2: \", clf.predict(P2))"
   ]
  },
  {
   "cell_type": "code",
   "execution_count": 36,
   "metadata": {},
   "outputs": [
    {
     "data": {
      "image/png": "[encoded data removed]",
      "text/plain": [
       "<Figure size 432x288 with 1 Axes>"
      ]
     },
     "metadata": {
      "needs_background": "light"
     },
     "output_type": "display_data"
    }
   ],
   "source": [
    "delta = 0.01\n",
    "x     = np.arange(-2.0, 5.001, delta)\n",
    "y     = np.arange(-2.0, 5.001, delta)\n",
    "\n",
    "X, Y = np.meshgrid(x, y)\n",
    "Z    = clf.predict( np.c_[X.ravel(), Y.ravel()] )\n",
    "Z    = Z.reshape( X.shape )\n",
    "\n",
    "plt.contourf( X, Y, Z, cmap=plt.get_cmap('jet'))\n",
    "plt.xlim(-2, 5)\n",
    "plt.ylim(-2, 5)\n",
    "\n",
    "plt.show()"
   ]
  },
  {
   "cell_type": "markdown",
   "metadata": {},
   "source": [
    "These decision boundaries seems better than that for decision trees."
   ]
  },
  {
   "cell_type": "markdown",
   "metadata": {},
   "source": [
    "Because random forests are ensembles of decision trees, there is a way to accesss the trees and inspect them closely. To do so, use the attribute ```estimators_``` of your model."
   ]
  },
  {
   "cell_type": "code",
   "execution_count": 37,
   "metadata": {
    "scrolled": true
   },
   "outputs": [
    {
     "data": {
      "text/plain": [
       "DecisionTreeClassifier(max_depth=5, max_features='auto',\n",
       "                       random_state=1325117475)"
      ]
     },
     "execution_count": 37,
     "metadata": {},
     "output_type": "execute_result"
    }
   ],
   "source": [
    "clf.estimators_[0]"
   ]
  },
  {
   "cell_type": "markdown",
   "metadata": {},
   "source": [
    "Let's check how to visualize trees in the random forest model we just created."
   ]
  },
  {
   "cell_type": "code",
   "execution_count": 38,
   "metadata": {},
   "outputs": [
    {
     "data": {
      "image/svg+xml": [
       "<?xml version=\"1.0\" encoding=\"UTF-8\" standalone=\"no\"?>\n",
       "<!DOCTYPE svg PUBLIC \"-//W3C//DTD SVG 1.1//EN\"\n",
       " \"http://www.w3.org/Graphics/SVG/1.1/DTD/svg11.dtd\">\n",
       "<!-- Generated by graphviz version 2.47.2 (0)\n",
       " -->\n",
       "<!-- Title: Tree Pages: 1 -->\n",
       "<svg width=\"917pt\" height=\"581pt\"\n",
       " viewBox=\"0.00 0.00 917.00 581.00\" xmlns=\"http://www.w3.org/2000/svg\" xmlns:xlink=\"http://www.w3.org/1999/xlink\">\n",
       "<g id=\"graph0\" class=\"graph\" transform=\"scale(1 1) rotate(0) translate(4 577)\">\n",
       "<title>Tree</title>\n",
       "<polygon fill=\"white\" stroke=\"transparent\" points=\"-4,4 -4,-577 913,-577 913,4 -4,4\"/>\n",
       "<!-- 0 -->\n",
       "<g id=\"node1\" class=\"node\">\n",
       "<title>0</title>\n",
       "<polygon fill=\"none\" stroke=\"black\" points=\"412.5,-573 293.5,-573 293.5,-505 412.5,-505 412.5,-573\"/>\n",
       "<text text-anchor=\"middle\" x=\"353\" y=\"-557.8\" font-family=\"Times,serif\" font-size=\"14.00\">X[1] &lt;= 0.115</text>\n",
       "<text text-anchor=\"middle\" x=\"353\" y=\"-542.8\" font-family=\"Times,serif\" font-size=\"14.00\">gini = 0.496</text>\n",
       "<text text-anchor=\"middle\" x=\"353\" y=\"-527.8\" font-family=\"Times,serif\" font-size=\"14.00\">samples = 267</text>\n",
       "<text text-anchor=\"middle\" x=\"353\" y=\"-512.8\" font-family=\"Times,serif\" font-size=\"14.00\">value = [182, 218]</text>\n",
       "</g>\n",
       "<!-- 1 -->\n",
       "<g id=\"node2\" class=\"node\">\n",
       "<title>1</title>\n",
       "<polygon fill=\"none\" stroke=\"black\" points=\"340.5,-469 235.5,-469 235.5,-401 340.5,-401 340.5,-469\"/>\n",
       "<text text-anchor=\"middle\" x=\"288\" y=\"-453.8\" font-family=\"Times,serif\" font-size=\"14.00\">X[0] &lt;= 1.801</text>\n",
       "<text text-anchor=\"middle\" x=\"288\" y=\"-438.8\" font-family=\"Times,serif\" font-size=\"14.00\">gini = 0.495</text>\n",
       "<text text-anchor=\"middle\" x=\"288\" y=\"-423.8\" font-family=\"Times,serif\" font-size=\"14.00\">samples = 72</text>\n",
       "<text text-anchor=\"middle\" x=\"288\" y=\"-408.8\" font-family=\"Times,serif\" font-size=\"14.00\">value = [60, 49]</text>\n",
       "</g>\n",
       "<!-- 0&#45;&gt;1 -->\n",
       "<g id=\"edge1\" class=\"edge\">\n",
       "<title>0&#45;&gt;1</title>\n",
       "<path fill=\"none\" stroke=\"black\" d=\"M331.9,-504.88C326.39,-496.24 320.38,-486.82 314.63,-477.79\"/>\n",
       "<polygon fill=\"black\" stroke=\"black\" points=\"317.55,-475.85 309.22,-469.3 311.64,-479.61 317.55,-475.85\"/>\n",
       "<text text-anchor=\"middle\" x=\"303.81\" y=\"-490.01\" font-family=\"Times,serif\" font-size=\"14.00\">True</text>\n",
       "</g>\n",
       "<!-- 10 -->\n",
       "<g id=\"node11\" class=\"node\">\n",
       "<title>10</title>\n",
       "<polygon fill=\"none\" stroke=\"black\" points=\"477.5,-469 358.5,-469 358.5,-401 477.5,-401 477.5,-469\"/>\n",
       "<text text-anchor=\"middle\" x=\"418\" y=\"-453.8\" font-family=\"Times,serif\" font-size=\"14.00\">X[1] &lt;= 0.137</text>\n",
       "<text text-anchor=\"middle\" x=\"418\" y=\"-438.8\" font-family=\"Times,serif\" font-size=\"14.00\">gini = 0.487</text>\n",
       "<text text-anchor=\"middle\" x=\"418\" y=\"-423.8\" font-family=\"Times,serif\" font-size=\"14.00\">samples = 195</text>\n",
       "<text text-anchor=\"middle\" x=\"418\" y=\"-408.8\" font-family=\"Times,serif\" font-size=\"14.00\">value = [122, 169]</text>\n",
       "</g>\n",
       "<!-- 0&#45;&gt;10 -->\n",
       "<g id=\"edge10\" class=\"edge\">\n",
       "<title>0&#45;&gt;10</title>\n",
       "<path fill=\"none\" stroke=\"black\" d=\"M374.1,-504.88C379.61,-496.24 385.62,-486.82 391.37,-477.79\"/>\n",
       "<polygon fill=\"black\" stroke=\"black\" points=\"394.36,-479.61 396.78,-469.3 388.45,-475.85 394.36,-479.61\"/>\n",
       "<text text-anchor=\"middle\" x=\"402.19\" y=\"-490.01\" font-family=\"Times,serif\" font-size=\"14.00\">False</text>\n",
       "</g>\n",
       "<!-- 2 -->\n",
       "<g id=\"node3\" class=\"node\">\n",
       "<title>2</title>\n",
       "<polygon fill=\"none\" stroke=\"black\" points=\"226,-365 128,-365 128,-297 226,-297 226,-365\"/>\n",
       "<text text-anchor=\"middle\" x=\"177\" y=\"-349.8\" font-family=\"Times,serif\" font-size=\"14.00\">X[0] &lt;= 0.672</text>\n",
       "<text text-anchor=\"middle\" x=\"177\" y=\"-334.8\" font-family=\"Times,serif\" font-size=\"14.00\">gini = 0.062</text>\n",
       "<text text-anchor=\"middle\" x=\"177\" y=\"-319.8\" font-family=\"Times,serif\" font-size=\"14.00\">samples = 41</text>\n",
       "<text text-anchor=\"middle\" x=\"177\" y=\"-304.8\" font-family=\"Times,serif\" font-size=\"14.00\">value = [60, 2]</text>\n",
       "</g>\n",
       "<!-- 1&#45;&gt;2 -->\n",
       "<g id=\"edge2\" class=\"edge\">\n",
       "<title>1&#45;&gt;2</title>\n",
       "<path fill=\"none\" stroke=\"black\" d=\"M251.96,-400.88C241.98,-391.71 231.03,-381.65 220.66,-372.12\"/>\n",
       "<polygon fill=\"black\" stroke=\"black\" points=\"222.97,-369.49 213.24,-365.3 218.23,-374.64 222.97,-369.49\"/>\n",
       "</g>\n",
       "<!-- 9 -->\n",
       "<g id=\"node10\" class=\"node\">\n",
       "<title>9</title>\n",
       "<polygon fill=\"none\" stroke=\"black\" points=\"342,-357.5 244,-357.5 244,-304.5 342,-304.5 342,-357.5\"/>\n",
       "<text text-anchor=\"middle\" x=\"293\" y=\"-342.3\" font-family=\"Times,serif\" font-size=\"14.00\">gini = 0.0</text>\n",
       "<text text-anchor=\"middle\" x=\"293\" y=\"-327.3\" font-family=\"Times,serif\" font-size=\"14.00\">samples = 31</text>\n",
       "<text text-anchor=\"middle\" x=\"293\" y=\"-312.3\" font-family=\"Times,serif\" font-size=\"14.00\">value = [0, 47]</text>\n",
       "</g>\n",
       "<!-- 1&#45;&gt;9 -->\n",
       "<g id=\"edge9\" class=\"edge\">\n",
       "<title>1&#45;&gt;9</title>\n",
       "<path fill=\"none\" stroke=\"black\" d=\"M289.62,-400.88C290.15,-390.22 290.73,-378.35 291.26,-367.52\"/>\n",
       "<polygon fill=\"black\" stroke=\"black\" points=\"294.76,-367.68 291.75,-357.52 287.76,-367.34 294.76,-367.68\"/>\n",
       "</g>\n",
       "<!-- 3 -->\n",
       "<g id=\"node4\" class=\"node\">\n",
       "<title>3</title>\n",
       "<polygon fill=\"none\" stroke=\"black\" points=\"139,-253.5 41,-253.5 41,-200.5 139,-200.5 139,-253.5\"/>\n",
       "<text text-anchor=\"middle\" x=\"90\" y=\"-238.3\" font-family=\"Times,serif\" font-size=\"14.00\">gini = 0.0</text>\n",
       "<text text-anchor=\"middle\" x=\"90\" y=\"-223.3\" font-family=\"Times,serif\" font-size=\"14.00\">samples = 33</text>\n",
       "<text text-anchor=\"middle\" x=\"90\" y=\"-208.3\" font-family=\"Times,serif\" font-size=\"14.00\">value = [50, 0]</text>\n",
       "</g>\n",
       "<!-- 2&#45;&gt;3 -->\n",
       "<g id=\"edge3\" class=\"edge\">\n",
       "<title>2&#45;&gt;3</title>\n",
       "<path fill=\"none\" stroke=\"black\" d=\"M148.75,-296.88C139,-285.45 128.07,-272.63 118.31,-261.19\"/>\n",
       "<polygon fill=\"black\" stroke=\"black\" points=\"120.92,-258.86 111.77,-253.52 115.59,-263.4 120.92,-258.86\"/>\n",
       "</g>\n",
       "<!-- 4 -->\n",
       "<g id=\"node5\" class=\"node\">\n",
       "<title>4</title>\n",
       "<polygon fill=\"none\" stroke=\"black\" points=\"255,-261 157,-261 157,-193 255,-193 255,-261\"/>\n",
       "<text text-anchor=\"middle\" x=\"206\" y=\"-245.8\" font-family=\"Times,serif\" font-size=\"14.00\">X[1] &lt;= &#45;0.35</text>\n",
       "<text text-anchor=\"middle\" x=\"206\" y=\"-230.8\" font-family=\"Times,serif\" font-size=\"14.00\">gini = 0.278</text>\n",
       "<text text-anchor=\"middle\" x=\"206\" y=\"-215.8\" font-family=\"Times,serif\" font-size=\"14.00\">samples = 8</text>\n",
       "<text text-anchor=\"middle\" x=\"206\" y=\"-200.8\" font-family=\"Times,serif\" font-size=\"14.00\">value = [10, 2]</text>\n",
       "</g>\n",
       "<!-- 2&#45;&gt;4 -->\n",
       "<g id=\"edge4\" class=\"edge\">\n",
       "<title>2&#45;&gt;4</title>\n",
       "<path fill=\"none\" stroke=\"black\" d=\"M186.42,-296.88C188.75,-288.69 191.28,-279.79 193.72,-271.19\"/>\n",
       "<polygon fill=\"black\" stroke=\"black\" points=\"197.16,-271.88 196.53,-261.3 190.43,-269.96 197.16,-271.88\"/>\n",
       "</g>\n",
       "<!-- 5 -->\n",
       "<g id=\"node6\" class=\"node\">\n",
       "<title>5</title>\n",
       "<polygon fill=\"none\" stroke=\"black\" points=\"203.5,-157 102.5,-157 102.5,-89 203.5,-89 203.5,-157\"/>\n",
       "<text text-anchor=\"middle\" x=\"153\" y=\"-141.8\" font-family=\"Times,serif\" font-size=\"14.00\">X[1] &lt;= &#45;0.781</text>\n",
       "<text text-anchor=\"middle\" x=\"153\" y=\"-126.8\" font-family=\"Times,serif\" font-size=\"14.00\">gini = 0.444</text>\n",
       "<text text-anchor=\"middle\" x=\"153\" y=\"-111.8\" font-family=\"Times,serif\" font-size=\"14.00\">samples = 4</text>\n",
       "<text text-anchor=\"middle\" x=\"153\" y=\"-96.8\" font-family=\"Times,serif\" font-size=\"14.00\">value = [4, 2]</text>\n",
       "</g>\n",
       "<!-- 4&#45;&gt;5 -->\n",
       "<g id=\"edge5\" class=\"edge\">\n",
       "<title>4&#45;&gt;5</title>\n",
       "<path fill=\"none\" stroke=\"black\" d=\"M188.79,-192.88C184.4,-184.42 179.61,-175.21 175.01,-166.35\"/>\n",
       "<polygon fill=\"black\" stroke=\"black\" points=\"178.02,-164.56 170.3,-157.3 171.81,-167.79 178.02,-164.56\"/>\n",
       "</g>\n",
       "<!-- 8 -->\n",
       "<g id=\"node9\" class=\"node\">\n",
       "<title>8</title>\n",
       "<polygon fill=\"none\" stroke=\"black\" points=\"314,-149.5 222,-149.5 222,-96.5 314,-96.5 314,-149.5\"/>\n",
       "<text text-anchor=\"middle\" x=\"268\" y=\"-134.3\" font-family=\"Times,serif\" font-size=\"14.00\">gini = 0.0</text>\n",
       "<text text-anchor=\"middle\" x=\"268\" y=\"-119.3\" font-family=\"Times,serif\" font-size=\"14.00\">samples = 4</text>\n",
       "<text text-anchor=\"middle\" x=\"268\" y=\"-104.3\" font-family=\"Times,serif\" font-size=\"14.00\">value = [6, 0]</text>\n",
       "</g>\n",
       "<!-- 4&#45;&gt;8 -->\n",
       "<g id=\"edge8\" class=\"edge\">\n",
       "<title>4&#45;&gt;8</title>\n",
       "<path fill=\"none\" stroke=\"black\" d=\"M226.13,-192.88C232.88,-181.78 240.42,-169.37 247.22,-158.18\"/>\n",
       "<polygon fill=\"black\" stroke=\"black\" points=\"250.28,-159.88 252.49,-149.52 244.3,-156.25 250.28,-159.88\"/>\n",
       "</g>\n",
       "<!-- 6 -->\n",
       "<g id=\"node7\" class=\"node\">\n",
       "<title>6</title>\n",
       "<polygon fill=\"none\" stroke=\"black\" points=\"92,-53 0,-53 0,0 92,0 92,-53\"/>\n",
       "<text text-anchor=\"middle\" x=\"46\" y=\"-37.8\" font-family=\"Times,serif\" font-size=\"14.00\">gini = 0.0</text>\n",
       "<text text-anchor=\"middle\" x=\"46\" y=\"-22.8\" font-family=\"Times,serif\" font-size=\"14.00\">samples = 3</text>\n",
       "<text text-anchor=\"middle\" x=\"46\" y=\"-7.8\" font-family=\"Times,serif\" font-size=\"14.00\">value = [4, 0]</text>\n",
       "</g>\n",
       "<!-- 5&#45;&gt;6 -->\n",
       "<g id=\"edge6\" class=\"edge\">\n",
       "<title>5&#45;&gt;6</title>\n",
       "<path fill=\"none\" stroke=\"black\" d=\"M115.58,-88.95C104.91,-79.53 93.3,-69.27 82.68,-59.89\"/>\n",
       "<polygon fill=\"black\" stroke=\"black\" points=\"84.95,-57.23 75.14,-53.24 80.32,-62.48 84.95,-57.23\"/>\n",
       "</g>\n",
       "<!-- 7 -->\n",
       "<g id=\"node8\" class=\"node\">\n",
       "<title>7</title>\n",
       "<polygon fill=\"none\" stroke=\"black\" points=\"202,-53 110,-53 110,0 202,0 202,-53\"/>\n",
       "<text text-anchor=\"middle\" x=\"156\" y=\"-37.8\" font-family=\"Times,serif\" font-size=\"14.00\">gini = 0.0</text>\n",
       "<text text-anchor=\"middle\" x=\"156\" y=\"-22.8\" font-family=\"Times,serif\" font-size=\"14.00\">samples = 1</text>\n",
       "<text text-anchor=\"middle\" x=\"156\" y=\"-7.8\" font-family=\"Times,serif\" font-size=\"14.00\">value = [0, 2]</text>\n",
       "</g>\n",
       "<!-- 5&#45;&gt;7 -->\n",
       "<g id=\"edge7\" class=\"edge\">\n",
       "<title>5&#45;&gt;7</title>\n",
       "<path fill=\"none\" stroke=\"black\" d=\"M154.05,-88.95C154.31,-80.72 154.59,-71.85 154.86,-63.48\"/>\n",
       "<polygon fill=\"black\" stroke=\"black\" points=\"158.36,-63.34 155.18,-53.24 151.37,-63.12 158.36,-63.34\"/>\n",
       "</g>\n",
       "<!-- 11 -->\n",
       "<g id=\"node12\" class=\"node\">\n",
       "<title>11</title>\n",
       "<polygon fill=\"none\" stroke=\"black\" points=\"460,-357.5 368,-357.5 368,-304.5 460,-304.5 460,-357.5\"/>\n",
       "<text text-anchor=\"middle\" x=\"414\" y=\"-342.3\" font-family=\"Times,serif\" font-size=\"14.00\">gini = 0.0</text>\n",
       "<text text-anchor=\"middle\" x=\"414\" y=\"-327.3\" font-family=\"Times,serif\" font-size=\"14.00\">samples = 6</text>\n",
       "<text text-anchor=\"middle\" x=\"414\" y=\"-312.3\" font-family=\"Times,serif\" font-size=\"14.00\">value = [0, 7]</text>\n",
       "</g>\n",
       "<!-- 10&#45;&gt;11 -->\n",
       "<g id=\"edge11\" class=\"edge\">\n",
       "<title>10&#45;&gt;11</title>\n",
       "<path fill=\"none\" stroke=\"black\" d=\"M416.7,-400.88C416.28,-390.22 415.82,-378.35 415.39,-367.52\"/>\n",
       "<polygon fill=\"black\" stroke=\"black\" points=\"418.89,-367.38 415,-357.52 411.9,-367.65 418.89,-367.38\"/>\n",
       "</g>\n",
       "<!-- 12 -->\n",
       "<g id=\"node13\" class=\"node\">\n",
       "<title>12</title>\n",
       "<polygon fill=\"none\" stroke=\"black\" points=\"597.5,-365 478.5,-365 478.5,-297 597.5,-297 597.5,-365\"/>\n",
       "<text text-anchor=\"middle\" x=\"538\" y=\"-349.8\" font-family=\"Times,serif\" font-size=\"14.00\">X[0] &lt;= 1.569</text>\n",
       "<text text-anchor=\"middle\" x=\"538\" y=\"-334.8\" font-family=\"Times,serif\" font-size=\"14.00\">gini = 0.49</text>\n",
       "<text text-anchor=\"middle\" x=\"538\" y=\"-319.8\" font-family=\"Times,serif\" font-size=\"14.00\">samples = 189</text>\n",
       "<text text-anchor=\"middle\" x=\"538\" y=\"-304.8\" font-family=\"Times,serif\" font-size=\"14.00\">value = [122, 162]</text>\n",
       "</g>\n",
       "<!-- 10&#45;&gt;12 -->\n",
       "<g id=\"edge12\" class=\"edge\">\n",
       "<title>10&#45;&gt;12</title>\n",
       "<path fill=\"none\" stroke=\"black\" d=\"M456.96,-400.88C467.86,-391.62 479.82,-381.45 491.12,-371.85\"/>\n",
       "<polygon fill=\"black\" stroke=\"black\" points=\"493.47,-374.44 498.82,-365.3 488.94,-369.11 493.47,-374.44\"/>\n",
       "</g>\n",
       "<!-- 13 -->\n",
       "<g id=\"node14\" class=\"node\">\n",
       "<title>13</title>\n",
       "<polygon fill=\"none\" stroke=\"black\" points=\"563,-261 451,-261 451,-193 563,-193 563,-261\"/>\n",
       "<text text-anchor=\"middle\" x=\"507\" y=\"-245.8\" font-family=\"Times,serif\" font-size=\"14.00\">X[0] &lt;= &#45;0.524</text>\n",
       "<text text-anchor=\"middle\" x=\"507\" y=\"-230.8\" font-family=\"Times,serif\" font-size=\"14.00\">gini = 0.389</text>\n",
       "<text text-anchor=\"middle\" x=\"507\" y=\"-215.8\" font-family=\"Times,serif\" font-size=\"14.00\">samples = 106</text>\n",
       "<text text-anchor=\"middle\" x=\"507\" y=\"-200.8\" font-family=\"Times,serif\" font-size=\"14.00\">value = [41, 114]</text>\n",
       "</g>\n",
       "<!-- 12&#45;&gt;13 -->\n",
       "<g id=\"edge13\" class=\"edge\">\n",
       "<title>12&#45;&gt;13</title>\n",
       "<path fill=\"none\" stroke=\"black\" d=\"M527.94,-296.88C525.42,-288.6 522.68,-279.6 520.04,-270.91\"/>\n",
       "<polygon fill=\"black\" stroke=\"black\" points=\"523.38,-269.85 517.12,-261.3 516.68,-271.89 523.38,-269.85\"/>\n",
       "</g>\n",
       "<!-- 20 -->\n",
       "<g id=\"node21\" class=\"node\">\n",
       "<title>20</title>\n",
       "<polygon fill=\"none\" stroke=\"black\" points=\"686.5,-261 581.5,-261 581.5,-193 686.5,-193 686.5,-261\"/>\n",
       "<text text-anchor=\"middle\" x=\"634\" y=\"-245.8\" font-family=\"Times,serif\" font-size=\"14.00\">X[1] &lt;= 1.311</text>\n",
       "<text text-anchor=\"middle\" x=\"634\" y=\"-230.8\" font-family=\"Times,serif\" font-size=\"14.00\">gini = 0.467</text>\n",
       "<text text-anchor=\"middle\" x=\"634\" y=\"-215.8\" font-family=\"Times,serif\" font-size=\"14.00\">samples = 83</text>\n",
       "<text text-anchor=\"middle\" x=\"634\" y=\"-200.8\" font-family=\"Times,serif\" font-size=\"14.00\">value = [81, 48]</text>\n",
       "</g>\n",
       "<!-- 12&#45;&gt;20 -->\n",
       "<g id=\"edge20\" class=\"edge\">\n",
       "<title>12&#45;&gt;20</title>\n",
       "<path fill=\"none\" stroke=\"black\" d=\"M569.17,-296.88C577.64,-287.89 586.9,-278.04 595.71,-268.68\"/>\n",
       "<polygon fill=\"black\" stroke=\"black\" points=\"598.35,-270.98 602.66,-261.3 593.26,-266.18 598.35,-270.98\"/>\n",
       "</g>\n",
       "<!-- 14 -->\n",
       "<g id=\"node15\" class=\"node\">\n",
       "<title>14</title>\n",
       "<polygon fill=\"none\" stroke=\"black\" points=\"439.5,-157 334.5,-157 334.5,-89 439.5,-89 439.5,-157\"/>\n",
       "<text text-anchor=\"middle\" x=\"387\" y=\"-141.8\" font-family=\"Times,serif\" font-size=\"14.00\">X[1] &lt;= 1.701</text>\n",
       "<text text-anchor=\"middle\" x=\"387\" y=\"-126.8\" font-family=\"Times,serif\" font-size=\"14.00\">gini = 0.472</text>\n",
       "<text text-anchor=\"middle\" x=\"387\" y=\"-111.8\" font-family=\"Times,serif\" font-size=\"14.00\">samples = 28</text>\n",
       "<text text-anchor=\"middle\" x=\"387\" y=\"-96.8\" font-family=\"Times,serif\" font-size=\"14.00\">value = [16, 26]</text>\n",
       "</g>\n",
       "<!-- 13&#45;&gt;14 -->\n",
       "<g id=\"edge14\" class=\"edge\">\n",
       "<title>13&#45;&gt;14</title>\n",
       "<path fill=\"none\" stroke=\"black\" d=\"M468.04,-192.88C457.14,-183.62 445.18,-173.45 433.88,-163.85\"/>\n",
       "<polygon fill=\"black\" stroke=\"black\" points=\"436.06,-161.11 426.18,-157.3 431.53,-166.44 436.06,-161.11\"/>\n",
       "</g>\n",
       "<!-- 17 -->\n",
       "<g id=\"node18\" class=\"node\">\n",
       "<title>17</title>\n",
       "<polygon fill=\"none\" stroke=\"black\" points=\"562.5,-157 457.5,-157 457.5,-89 562.5,-89 562.5,-157\"/>\n",
       "<text text-anchor=\"middle\" x=\"510\" y=\"-141.8\" font-family=\"Times,serif\" font-size=\"14.00\">X[1] &lt;= 1.537</text>\n",
       "<text text-anchor=\"middle\" x=\"510\" y=\"-126.8\" font-family=\"Times,serif\" font-size=\"14.00\">gini = 0.345</text>\n",
       "<text text-anchor=\"middle\" x=\"510\" y=\"-111.8\" font-family=\"Times,serif\" font-size=\"14.00\">samples = 78</text>\n",
       "<text text-anchor=\"middle\" x=\"510\" y=\"-96.8\" font-family=\"Times,serif\" font-size=\"14.00\">value = [25, 88]</text>\n",
       "</g>\n",
       "<!-- 13&#45;&gt;17 -->\n",
       "<g id=\"edge17\" class=\"edge\">\n",
       "<title>13&#45;&gt;17</title>\n",
       "<path fill=\"none\" stroke=\"black\" d=\"M507.97,-192.88C508.21,-184.78 508.47,-175.98 508.72,-167.47\"/>\n",
       "<polygon fill=\"black\" stroke=\"black\" points=\"512.23,-167.4 509.02,-157.3 505.23,-167.19 512.23,-167.4\"/>\n",
       "</g>\n",
       "<!-- 15 -->\n",
       "<g id=\"node16\" class=\"node\">\n",
       "<title>15</title>\n",
       "<polygon fill=\"none\" stroke=\"black\" points=\"323,-53 225,-53 225,0 323,0 323,-53\"/>\n",
       "<text text-anchor=\"middle\" x=\"274\" y=\"-37.8\" font-family=\"Times,serif\" font-size=\"14.00\">gini = 0.0</text>\n",
       "<text text-anchor=\"middle\" x=\"274\" y=\"-22.8\" font-family=\"Times,serif\" font-size=\"14.00\">samples = 11</text>\n",
       "<text text-anchor=\"middle\" x=\"274\" y=\"-7.8\" font-family=\"Times,serif\" font-size=\"14.00\">value = [16, 0]</text>\n",
       "</g>\n",
       "<!-- 14&#45;&gt;15 -->\n",
       "<g id=\"edge15\" class=\"edge\">\n",
       "<title>14&#45;&gt;15</title>\n",
       "<path fill=\"none\" stroke=\"black\" d=\"M347.48,-88.95C336.21,-79.53 323.95,-69.27 312.73,-59.89\"/>\n",
       "<polygon fill=\"black\" stroke=\"black\" points=\"314.69,-56.97 304.78,-53.24 310.2,-62.34 314.69,-56.97\"/>\n",
       "</g>\n",
       "<!-- 16 -->\n",
       "<g id=\"node17\" class=\"node\">\n",
       "<title>16</title>\n",
       "<polygon fill=\"none\" stroke=\"black\" points=\"439,-53 341,-53 341,0 439,0 439,-53\"/>\n",
       "<text text-anchor=\"middle\" x=\"390\" y=\"-37.8\" font-family=\"Times,serif\" font-size=\"14.00\">gini = 0.0</text>\n",
       "<text text-anchor=\"middle\" x=\"390\" y=\"-22.8\" font-family=\"Times,serif\" font-size=\"14.00\">samples = 17</text>\n",
       "<text text-anchor=\"middle\" x=\"390\" y=\"-7.8\" font-family=\"Times,serif\" font-size=\"14.00\">value = [0, 26]</text>\n",
       "</g>\n",
       "<!-- 14&#45;&gt;16 -->\n",
       "<g id=\"edge16\" class=\"edge\">\n",
       "<title>14&#45;&gt;16</title>\n",
       "<path fill=\"none\" stroke=\"black\" d=\"M388.05,-88.95C388.31,-80.72 388.59,-71.85 388.86,-63.48\"/>\n",
       "<polygon fill=\"black\" stroke=\"black\" points=\"392.36,-63.34 389.18,-53.24 385.37,-63.12 392.36,-63.34\"/>\n",
       "</g>\n",
       "<!-- 18 -->\n",
       "<g id=\"node19\" class=\"node\">\n",
       "<title>18</title>\n",
       "<polygon fill=\"none\" stroke=\"black\" points=\"557,-53 459,-53 459,0 557,0 557,-53\"/>\n",
       "<text text-anchor=\"middle\" x=\"508\" y=\"-37.8\" font-family=\"Times,serif\" font-size=\"14.00\">gini = 0.293</text>\n",
       "<text text-anchor=\"middle\" x=\"508\" y=\"-22.8\" font-family=\"Times,serif\" font-size=\"14.00\">samples = 20</text>\n",
       "<text text-anchor=\"middle\" x=\"508\" y=\"-7.8\" font-family=\"Times,serif\" font-size=\"14.00\">value = [23, 5]</text>\n",
       "</g>\n",
       "<!-- 17&#45;&gt;18 -->\n",
       "<g id=\"edge18\" class=\"edge\">\n",
       "<title>17&#45;&gt;18</title>\n",
       "<path fill=\"none\" stroke=\"black\" d=\"M509.3,-88.95C509.13,-80.72 508.94,-71.85 508.76,-63.48\"/>\n",
       "<polygon fill=\"black\" stroke=\"black\" points=\"512.26,-63.16 508.54,-53.24 505.26,-63.31 512.26,-63.16\"/>\n",
       "</g>\n",
       "<!-- 19 -->\n",
       "<g id=\"node20\" class=\"node\">\n",
       "<title>19</title>\n",
       "<polygon fill=\"none\" stroke=\"black\" points=\"673,-53 575,-53 575,0 673,0 673,-53\"/>\n",
       "<text text-anchor=\"middle\" x=\"624\" y=\"-37.8\" font-family=\"Times,serif\" font-size=\"14.00\">gini = 0.046</text>\n",
       "<text text-anchor=\"middle\" x=\"624\" y=\"-22.8\" font-family=\"Times,serif\" font-size=\"14.00\">samples = 58</text>\n",
       "<text text-anchor=\"middle\" x=\"624\" y=\"-7.8\" font-family=\"Times,serif\" font-size=\"14.00\">value = [2, 83]</text>\n",
       "</g>\n",
       "<!-- 17&#45;&gt;19 -->\n",
       "<g id=\"edge19\" class=\"edge\">\n",
       "<title>17&#45;&gt;19</title>\n",
       "<path fill=\"none\" stroke=\"black\" d=\"M549.87,-88.95C561.24,-79.53 573.61,-69.27 584.93,-59.89\"/>\n",
       "<polygon fill=\"black\" stroke=\"black\" points=\"587.49,-62.31 592.95,-53.24 583.02,-56.92 587.49,-62.31\"/>\n",
       "</g>\n",
       "<!-- 21 -->\n",
       "<g id=\"node22\" class=\"node\">\n",
       "<title>21</title>\n",
       "<polygon fill=\"none\" stroke=\"black\" points=\"680,-149.5 582,-149.5 582,-96.5 680,-96.5 680,-149.5\"/>\n",
       "<text text-anchor=\"middle\" x=\"631\" y=\"-134.3\" font-family=\"Times,serif\" font-size=\"14.00\">gini = 0.0</text>\n",
       "<text text-anchor=\"middle\" x=\"631\" y=\"-119.3\" font-family=\"Times,serif\" font-size=\"14.00\">samples = 30</text>\n",
       "<text text-anchor=\"middle\" x=\"631\" y=\"-104.3\" font-family=\"Times,serif\" font-size=\"14.00\">value = [0, 47]</text>\n",
       "</g>\n",
       "<!-- 20&#45;&gt;21 -->\n",
       "<g id=\"edge21\" class=\"edge\">\n",
       "<title>20&#45;&gt;21</title>\n",
       "<path fill=\"none\" stroke=\"black\" d=\"M633.03,-192.88C632.71,-182.22 632.36,-170.35 632.04,-159.52\"/>\n",
       "<polygon fill=\"black\" stroke=\"black\" points=\"635.54,-159.41 631.75,-149.52 628.55,-159.62 635.54,-159.41\"/>\n",
       "</g>\n",
       "<!-- 22 -->\n",
       "<g id=\"node23\" class=\"node\">\n",
       "<title>22</title>\n",
       "<polygon fill=\"none\" stroke=\"black\" points=\"796,-157 698,-157 698,-89 796,-89 796,-157\"/>\n",
       "<text text-anchor=\"middle\" x=\"747\" y=\"-141.8\" font-family=\"Times,serif\" font-size=\"14.00\">X[1] &lt;= 3.462</text>\n",
       "<text text-anchor=\"middle\" x=\"747\" y=\"-126.8\" font-family=\"Times,serif\" font-size=\"14.00\">gini = 0.024</text>\n",
       "<text text-anchor=\"middle\" x=\"747\" y=\"-111.8\" font-family=\"Times,serif\" font-size=\"14.00\">samples = 53</text>\n",
       "<text text-anchor=\"middle\" x=\"747\" y=\"-96.8\" font-family=\"Times,serif\" font-size=\"14.00\">value = [81, 1]</text>\n",
       "</g>\n",
       "<!-- 20&#45;&gt;22 -->\n",
       "<g id=\"edge22\" class=\"edge\">\n",
       "<title>20&#45;&gt;22</title>\n",
       "<path fill=\"none\" stroke=\"black\" d=\"M670.69,-192.88C680.85,-183.71 692,-173.65 702.55,-164.12\"/>\n",
       "<polygon fill=\"black\" stroke=\"black\" points=\"705.03,-166.6 710.11,-157.3 700.34,-161.4 705.03,-166.6\"/>\n",
       "</g>\n",
       "<!-- 23 -->\n",
       "<g id=\"node24\" class=\"node\">\n",
       "<title>23</title>\n",
       "<polygon fill=\"none\" stroke=\"black\" points=\"793,-53 695,-53 695,0 793,0 793,-53\"/>\n",
       "<text text-anchor=\"middle\" x=\"744\" y=\"-37.8\" font-family=\"Times,serif\" font-size=\"14.00\">gini = 0.0</text>\n",
       "<text text-anchor=\"middle\" x=\"744\" y=\"-22.8\" font-family=\"Times,serif\" font-size=\"14.00\">samples = 40</text>\n",
       "<text text-anchor=\"middle\" x=\"744\" y=\"-7.8\" font-family=\"Times,serif\" font-size=\"14.00\">value = [66, 0]</text>\n",
       "</g>\n",
       "<!-- 22&#45;&gt;23 -->\n",
       "<g id=\"edge23\" class=\"edge\">\n",
       "<title>22&#45;&gt;23</title>\n",
       "<path fill=\"none\" stroke=\"black\" d=\"M745.95,-88.95C745.69,-80.72 745.41,-71.85 745.14,-63.48\"/>\n",
       "<polygon fill=\"black\" stroke=\"black\" points=\"748.63,-63.12 744.82,-53.24 741.64,-63.34 748.63,-63.12\"/>\n",
       "</g>\n",
       "<!-- 24 -->\n",
       "<g id=\"node25\" class=\"node\">\n",
       "<title>24</title>\n",
       "<polygon fill=\"none\" stroke=\"black\" points=\"909,-53 811,-53 811,0 909,0 909,-53\"/>\n",
       "<text text-anchor=\"middle\" x=\"860\" y=\"-37.8\" font-family=\"Times,serif\" font-size=\"14.00\">gini = 0.117</text>\n",
       "<text text-anchor=\"middle\" x=\"860\" y=\"-22.8\" font-family=\"Times,serif\" font-size=\"14.00\">samples = 13</text>\n",
       "<text text-anchor=\"middle\" x=\"860\" y=\"-7.8\" font-family=\"Times,serif\" font-size=\"14.00\">value = [15, 1]</text>\n",
       "</g>\n",
       "<!-- 22&#45;&gt;24 -->\n",
       "<g id=\"edge24\" class=\"edge\">\n",
       "<title>22&#45;&gt;24</title>\n",
       "<path fill=\"none\" stroke=\"black\" d=\"M786.52,-88.95C797.79,-79.53 810.05,-69.27 821.27,-59.89\"/>\n",
       "<polygon fill=\"black\" stroke=\"black\" points=\"823.8,-62.34 829.22,-53.24 819.31,-56.97 823.8,-62.34\"/>\n",
       "</g>\n",
       "</g>\n",
       "</svg>\n"
      ],
      "text/plain": [
       "<graphviz.files.Source at 0x7f98662e2190>"
      ]
     },
     "execution_count": 38,
     "metadata": {},
     "output_type": "execute_result"
    }
   ],
   "source": [
    "show_tree( clf.estimators_[0])"
   ]
  },
  {
   "cell_type": "markdown",
   "metadata": {},
   "source": [
    "## Another ensemble method: AdaBoost"
   ]
  },
  {
   "cell_type": "markdown",
   "metadata": {},
   "source": [
    "- Ensemble methods are very important and useful for many applications in biology. \n",
    "- One in particular is considered the __best out-of-the-box ensemble model__ considering various datasets from several areas: __AdaBoosting__ or __Adaptive Boosting__. \n",
    "- The primary idea is to fit an initial tree, and then add more trees paying more attention to those samples that the first trees were not able to classify appropriately. "
   ]
  },
  {
   "cell_type": "markdown",
   "metadata": {},
   "source": [
    "#### Idea of Boosting \n",
    "<div>\n",
    "<img src=\"https://upload.wikimedia.org/wikipedia/commons/thumb/b/b5/Ensemble_Boosting.svg/2880px-Ensemble_Boosting.svg.png\" width=\"600\"/>\n",
    "</div>\n",
    "\n",
    "Each classifier is OK to be a \"weak learner\", just slightly better than random guess. We will train many of them, tweaking so that those misclassified has higher weight. As a whole group, the resulting classifier can be proven to be a strong learner."
   ]
  },
  {
   "cell_type": "markdown",
   "metadata": {},
   "source": [
    "https://scikit-learn.org/stable/modules/generated/sklearn.ensemble.AdaBoostClassifier.html"
   ]
  },
  {
   "cell_type": "code",
   "execution_count": 39,
   "metadata": {},
   "outputs": [],
   "source": [
    "from sklearn.ensemble import AdaBoostClassifier"
   ]
  },
  {
   "cell_type": "code",
   "execution_count": 40,
   "metadata": {},
   "outputs": [
    {
     "data": {
      "text/plain": [
       "1.0"
      ]
     },
     "execution_count": 40,
     "metadata": {},
     "output_type": "execute_result"
    }
   ],
   "source": [
    "clf_adaboost = AdaBoostClassifier(DecisionTreeClassifier(max_depth=2), algorithm=\"SAMME\", n_estimators=200)\n",
    "clf_adaboost.fit( features, labels )\n",
    "clf_adaboost.score(features, labels)"
   ]
  },
  {
   "cell_type": "code",
   "execution_count": 41,
   "metadata": {},
   "outputs": [
    {
     "data": {
      "text/plain": [
       "array([0.47465077, 0.52534923])"
      ]
     },
     "execution_count": 41,
     "metadata": {},
     "output_type": "execute_result"
    }
   ],
   "source": [
    "clf_adaboost.feature_importances_"
   ]
  },
  {
   "cell_type": "code",
   "execution_count": 42,
   "metadata": {},
   "outputs": [
    {
     "name": "stdout",
     "output_type": "stream",
     "text": [
      "Prediction for P1:  [0.]\n",
      "Prediction for P2:  [1.]\n"
     ]
    }
   ],
   "source": [
    "print(\"Prediction for P1: \", clf_adaboost.predict(P1)) # -1, -1\n",
    "print(\"Prediction for P2: \", clf_adaboost.predict(P2)) # -1, 4"
   ]
  },
  {
   "cell_type": "code",
   "execution_count": 43,
   "metadata": {},
   "outputs": [
    {
     "data": {
      "image/png": "[encoded data removed]",
      "text/plain": [
       "<Figure size 432x288 with 1 Axes>"
      ]
     },
     "metadata": {
      "needs_background": "light"
     },
     "output_type": "display_data"
    }
   ],
   "source": [
    "delta = 0.01\n",
    "x     = np.arange(-2.0, 5.001, delta)\n",
    "y     = np.arange(-2.0, 5.001, delta)\n",
    "\n",
    "X, Y = np.meshgrid(x, y)\n",
    "Z    = clf_adaboost.predict( np.c_[X.ravel(), Y.ravel()] )\n",
    "Z    = Z.reshape( X.shape )\n",
    "\n",
    "plt.contourf( X, Y, Z, cmap=plt.get_cmap('jet'))\n",
    "plt.xlim(-2, 5)\n",
    "plt.ylim(-2, 5)\n",
    "\n",
    "plt.xlabel('X1')\n",
    "plt.ylabel('X2')\n",
    "\n",
    "plt.show()"
   ]
  },
  {
   "cell_type": "markdown",
   "metadata": {},
   "source": [
    "###  Scikit-learn Overview\n",
    "\n",
    "Most of the models available in scikit-learn follow a very simple pattern:\n",
    "\n",
    "- `clf = <model_name>(params)`\n",
    "    - Create an object representing the model\n",
    "- `clf.fit(features, labels)`\n",
    "    - Trains the models considering the features as inputs and labels as target\n",
    "- `clf.score(features, labels)`\n",
    "    - Evaluates the model's accuracy considering the samples provided\n",
    "- `clf.predict(data)`\n",
    "    - Predicts the class of the data provided.\n"
   ]
  },
  {
   "cell_type": "markdown",
   "metadata": {},
   "source": [
    "# Support Vector Machines\n",
    "\n",
    "Support Vector Machines (or SVMs) were for a long time the most widely used model in the Machine Learning community.\n",
    "\n",
    "Data are mapped to a point in a space, and we find a boundary so that the examples from different categories are separated by a clear gap, as wide as possible in that space. The mapping is called \"kernel function\".\n",
    "\n",
    "<div>\n",
    "<img src=\"https://upload.wikimedia.org/wikipedia/commons/b/b7/Support_vector_machine.jpg\" width=\"500\"/>\n",
    "</div>\n",
    "\n",
    "\n",
    "\n",
    "https://scikit-learn.org/stable/modules/generated/sklearn.svm.SVC.html\n",
    "\n",
    "We will deal with two hyperparameters: `C` and `gamma`. \n",
    "\n",
    "- `C` controls how much you want to avoid misclassification\n",
    "    - Low `C`, it is less sensitive to misclassification, resulting in simpler boundary\n",
    "    - High `C`, it is more sensitive to misclassification, more complex boundary.\n",
    "\n",
    "- `gamma` controls how far the influence of a single training example reaches, low meaning \"far\", and high meaning \"close\".  \n",
    "    - Low `gamma`, each training example influences points further away, resulting in simpler boundary\n",
    "    - High `gamma`, each training example influences only short distance, resulting in more complex boundary. "
   ]
  },
  {
   "cell_type": "markdown",
   "metadata": {},
   "source": [
    "### Creating and fitting SVM"
   ]
  },
  {
   "cell_type": "code",
   "execution_count": 44,
   "metadata": {},
   "outputs": [],
   "source": [
    "from sklearn.svm import SVC"
   ]
  },
  {
   "cell_type": "code",
   "execution_count": 45,
   "metadata": {},
   "outputs": [
    {
     "name": "stdout",
     "output_type": "stream",
     "text": [
      "0.96\n"
     ]
    }
   ],
   "source": [
    "clf = SVC()\n",
    "clf.fit( features, labels )\n",
    "print( clf.score( features, labels ) )"
   ]
  },
  {
   "cell_type": "markdown",
   "metadata": {},
   "source": [
    "With a high value of `gamma`: "
   ]
  },
  {
   "cell_type": "code",
   "execution_count": 46,
   "metadata": {},
   "outputs": [
    {
     "name": "stdout",
     "output_type": "stream",
     "text": [
      "1.0\n"
     ]
    }
   ],
   "source": [
    "clf = SVC(gamma=10000.)\n",
    "clf.fit( features, labels )\n",
    "print( clf.score( features, labels ) )"
   ]
  },
  {
   "cell_type": "markdown",
   "metadata": {},
   "source": [
    "Let's write a function that automatically draws the decision boundaries for us (this avoids too much replication of code)."
   ]
  },
  {
   "cell_type": "code",
   "execution_count": 47,
   "metadata": {},
   "outputs": [],
   "source": [
    "def plotContours(clf, delta = 0.01):\n",
    "    \n",
    "    x     = np.arange(-2.0, 5.001, delta)\n",
    "    y     = np.arange(-2.0, 5.001, delta)\n",
    "\n",
    "    X, Y = np.meshgrid(x, y)\n",
    "    Z    = clf.predict( np.c_[X.ravel(), Y.ravel()] )\n",
    "    Z    = Z.reshape( X.shape )\n",
    "\n",
    "    plt.contourf( X, Y, Z, cmap=plt.get_cmap('jet'))\n",
    "\n",
    "    plt.xlabel('X1')\n",
    "    plt.ylabel('X2')\n",
    "\n",
    "    plt.show()"
   ]
  },
  {
   "cell_type": "code",
   "execution_count": 48,
   "metadata": {},
   "outputs": [
    {
     "data": {
      "image/png": "[encoded data removed]",
      "text/plain": [
       "<Figure size 432x288 with 1 Axes>"
      ]
     },
     "metadata": {
      "needs_background": "light"
     },
     "output_type": "display_data"
    }
   ],
   "source": [
    "clf = SVC()\n",
    "clf.fit( features, labels )\n",
    "plotContours(clf)"
   ]
  },
  {
   "cell_type": "code",
   "execution_count": 49,
   "metadata": {},
   "outputs": [
    {
     "data": {
      "image/png": "[encoded data removed]",
      "text/plain": [
       "<Figure size 432x288 with 1 Axes>"
      ]
     },
     "metadata": {
      "needs_background": "light"
     },
     "output_type": "display_data"
    }
   ],
   "source": [
    "clf = SVC( C = 1000., gamma = 100. )\n",
    "clf.fit( features, labels )\n",
    "plotContours(clf)"
   ]
  },
  {
   "cell_type": "code",
   "execution_count": 50,
   "metadata": {},
   "outputs": [
    {
     "data": {
      "image/png": "[encoded data removed]",
      "text/plain": [
       "<Figure size 432x288 with 1 Axes>"
      ]
     },
     "metadata": {
      "needs_background": "light"
     },
     "output_type": "display_data"
    }
   ],
   "source": [
    "clf = SVC( C = 1000 ,gamma = 1)\n",
    "clf.fit( features, labels )\n",
    "plotContours(clf)"
   ]
  },
  {
   "cell_type": "code",
   "execution_count": 51,
   "metadata": {},
   "outputs": [
    {
     "data": {
      "image/png": "[encoded data removed]",
      "text/plain": [
       "<Figure size 432x288 with 1 Axes>"
      ]
     },
     "metadata": {
      "needs_background": "light"
     },
     "output_type": "display_data"
    }
   ],
   "source": [
    "clf = SVC( C = 0.02 ,gamma = 1 )\n",
    "clf.fit( features, labels )\n",
    "plotContours(clf)"
   ]
  },
  {
   "cell_type": "code",
   "execution_count": 52,
   "metadata": {},
   "outputs": [
    {
     "data": {
      "image/png": "[encoded data removed]",
      "text/plain": [
       "<Figure size 432x288 with 1 Axes>"
      ]
     },
     "metadata": {
      "needs_background": "light"
     },
     "output_type": "display_data"
    }
   ],
   "source": [
    "clf = SVC( C = 0.5, gamma = 70. )\n",
    "clf.fit( features, labels )\n",
    "plotContours(clf)"
   ]
  },
  {
   "cell_type": "code",
   "execution_count": 53,
   "metadata": {},
   "outputs": [
    {
     "data": {
      "image/png": "[encoded data removed]",
      "text/plain": [
       "<Figure size 432x288 with 1 Axes>"
      ]
     },
     "metadata": {
      "needs_background": "light"
     },
     "output_type": "display_data"
    }
   ],
   "source": [
    "clf = SVC( C = 0.1, gamma = 1. )\n",
    "clf.fit( features, labels )\n",
    "plotContours(clf)"
   ]
  },
  {
   "cell_type": "code",
   "execution_count": 54,
   "metadata": {},
   "outputs": [
    {
     "data": {
      "image/png": "[encoded data removed]",
      "text/plain": [
       "<Figure size 432x288 with 1 Axes>"
      ]
     },
     "metadata": {
      "needs_background": "light"
     },
     "output_type": "display_data"
    }
   ],
   "source": [
    "clf = SVC( C = 0.1, gamma = 0.1 )\n",
    "clf.fit( features, labels )\n",
    "plotContours(clf)"
   ]
  },
  {
   "cell_type": "code",
   "execution_count": 55,
   "metadata": {},
   "outputs": [
    {
     "data": {
      "image/png": "[encoded data removed]",
      "text/plain": [
       "<Figure size 432x288 with 1 Axes>"
      ]
     },
     "metadata": {
      "needs_background": "light"
     },
     "output_type": "display_data"
    }
   ],
   "source": [
    "clf = SVC( C = 1, gamma = 0.01 )\n",
    "clf.fit( features, labels )\n",
    "plotContours(clf)"
   ]
  },
  {
   "cell_type": "markdown",
   "metadata": {},
   "source": [
    "## Fitting the Hyperparameters"
   ]
  },
  {
   "cell_type": "markdown",
   "metadata": {},
   "source": [
    "### Hyperparameters\n",
    "\n",
    "__Hyperparameters__ are the parameters that are used to create a model. `max_depth` of decision tree, `C` and `gamma` in support vector machine, etc. \n",
    "\n",
    "How do we choose them while avoiding underfitting and overfitting?\n",
    "\n",
    "You may be tempted to peek the performance on the test set and calibrate hyperparameter, but that introduces bias, and you might overfit to the test data. Remember, we want our classifiers generalize well to external data points we did not see in the training process. In this section, we cover systematic methods to tune hyperparameters without introducing bias."
   ]
  },
  {
   "cell_type": "markdown",
   "metadata": {},
   "source": [
    "### Train-Validation split\n",
    "\n",
    "- You should not optimize hyperparameter on the same data you used during training -- you need to split the data into two sets again.\n",
    "- So, we further split learning set into training set and validation set. \n",
    "\n",
    "<div>\n",
    "<img src=\"train_validation.png\" width=\"500\"/>\n",
    "</div>\n",
    "\n",
    "We have split the data into three sets \n",
    "- Training set: to fit the model\n",
    "- Validation set: to select hyperparameters\n",
    "- Test set: to evaluate the final performance\n",
    "\n",
    "Caution: do not mix validation set and test set. "
   ]
  },
  {
   "cell_type": "markdown",
   "metadata": {},
   "source": [
    "Next, we split training set and validation set using the function `train_test_split()`."
   ]
  },
  {
   "cell_type": "code",
   "execution_count": 57,
   "metadata": {},
   "outputs": [],
   "source": [
    "from sklearn.model_selection import train_test_split\n",
    "\n",
    "X_train, X_valid, Y_train, Y_valid = train_test_split( \n",
    "        features, labels, test_size=0.33,shuffle=False)"
   ]
  },
  {
   "cell_type": "code",
   "execution_count": 58,
   "metadata": {},
   "outputs": [
    {
     "name": "stdout",
     "output_type": "stream",
     "text": [
      "Shape of the train dataset:  (268, 2)\n",
      "Shape of the validation dataset:  (132, 2)\n"
     ]
    }
   ],
   "source": [
    "print(\"Shape of the train dataset: \", X_train.shape)\n",
    "print(\"Shape of the validation dataset: \", X_valid.shape)"
   ]
  },
  {
   "cell_type": "code",
   "execution_count": 60,
   "metadata": {},
   "outputs": [
    {
     "data": {
      "text/plain": [
       "0.5151515151515151"
      ]
     },
     "execution_count": 60,
     "metadata": {},
     "output_type": "execute_result"
    }
   ],
   "source": [
    "clf = SVC( C = 0.001, gamma = 10. )\n",
    "clf.fit( X_train, Y_train )\n",
    "clf.score(X_valid, Y_valid)"
   ]
  },
  {
   "cell_type": "markdown",
   "metadata": {},
   "source": [
    "Now we compare accuracy on the validation set to choose `gamma`:"
   ]
  },
  {
   "cell_type": "code",
   "execution_count": 61,
   "metadata": {},
   "outputs": [
    {
     "data": {
      "image/png": "[encoded data removed]",
      "text/plain": [
       "<Figure size 432x288 with 1 Axes>"
      ]
     },
     "metadata": {
      "needs_background": "light"
     },
     "output_type": "display_data"
    }
   ],
   "source": [
    "setGammas = np.array( [0.003,0.01,0.03,0.1,0.3,1.0,3.,10.,30.,100.,300] )\n",
    "\n",
    "accuracies = []\n",
    "for gamma in setGammas:\n",
    "    clf = SVC( C = 1., gamma = gamma )\n",
    "    clf.fit( X_train, Y_train )\n",
    "    accuracies.append( clf.score(X_valid, Y_valid) )\n",
    "\n",
    "plt.plot(setGammas, accuracies)\n",
    "\n",
    "plt.ylabel(r'Accuracy') # r'': raw string. backslashes mean backslashes, not escaping.\n",
    "plt.xlabel(r'$\\gamma$')\n",
    "plt.xscale('log')\n",
    "\n",
    "plt.show()"
   ]
  },
  {
   "cell_type": "markdown",
   "metadata": {},
   "source": [
    "Because the splitting is performed at random, to properly estimate accuracy it is ideal perform the train-validation splitting several times."
   ]
  },
  {
   "cell_type": "code",
   "execution_count": 62,
   "metadata": {},
   "outputs": [
    {
     "data": {
      "image/png": "[encoded data removed]",
      "text/plain": [
       "<Figure size 432x288 with 1 Axes>"
      ]
     },
     "metadata": {
      "needs_background": "light"
     },
     "output_type": "display_data"
    }
   ],
   "source": [
    "numRepetitions = 100\n",
    "setGammas = np.array( [0.003,0.01,0.03,0.1,0.3,1.0,3.,10.,30.,100.,300] )\n",
    "\n",
    "accuracies = np.zeros( setGammas.shape )\n",
    "\n",
    "for j in range(numRepetitions):\n",
    "    k = 0\n",
    "    X_train, X_valid, Y_train, Y_valid = train_test_split( features, labels, \n",
    "                                                            test_size=0.33)\n",
    "    for gamma in setGammas:\n",
    "        clf = SVC( C = 1., gamma = gamma )\n",
    "        accuracies[k] += clf.fit( X_train, Y_train ).score(X_valid, Y_valid)\n",
    "        \n",
    "        k += 1\n",
    "\n",
    "accuracies = accuracies / numRepetitions\n",
    "plt.plot(setGammas, accuracies)\n",
    "\n",
    "plt.ylabel(r'Accuracy')\n",
    "plt.xlabel(r'$\\gamma$') \n",
    "plt.xscale('log')\n",
    "\n",
    "plt.show()"
   ]
  },
  {
   "cell_type": "markdown",
   "metadata": {},
   "source": [
    "What would happen if we evaluate performance on training set?"
   ]
  },
  {
   "cell_type": "code",
   "execution_count": 63,
   "metadata": {},
   "outputs": [
    {
     "data": {
      "image/png": "[encoded data removed]",
      "text/plain": [
       "<Figure size 432x288 with 1 Axes>"
      ]
     },
     "metadata": {
      "needs_background": "light"
     },
     "output_type": "display_data"
    }
   ],
   "source": [
    "numRepetitions = 100\n",
    "setGammas = np.array( [0.003,0.01,0.03,0.1,0.3,1.0,3.,10.,30.,100.,300] )\n",
    "\n",
    "accuracies = np.zeros( setGammas.shape )\n",
    "\n",
    "for j in range(numRepetitions):\n",
    "    k = 0\n",
    "    X_train, X_valid, Y_train, Y_valid = train_test_split( features, labels, \n",
    "                                                            test_size=0.33)\n",
    "    for gamma in setGammas:\n",
    "        clf = SVC( C = 1., gamma = gamma )\n",
    "        accuracies[k] += clf.fit( X_train, Y_train ).score(X_train, Y_train) # this line was changed\n",
    "        \n",
    "        k += 1\n",
    "\n",
    "accuracies = accuracies / numRepetitions\n",
    "plt.plot(setGammas, accuracies)\n",
    "\n",
    "plt.ylabel(r'Training Accuracy') # this line is changed\n",
    "plt.xlabel(r'$\\gamma$') \n",
    "plt.xscale('log')\n",
    "\n",
    "plt.show()"
   ]
  },
  {
   "cell_type": "markdown",
   "metadata": {},
   "source": [
    "As you see, the training accuracy monotonically increases, likely to overfit on higher `gamma` when hyperparameters are tuned with training dataset. "
   ]
  },
  {
   "cell_type": "markdown",
   "metadata": {},
   "source": [
    "Estimating the accuracy"
   ]
  },
  {
   "cell_type": "code",
   "execution_count": 64,
   "metadata": {},
   "outputs": [
    {
     "name": "stdout",
     "output_type": "stream",
     "text": [
      "Average accuracy (gamma = 0.5):  0.9504545454545457\n",
      "Average accuracy (gamma = 100.):  0.7777272727272728\n"
     ]
    }
   ],
   "source": [
    "numRepetitions = 100\n",
    "accuracies = np.zeros( numRepetitions )\n",
    "\n",
    "for j in range(numRepetitions):\n",
    "    X_train, X_valid, Y_train, Y_valid = train_test_split( features, labels, \n",
    "                                                            test_size=0.33)\n",
    "    clf = SVC( C = 1., gamma = 0.1 )\n",
    "    clf.fit( X_train, Y_train )\n",
    "    accuracies[j] = clf.score(X_valid, Y_valid)\n",
    "\n",
    "print(r\"Average accuracy (gamma = 0.5): \", accuracies.mean() )\n",
    "\n",
    "\n",
    "for j in range(numRepetitions):\n",
    "    X_train, X_valid, Y_train, Y_valid = train_test_split( features, labels,\n",
    "                                                            test_size=0.33)\n",
    "    clf = SVC( C = 1., gamma = 100. )\n",
    "    clf.fit( X_train, Y_train )\n",
    "    accuracies[j] = clf.score(X_valid, Y_valid)\n",
    "\n",
    "print(\"Average accuracy (gamma = 100.): \", accuracies.mean() )"
   ]
  },
  {
   "cell_type": "markdown",
   "metadata": {},
   "source": [
    "## K-fold cross validation"
   ]
  },
  {
   "cell_type": "markdown",
   "metadata": {},
   "source": [
    "We split learning set into $K$ pieces, and choose one of them as a validation set in a round-robin fashion. \n",
    "\n",
    "<div>\n",
    "<img src=\"cross_validation.png\" width=\"500\"/>\n",
    "</div>\n",
    "Choose the best performing hyperparameter on average. "
   ]
  },
  {
   "cell_type": "code",
   "execution_count": 65,
   "metadata": {},
   "outputs": [],
   "source": [
    "from sklearn.model_selection import KFold"
   ]
  },
  {
   "cell_type": "markdown",
   "metadata": {},
   "source": [
    "For each fold of cross validation, scikit-learn provides indices for the samples for training set and validation set. "
   ]
  },
  {
   "cell_type": "code",
   "execution_count": 66,
   "metadata": {},
   "outputs": [
    {
     "name": "stdout",
     "output_type": "stream",
     "text": [
      "0.92\n",
      "0.95\n",
      "0.96\n",
      "0.98\n"
     ]
    }
   ],
   "source": [
    "kf = KFold(n_splits=4)\n",
    "\n",
    "for train_index, valid_index in kf.split( features ):\n",
    "    X_train = features[train_index]\n",
    "    X_valid  = features[valid_index]\n",
    "    Y_train = labels[train_index]\n",
    "    Y_valid  = labels[valid_index]\n",
    "    \n",
    "    clf = SVC( C = 1., gamma = 0.5 )\n",
    "    clf.fit( X_train, Y_train )\n",
    "    print( clf.score(X_valid, Y_valid) )"
   ]
  },
  {
   "cell_type": "markdown",
   "metadata": {},
   "source": [
    "By programming, you will need to collect the scores for each fold, and for each pair of $(C, \\gamma)$ you test. Then decide which value of the tuning parameter is the best. This is left as an exercise. "
   ]
  },
  {
   "cell_type": "markdown",
   "metadata": {},
   "source": [
    "## Evaluating performances of the classifiers"
   ]
  },
  {
   "cell_type": "markdown",
   "metadata": {},
   "source": [
    "### Assessing the prediction\n",
    "To assess performance of a classifier, we need to compare the classifiers' predictions to the ground truth. \n",
    "\n",
    "Assume binary classification between classes 1 (positive) and 0 (negative). Ground truth means the true label.| \n",
    "\n",
    "  | Predicted \\ Ground truth | Class 1 | Class 0 |\n",
    "  |:---:|:---:|:---:|\n",
    "  | Class 1 | true positive (TP) | false positive (FP) |\n",
    "  | Class 0 | false negative (FN) | true negative (TN) |\n",
    "  \n",
    "- __Accuracy__: most commonly used. (#TP + #TN) / (#TP + #FP + #TN + #FN)\n",
    "    - `score()` method usually computes accuracy for classifiers. Or, one may use the function `accuracy_score()`.\n",
    "    - Not always the best measure. \n",
    "        - e.g. in classification of malignant/benign cells, if 1% of the cells are malignant, what is the accuracy of the classifier that always predicts a cell to be benign?\n",
    "\n",
    "### Precision and Recall\n",
    "\n",
    "Precision and recall are also important, especially depending on application domain. \n",
    "- __Precision (positive predictive value)__: Among those you predicted to be relevant, how many are actually relevant? #TP / (#TP + #FP)\n",
    "    - `precision_score()`\n",
    "- __Recall (sensitivity)__: How many relevant elements did you catch? #TP / (#TP + #FN)\n",
    "    - `recall_score()`\n",
    "\n",
    "<div>\n",
    "<img src=\"https://upload.wikimedia.org/wikipedia/commons/thumb/2/26/Precisionrecall.svg/1024px-Precisionrecall.svg.png\" width=\"300\"/>\n",
    "</div>\n"
   ]
  },
  {
   "cell_type": "markdown",
   "metadata": {},
   "source": [
    "- __F-score__: Harmonic mean of precision and recall\n",
    "$$F_1 = \\frac{2 \\times precision \\times recall}{precision + recall}$$\n",
    "    - `f1_score()`\n",
    "\n",
    "or more generally, with weight $\\beta$: \n",
    "$$F_\\beta = \\frac{(1 + \\beta^2) \\times precision \\times recall}{\\beta^2 \\times precision + recall},$$  \"measures the effectiveness of retrieval with respect to a user who attaches β times as much importance to recall as precision\" \n",
    "\n",
    "(Van Rijsbergen, C. J. (1979). Information Retrieval (2nd ed.). Butterworth-Heinemann.)"
   ]
  },
  {
   "cell_type": "markdown",
   "metadata": {},
   "source": [
    "Depending on your application, you may need to choose the most appropriate metrics when selecting which model to use.\n",
    "\n",
    "- If TP and TF have no big difference, accuracy is OK.\n",
    "- Is missing a TP a great risk? F1-score is a good choice. \n",
    "\n",
    "In medicine, precision and F1-score are often used for the analysis of prognosis performance."
   ]
  },
  {
   "cell_type": "code",
   "execution_count": 67,
   "metadata": {},
   "outputs": [],
   "source": [
    "from sklearn.metrics import accuracy_score\n",
    "from sklearn.metrics import precision_score\n",
    "from sklearn.metrics import recall_score\n",
    "from sklearn.metrics import f1_score"
   ]
  },
  {
   "cell_type": "markdown",
   "metadata": {},
   "source": [
    "We evaluate them on the test set: final test! \n",
    "\n",
    "We fit the model on the entire learning set with the selected hyperparameters, then evaluate the performance on the test set. "
   ]
  },
  {
   "cell_type": "code",
   "execution_count": 68,
   "metadata": {},
   "outputs": [
    {
     "name": "stdout",
     "output_type": "stream",
     "text": [
      "Accuracy:  0.96\n",
      "Precision:  0.9565217391304348\n",
      "Recall:  0.9565217391304348\n",
      "F1-score:  0.9565217391304348\n"
     ]
    }
   ],
   "source": [
    "clf = RandomForestClassifier( n_estimators = 50 )\n",
    "clf.fit( features, labels )\n",
    "\n",
    "print(\"Accuracy: \", accuracy_score(labels_test, clf.predict(features_test)))\n",
    "print(\"Precision: \", precision_score(labels_test, clf.predict(features_test)))\n",
    "print(\"Recall: \", recall_score(labels_test, clf.predict(features_test)))\n",
    "print(\"F1-score: \", f1_score(labels_test, clf.predict(features_test)))"
   ]
  },
  {
   "cell_type": "code",
   "execution_count": 69,
   "metadata": {},
   "outputs": [
    {
     "name": "stdout",
     "output_type": "stream",
     "text": [
      "Accuracy:  0.96\n",
      "Precision:  0.9772727272727273\n",
      "Recall:  0.9347826086956522\n",
      "F1-score:  0.9555555555555557\n"
     ]
    }
   ],
   "source": [
    "clf = SVC( C = 1., gamma = 1.)\n",
    "clf.fit( features, labels )        \n",
    "        \n",
    "print(\"Accuracy: \", accuracy_score(labels_test, clf.predict(features_test)))\n",
    "print(\"Precision: \", precision_score(labels_test, clf.predict(features_test)))\n",
    "print(\"Recall: \", recall_score(labels_test, clf.predict(features_test)))\n",
    "print(\"F1-score: \", f1_score(labels_test, clf.predict(features_test)))"
   ]
  },
  {
   "cell_type": "markdown",
   "metadata": {},
   "source": [
    " "
   ]
  }
 ],
 "metadata": {
  "kernelspec": {
   "display_name": "Python 3",
   "language": "python",
   "name": "python3"
  },
  "language_info": {
   "codemirror_mode": {
    "name": "ipython",
    "version": 3
   },
   "file_extension": ".py",
   "mimetype": "text/x-python",
   "name": "python",
   "nbconvert_exporter": "python",
   "pygments_lexer": "ipython3",
   "version": "3.8.10"
  }
 },
 "nbformat": 4,
 "nbformat_minor": 4
}
