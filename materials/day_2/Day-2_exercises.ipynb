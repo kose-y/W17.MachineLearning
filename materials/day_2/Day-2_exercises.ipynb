{
 "cells": [
  {
   "cell_type": "markdown",
   "id": "eae98827-a552-4548-b9bf-9dedac84724a",
   "metadata": {},
   "source": [
    "<br />\n",
    "<br />\n",
    "\n",
    "# Exercises: Day 2\n",
    "\n",
    "<br />\n",
    "\n",
    "This notebook contains exercises for Day 2. If you are taking this workshop for UCLA credits, you will need to submit this notebook and the one for tomorrow as your homework. Please submit BOTH `.ipynb` file and the HTML (`.html`) file converted from this notebook. (`File > Export Notebook As... > HTML`)"
   ]
  },
  {
   "cell_type": "markdown",
   "id": "8dac4073-79fc-4a94-907f-0cf80155b2df",
   "metadata": {},
   "source": [
    "## Exercise 1: Wisconsin Breast Cancer dataset\n",
    "\n",
    "Repeat what we did in the class for the Wisconsin Breast Cancer dataset we used on Day 1. "
   ]
  },
  {
   "cell_type": "code",
   "execution_count": null,
   "id": "d6b8a878-6d5e-4839-893b-6dd93d074bec",
   "metadata": {},
   "outputs": [],
   "source": [
    "from sklearn.datasets import load_breast_cancer\n",
    "bcancer = load_breast_cancer()"
   ]
  },
  {
   "cell_type": "markdown",
   "id": "e14a8401-36d2-4163-a626-733a98ec5d10",
   "metadata": {},
   "source": [
    "### 0) Split out the test data first."
   ]
  },
  {
   "cell_type": "markdown",
   "id": "f4fd9d28-8f0d-4e6e-a13f-b9e9ceff3fd3",
   "metadata": {},
   "source": [
    "### 1) Fit a random forest using this data."
   ]
  },
  {
   "cell_type": "markdown",
   "id": "e339b02b-0ba3-4604-9d5b-808d84070ed1",
   "metadata": {},
   "source": [
    "### 2) Choose hyperparameter `max_depth` using the validation set method. "
   ]
  },
  {
   "cell_type": "markdown",
   "id": "945dc946-983f-4b62-8947-5fcf9441669a",
   "metadata": {},
   "source": [
    "### 3) Choose hyperparameter `max_depth` using 4-fold cross validation."
   ]
  },
  {
   "cell_type": "markdown",
   "id": "155aac23-ee87-4b1d-a088-83ace11b1279",
   "metadata": {},
   "source": [
    "### 4) Check the final performance with the test set."
   ]
  },
  {
   "cell_type": "markdown",
   "id": "a138a7c9-8667-4bcd-9e7d-67f702f29de5",
   "metadata": {},
   "source": [
    "## Exercise 2: Banana dataset"
   ]
  },
  {
   "cell_type": "markdown",
   "id": "c914dfa2-0121-4a99-a7b9-643ae9d1e4db",
   "metadata": {},
   "source": [
    "The banana dataset is included in this directory in `banana_dataset.csv`. The first column contains labels, and the remaining columns are two features. This is a comma-separated file, so you will need to use the keyword parameter `delimiter=','` in `np.loadtxt()`.  "
   ]
  },
  {
   "cell_type": "markdown",
   "id": "f5021d00-f009-46cb-b973-d1894b3f488b",
   "metadata": {},
   "source": [
    "### 0) Read in the data, and split out the test data."
   ]
  },
  {
   "cell_type": "code",
   "execution_count": null,
   "id": "9daf9487-8467-46d6-b381-de38db681c6e",
   "metadata": {},
   "outputs": [],
   "source": [
    "import numpy as np\n",
    "bdataset = # Fill in here\n",
    "print(\"Shape of the bdataset: \", bdataset.shape )"
   ]
  },
  {
   "cell_type": "code",
   "execution_count": null,
   "id": "697f9728-c072-43a9-8fb2-97af19693f8c",
   "metadata": {},
   "outputs": [],
   "source": [
    "bfeat = bdataset[:,1:]\n",
    "blabl = bdataset[:,0]"
   ]
  },
  {
   "cell_type": "markdown",
   "id": "d661c900-2c51-4a21-b502-59ef6af0f9f9",
   "metadata": {},
   "source": [
    "### 1) Fit a support vector classifier with this data. "
   ]
  },
  {
   "cell_type": "markdown",
   "id": "b873bfdb-cd6f-4b63-8dff-8f81c1dcf82a",
   "metadata": {},
   "source": [
    "### 2) Choose hyperparameters $\\beta$ and $C$ using validation set. "
   ]
  },
  {
   "cell_type": "markdown",
   "id": "ad6ef97d-9f0c-4d5b-ac79-1495088dffd1",
   "metadata": {},
   "source": [
    "### 3) Choose hyperparameters $\\beta$ and $C$ using 4-fold cross validation."
   ]
  },
  {
   "cell_type": "markdown",
   "id": "b705ff4b-0ae0-4aeb-9cc3-f97db8422c4f",
   "metadata": {},
   "source": [
    "### 4) Check the final performance with the test set."
   ]
  },
  {
   "cell_type": "code",
   "execution_count": null,
   "id": "85a83c53-65dd-4c89-8453-0a5f29ddf133",
   "metadata": {},
   "outputs": [],
   "source": []
  }
 ],
 "metadata": {
  "kernelspec": {
   "display_name": "Python 3",
   "language": "python",
   "name": "python3"
  },
  "language_info": {
   "codemirror_mode": {
    "name": "ipython",
    "version": 3
   },
   "file_extension": ".py",
   "mimetype": "text/x-python",
   "name": "python",
   "nbconvert_exporter": "python",
   "pygments_lexer": "ipython3",
   "version": "3.8.10"
  }
 },
 "nbformat": 4,
 "nbformat_minor": 5
}
